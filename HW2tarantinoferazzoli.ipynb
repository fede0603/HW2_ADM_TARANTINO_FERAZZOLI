{
 "cells": [
  {
   "cell_type": "markdown",
   "id": "565b9dc7",
   "metadata": {},
   "source": [
    "# HOMEWORK 2 ADM"
   ]
  },
  {
   "cell_type": "code",
   "execution_count": 1,
   "id": "2bae1095",
   "metadata": {},
   "outputs": [],
   "source": [
    "import pandas as pd\n",
    "import numpy as np\n",
    "import matplotlib.pyplot as plt\n",
    "import seaborn as sns\n",
    "from datetime import timedelta"
   ]
  },
  {
   "cell_type": "code",
   "execution_count": 2,
   "id": "08dd280a",
   "metadata": {},
   "outputs": [
    {
     "data": {
      "text/html": [
       "<style type='text/css'>\n",
       ".datatable table.frame { margin-bottom: 0; }\n",
       ".datatable table.frame thead { border-bottom: none; }\n",
       ".datatable table.frame tr.coltypes td {  color: #FFFFFF;  line-height: 6px;  padding: 0 0.5em;}\n",
       ".datatable .bool    { background: #DDDD99; }\n",
       ".datatable .object  { background: #565656; }\n",
       ".datatable .int     { background: #5D9E5D; }\n",
       ".datatable .float   { background: #4040CC; }\n",
       ".datatable .str     { background: #CC4040; }\n",
       ".datatable .time    { background: #40CC40; }\n",
       ".datatable .row_index {  background: var(--jp-border-color3);  border-right: 1px solid var(--jp-border-color0);  color: var(--jp-ui-font-color3);  font-size: 9px;}\n",
       ".datatable .frame tbody td { text-align: left; }\n",
       ".datatable .frame tr.coltypes .row_index {  background: var(--jp-border-color0);}\n",
       ".datatable th:nth-child(2) { padding-left: 12px; }\n",
       ".datatable .hellipsis {  color: var(--jp-cell-editor-border-color);}\n",
       ".datatable .vellipsis {  background: var(--jp-layout-color0);  color: var(--jp-cell-editor-border-color);}\n",
       ".datatable .na {  color: var(--jp-cell-editor-border-color);  font-size: 80%;}\n",
       ".datatable .sp {  opacity: 0.25;}\n",
       ".datatable .footer { font-size: 9px; }\n",
       ".datatable .frame_dimensions {  background: var(--jp-border-color3);  border-top: 1px solid var(--jp-border-color0);  color: var(--jp-ui-font-color3);  display: inline-block;  opacity: 0.6;  padding: 1px 10px 1px 5px;}\n",
       "</style>\n"
      ],
      "text/plain": [
       "<IPython.core.display.HTML object>"
      ]
     },
     "metadata": {},
     "output_type": "display_data"
    }
   ],
   "source": [
    "import datatable as dt "
   ]
  },
  {
   "cell_type": "markdown",
   "id": "f7cbb8c3",
   "metadata": {},
   "source": [
    "## RQ1 - Exploratory Data Analysis"
   ]
  },
  {
   "cell_type": "markdown",
   "id": "5420bf18",
   "metadata": {},
   "source": [
    "#### After collecting information, the Data Scientists have to know what dataset they are dealing with, so let's start with an Exploratory Data Analysis (EDA). What can you say about our datasets? Please summarise its main characteristics with visual and tabular methods."
   ]
  },
  {
   "cell_type": "markdown",
   "id": "cd53eca6",
   "metadata": {},
   "source": [
    "### First dataset: locations.csv"
   ]
  },
  {
   "cell_type": "code",
   "execution_count": 3,
   "id": "1f68f741",
   "metadata": {},
   "outputs": [],
   "source": [
    "locations = pd.read_csv('~/instagram_locations.csv', delimiter = '\\t')"
   ]
  },
  {
   "cell_type": "markdown",
   "id": "a111aa10",
   "metadata": {},
   "source": [
    "#### Let's have a look on data structure by printing first 10 rows"
   ]
  },
  {
   "cell_type": "code",
   "execution_count": 4,
   "id": "4c106f71",
   "metadata": {},
   "outputs": [
    {
     "name": "stdout",
     "output_type": "stream",
     "text": [
      "       sid                id  \\\n",
      "0   719981   110296492939207   \n",
      "1   719983         274391278   \n",
      "2   719985   148885595789195   \n",
      "3   719987         263258277   \n",
      "4   326443   406147529857708   \n",
      "5   326440   242403516699715   \n",
      "6   719988  1651686855080719   \n",
      "7   719992         240487083   \n",
      "8   719996   750669435108256   \n",
      "9   719998         223283275   \n",
      "10  720000   470291196648741   \n",
      "11  720005        1012918773   \n",
      "12  720010   106138559940320   \n",
      "13  720012  1037352423133758   \n",
      "14  720018   502193830174960   \n",
      "15  720020         266433053   \n",
      "16  719994   192183691327708   \n",
      "17  720003         845293065   \n",
      "18  720008         657798683   \n",
      "19  720006   460858927655552   \n",
      "\n",
      "                                                 name  \\\n",
      "0                  Playa de Daimuz - Valencia, España   \n",
      "1                                         Nová Vieska   \n",
      "2                                       Everest Today   \n",
      "3   BULAC - Bibliothèque universitaire des langues...   \n",
      "4                            ABC Cable Networks Group   \n",
      "5                          The Lakes at Discovery Bay   \n",
      "6                                 Tampines, Singapore   \n",
      "7                          Sittano’s Bar & Restaurant   \n",
      "8                                 วัดท่าซุง อุทัยธานี   \n",
      "9                                          Cine Atlas   \n",
      "10                                         NKA Makeup   \n",
      "11                        Love You To the Moon & Back   \n",
      "12                            Hankyu Department Store   \n",
      "13                                Champagne Supernova   \n",
      "14                           Amelie's Cafe & Creamery   \n",
      "15                            Imsouane, Agadir, Maroc   \n",
      "16                                Calligaris New York   \n",
      "17                                      North Wembley   \n",
      "18     Агалатовская Средняя Общеобразовательная школа   \n",
      "19                                     Головачева, 17   \n",
      "\n",
      "                                               street     zip  \\\n",
      "0                                                 NaN     NaN   \n",
      "1                                                 NaN     NaN   \n",
      "2                                           Himalayas    +977   \n",
      "3                          65, rue des Grands-Moulins   75013   \n",
      "4                                  3800 W Alameda Ave   91505   \n",
      "5                                                 NaN     NaN   \n",
      "6                                            Tampines  529941   \n",
      "7   Shop R03 Westfield Penrith, Level 1 / Riley St...    2750   \n",
      "8                                                3212   61000   \n",
      "9                                Hatanpään valtatie 1   33100   \n",
      "10                                    Mario Bravo 849     NaN   \n",
      "11                          17775  Pleasant Valley Dr   48044   \n",
      "12                                          北区角田町8-7      NaN   \n",
      "13                                                NaN   92108   \n",
      "14            6,Seshadri Road, Venus Colony, Alwarpet  600018   \n",
      "15                                                NaN     NaN   \n",
      "16                               220 East 57th Street   10022   \n",
      "17                                                NaN     NaN   \n",
      "18                                                NaN  188653   \n",
      "19                                     Головачева, 17     NaN   \n",
      "\n",
      "                               city region   cd           phone  \\\n",
      "0                               NaN    NaN  NaN             NaN   \n",
      "1                       Nová Vieska    NaN   SK             NaN   \n",
      "2                  Kathmandu, Nepal    NaN   NP             NaN   \n",
      "3                     Paris, France    NaN   FR  01 81 69 18 00   \n",
      "4               Burbank, California    NaN   US  (818) 569-7500   \n",
      "5                               NaN    NaN  NaN  (925) 308-3883   \n",
      "6                         Singapore    NaN   SG             NaN   \n",
      "7          Penrith, New South Wales    NaN   AU      0247224444   \n",
      "8   Nam Soem, Uthai Thani, Thailand    NaN   TH      0854623871   \n",
      "9                  Tampere, Finland    NaN   FI             NaN   \n",
      "10          Buenos Aires, Argentina    NaN   AR             NaN   \n",
      "11                 Macomb, Michigan    NaN   US  (586) 263-1398   \n",
      "12                            Osaka    NaN   JP    +81663611381   \n",
      "13            San Diego, California    NaN   US             NaN   \n",
      "14      Alwarpet, Tamil Nadu, India    NaN   IN  +91 6374449078   \n",
      "15  Aftas Imsouane, Agadir, Morocco    NaN   MA             NaN   \n",
      "16               New York, New York    NaN   US  (212) 966-8188   \n",
      "17           London, United Kingdom    NaN   GB             NaN   \n",
      "18                              NaN    NaN  NaN             NaN   \n",
      "19                   Moscow, Russia    NaN   RU             NaN   \n",
      "\n",
      "   aj_exact_city_match  ...               dir_city_name  \\\n",
      "0                False  ...                         NaN   \n",
      "1                 True  ...                  Kis-Újfalu   \n",
      "2                False  ...                    Pasupati   \n",
      "3                False  ...  13ème Arrondissement Paris   \n",
      "4                False  ...                         NaN   \n",
      "5                  NaN  ...                         NaN   \n",
      "6                False  ...                         NaN   \n",
      "7                False  ...                     Penrith   \n",
      "8                False  ...                         NaN   \n",
      "9                False  ...                         NaN   \n",
      "10               False  ...                         NaN   \n",
      "11               False  ...                         NaN   \n",
      "12               False  ...                         NaN   \n",
      "13               False  ...                         NaN   \n",
      "14               False  ...                         NaN   \n",
      "15               False  ...                         NaN   \n",
      "16               False  ...                         NaN   \n",
      "17               False  ...                     Preston   \n",
      "18               False  ...                    Ohalatva   \n",
      "19               False  ...                     Chagina   \n",
      "\n",
      "                 dir_city_slug dir_country_id dir_country_name         lat  \\\n",
      "0                          NaN            NaN              NaN   -0.139475   \n",
      "1                   kis-ujfalu             SK         Slovakia   18.466667   \n",
      "2                     pasupati             NP            Nepal   85.330150   \n",
      "3   13eme-arrondissement-paris             FR           France    2.375995   \n",
      "4                          NaN            NaN              NaN -118.341864   \n",
      "5                          NaN            NaN              NaN -121.621549   \n",
      "6                          NaN            NaN              NaN  103.949729   \n",
      "7                      penrith             AU        Australia  150.694367   \n",
      "8                          NaN            NaN              NaN  100.073586   \n",
      "9                          NaN            NaN              NaN   23.766263   \n",
      "10                         NaN            NaN              NaN  -58.416060   \n",
      "11                         NaN            NaN              NaN  -82.945289   \n",
      "12                         NaN            NaN              NaN  135.498125   \n",
      "13                         NaN            NaN              NaN -117.183833   \n",
      "14                         NaN            NaN              NaN   80.255821   \n",
      "15                         NaN            NaN              NaN   -9.820747   \n",
      "16                         NaN            NaN              NaN  -73.966730   \n",
      "17                     preston             GB   United Kingdom   -0.304000   \n",
      "18                    ohalatva             RU           Russia   30.287350   \n",
      "19                     chagina             RU           Russia   37.812170   \n",
      "\n",
      "          lng     primary_alias_on_fb  \\\n",
      "0   38.974391             daimuzplaya   \n",
      "1   47.866667                     NaN   \n",
      "2   27.701960            EverestToday   \n",
      "3   48.827240             BULAC.Paris   \n",
      "4   34.153265                     NaN   \n",
      "5   37.925412  TheLakesatDiscoveryBay   \n",
      "6    1.355203       TampinesZingapurA   \n",
      "7  -33.751031                Sittanos   \n",
      "8   15.329776                     NaN   \n",
      "9   61.495690                     NaN   \n",
      "10 -34.600030            nkamakeuparg   \n",
      "11  42.666886                     NaN   \n",
      "12  34.702604                     NaN   \n",
      "13  32.760358                     NaN   \n",
      "14  13.039932          amelieschennai   \n",
      "15  30.840807     ImsouaneAgadirMaroc   \n",
      "16  40.759730                     NaN   \n",
      "17  51.562700                     NaN   \n",
      "18  60.220410                     NaN   \n",
      "19  55.673120                     NaN   \n",
      "\n",
      "                                                 slug  \\\n",
      "0                     playa-de-daimuz-valencia-espana   \n",
      "1                                         nova-vieska   \n",
      "2                                       everest-today   \n",
      "3   bulac-bibliotheque-universitaire-des-langues-e...   \n",
      "4                            abc-cable-networks-group   \n",
      "5                          the-lakes-at-discovery-bay   \n",
      "6                                  tampines-singapore   \n",
      "7                             sittanos-bar-restaurant   \n",
      "8                                                 NaN   \n",
      "9                                          cine-atlas   \n",
      "10                                         nka-makeup   \n",
      "11                          love-you-to-the-moon-back   \n",
      "12                            hankyu-department-store   \n",
      "13                                champagne-supernova   \n",
      "14                              amelies-cafe-creamery   \n",
      "15                              imsouane-agadir-maroc   \n",
      "16                                calligaris-new-york   \n",
      "17                                      north-wembley   \n",
      "18                                                NaN   \n",
      "19                                                 17   \n",
      "\n",
      "                                              website                      cts  \n",
      "0                https://es.wikipedia.org/wiki/Daimuz  2019-05-29 01:21:29.987  \n",
      "1                                                 NaN  2019-05-29 01:21:38.037  \n",
      "2                                                 NaN  2019-05-29 01:21:46.295  \n",
      "3                                        www.bulac.fr  2019-05-29 01:21:54.355  \n",
      "4                                                 NaN  2019-04-02 15:22:55.703  \n",
      "5                      www.TheLakesatDiscoveryBay.com  2019-04-02 15:22:55.367  \n",
      "6                                                 NaN  2019-05-29 01:21:56.635  \n",
      "7                         http://www.sittanos.com.au/  2019-05-29 01:22:12.909  \n",
      "8                           http://www.watthasung.com  2019-05-29 01:22:27.749  \n",
      "9   http://www.finnkino.fi/cinemas/tampere_cine_atlas  2019-05-29 01:22:35.936  \n",
      "10                                                NaN  2019-05-29 01:22:45.129  \n",
      "11                                                NaN  2019-05-29 01:23:01.733  \n",
      "12                         http://www.kyogashi.co.jp/  2019-05-29 01:23:25.995  \n",
      "13                                                NaN  2019-05-29 01:23:34.850  \n",
      "14                                                NaN  2019-05-29 01:23:53.711  \n",
      "15                                                NaN  2019-05-29 01:24:00.871  \n",
      "16                                                NaN  2019-05-29 01:22:20.504  \n",
      "17  http://fa.wikipedia.org/wiki/index.html?curid=...  2019-05-29 01:22:53.438  \n",
      "18                                                NaN  2019-05-29 01:23:17.178  \n",
      "19                                                NaN  2019-05-29 01:23:08.458  \n",
      "\n",
      "[20 rows x 23 columns]\n"
     ]
    }
   ],
   "source": [
    "print(locations.head(20))"
   ]
  },
  {
   "cell_type": "markdown",
   "id": "5916cca6",
   "metadata": {},
   "source": [
    "#### Columns of dataset"
   ]
  },
  {
   "cell_type": "code",
   "execution_count": 12,
   "id": "7fa5fe25",
   "metadata": {},
   "outputs": [
    {
     "name": "stdout",
     "output_type": "stream",
     "text": [
      "23\n"
     ]
    },
    {
     "data": {
      "text/plain": [
       "Index(['sid', 'id', 'name', 'street', 'zip', 'city', 'region', 'cd', 'phone',\n",
       "       'aj_exact_city_match', 'aj_exact_country_match', 'blurb', 'dir_city_id',\n",
       "       'dir_city_name', 'dir_city_slug', 'dir_country_id', 'dir_country_name',\n",
       "       'lat', 'lng', 'primary_alias_on_fb', 'slug', 'website', 'cts'],\n",
       "      dtype='object')"
      ]
     },
     "execution_count": 12,
     "metadata": {},
     "output_type": "execute_result"
    }
   ],
   "source": [
    "print(len(locations.columns))\n",
    "locations.columns"
   ]
  },
  {
   "cell_type": "markdown",
   "id": "fde25e4f",
   "metadata": {},
   "source": [
    "#### Columns info"
   ]
  },
  {
   "cell_type": "markdown",
   "id": "c41cf067",
   "metadata": {},
   "source": [
    "Starting the Exploratory Data Analysis from \"locations\", it's possible to visualize that the observations given in this dataset are analysed considering 23 variables. "
   ]
  },
  {
   "cell_type": "code",
   "execution_count": 32,
   "id": "445c4ab9",
   "metadata": {},
   "outputs": [
    {
     "name": "stdout",
     "output_type": "stream",
     "text": [
      "<class 'pandas.core.frame.DataFrame'>\n",
      "RangeIndex: 1022658 entries, 0 to 1022657\n",
      "Data columns (total 23 columns):\n",
      " #   Column                  Non-Null Count    Dtype  \n",
      "---  ------                  --------------    -----  \n",
      " 0   sid                     1022658 non-null  int64  \n",
      " 1   id                      1022658 non-null  int64  \n",
      " 2   name                    1022658 non-null  object \n",
      " 3   street                  715704 non-null   object \n",
      " 4   zip                     715579 non-null   object \n",
      " 5   city                    937166 non-null   object \n",
      " 6   region                  1760 non-null     object \n",
      " 7   cd                      939010 non-null   object \n",
      " 8   phone                   601688 non-null   object \n",
      " 9   aj_exact_city_match     1000510 non-null  object \n",
      " 10  aj_exact_country_match  1000510 non-null  object \n",
      " 11  blurb                   406705 non-null   object \n",
      " 12  dir_city_id             495698 non-null   object \n",
      " 13  dir_city_name           495698 non-null   object \n",
      " 14  dir_city_slug           495221 non-null   object \n",
      " 15  dir_country_id          495628 non-null   object \n",
      " 16  dir_country_name        495698 non-null   object \n",
      " 17  lat                     1016495 non-null  float64\n",
      " 18  lng                     1016495 non-null  float64\n",
      " 19  primary_alias_on_fb     425531 non-null   object \n",
      " 20  slug                    941668 non-null   object \n",
      " 21  website                 623262 non-null   object \n",
      " 22  cts                     1022658 non-null  object \n",
      "dtypes: float64(2), int64(2), object(19)\n",
      "memory usage: 179.5+ MB\n"
     ]
    }
   ],
   "source": [
    "locations.info()"
   ]
  },
  {
   "cell_type": "markdown",
   "id": "1b1e84fa",
   "metadata": {},
   "source": [
    "#### Let's have a look on null values "
   ]
  },
  {
   "cell_type": "code",
   "execution_count": 20,
   "id": "4a52f438",
   "metadata": {},
   "outputs": [
    {
     "data": {
      "text/plain": [
       "sid                             0\n",
       "id                              0\n",
       "name                            0\n",
       "street                     306954\n",
       "zip                        307079\n",
       "city                        85492\n",
       "region                    1020898\n",
       "cd                          83648\n",
       "phone                      420970\n",
       "aj_exact_city_match         22148\n",
       "aj_exact_country_match      22148\n",
       "blurb                      615953\n",
       "dir_city_id                526960\n",
       "dir_city_name              526960\n",
       "dir_city_slug              527437\n",
       "dir_country_id             527030\n",
       "dir_country_name           526960\n",
       "lat                          6163\n",
       "lng                          6163\n",
       "primary_alias_on_fb        597127\n",
       "slug                        80990\n",
       "website                    399396\n",
       "cts                             0\n",
       "dtype: int64"
      ]
     },
     "execution_count": 20,
     "metadata": {},
     "output_type": "execute_result"
    }
   ],
   "source": [
    "locations.isna().sum()"
   ]
  },
  {
   "cell_type": "markdown",
   "id": "e508c861",
   "metadata": {},
   "source": [
    "The variable with the most non-available values is \"region\" (the name of the region). Every image has a Sequence ID, Instagrams ID and locations name."
   ]
  },
  {
   "cell_type": "code",
   "execution_count": 21,
   "id": "eb987e31",
   "metadata": {},
   "outputs": [
    {
     "data": {
      "text/plain": [
       "Series([], dtype: float64)"
      ]
     },
     "execution_count": 21,
     "metadata": {},
     "output_type": "execute_result"
    }
   ],
   "source": [
    "locations.value_counts(normalize = True)"
   ]
  },
  {
   "cell_type": "markdown",
   "id": "54f5d0ef",
   "metadata": {},
   "source": [
    "### Second dataset: profiles.csv"
   ]
  },
  {
   "cell_type": "code",
   "execution_count": 52,
   "id": "630699ae",
   "metadata": {},
   "outputs": [],
   "source": [
    "instagram_profiles = pd.read_csv('~/instagram_profiles.csv', delimiter='\\t')\n",
    "#instagram_profiles.dropna()"
   ]
  },
  {
   "cell_type": "code",
   "execution_count": 25,
   "id": "3aa56062",
   "metadata": {},
   "outputs": [
    {
     "name": "stdout",
     "output_type": "stream",
     "text": [
      "11\n"
     ]
    },
    {
     "data": {
      "text/plain": [
       "Index(['sid', 'profile_id', 'profile_name', 'firstname_lastname',\n",
       "       'description', 'following', 'followers', 'n_posts', 'url', 'cts',\n",
       "       'is_business_account'],\n",
       "      dtype='object')"
      ]
     },
     "execution_count": 25,
     "metadata": {},
     "output_type": "execute_result"
    }
   ],
   "source": [
    "print(len(instagram_profiles.columns))\n",
    "instagram_profiles.columns"
   ]
  },
  {
   "cell_type": "code",
   "execution_count": 28,
   "id": "c4f14a95",
   "metadata": {
    "scrolled": true
   },
   "outputs": [
    {
     "data": {
      "text/html": [
       "<div>\n",
       "<style scoped>\n",
       "    .dataframe tbody tr th:only-of-type {\n",
       "        vertical-align: middle;\n",
       "    }\n",
       "\n",
       "    .dataframe tbody tr th {\n",
       "        vertical-align: top;\n",
       "    }\n",
       "\n",
       "    .dataframe thead th {\n",
       "        text-align: right;\n",
       "    }\n",
       "</style>\n",
       "<table border=\"1\" class=\"dataframe\">\n",
       "  <thead>\n",
       "    <tr style=\"text-align: right;\">\n",
       "      <th></th>\n",
       "      <th>sid</th>\n",
       "      <th>profile_id</th>\n",
       "      <th>following</th>\n",
       "      <th>followers</th>\n",
       "      <th>n_posts</th>\n",
       "    </tr>\n",
       "  </thead>\n",
       "  <tbody>\n",
       "    <tr>\n",
       "      <th>count</th>\n",
       "      <td>4,509,586.00</td>\n",
       "      <td>4,477,139.00</td>\n",
       "      <td>3,452,771.00</td>\n",
       "      <td>3,452,771.00</td>\n",
       "      <td>3,452,771.00</td>\n",
       "    </tr>\n",
       "    <tr>\n",
       "      <th>mean</th>\n",
       "      <td>2,255,991.72</td>\n",
       "      <td>3,083,301,899.75</td>\n",
       "      <td>1,405.64</td>\n",
       "      <td>4,739.90</td>\n",
       "      <td>409.54</td>\n",
       "    </tr>\n",
       "    <tr>\n",
       "      <th>std</th>\n",
       "      <td>1,301,806.65</td>\n",
       "      <td>42,665,750,578.32</td>\n",
       "      <td>8,113.47</td>\n",
       "      <td>193,908.71</td>\n",
       "      <td>1,041.94</td>\n",
       "    </tr>\n",
       "    <tr>\n",
       "      <th>min</th>\n",
       "      <td>1,186.00</td>\n",
       "      <td>4.00</td>\n",
       "      <td>0.00</td>\n",
       "      <td>0.00</td>\n",
       "      <td>0.00</td>\n",
       "    </tr>\n",
       "    <tr>\n",
       "      <th>25%</th>\n",
       "      <td>1,128,596.25</td>\n",
       "      <td>273,517,749.00</td>\n",
       "      <td>356.00</td>\n",
       "      <td>159.00</td>\n",
       "      <td>22.00</td>\n",
       "    </tr>\n",
       "    <tr>\n",
       "      <th>50%</th>\n",
       "      <td>2,255,992.50</td>\n",
       "      <td>1,649,248,274.00</td>\n",
       "      <td>754.00</td>\n",
       "      <td>406.00</td>\n",
       "      <td>120.00</td>\n",
       "    </tr>\n",
       "    <tr>\n",
       "      <th>75%</th>\n",
       "      <td>3,383,388.75</td>\n",
       "      <td>5,514,690,705.50</td>\n",
       "      <td>1,573.00</td>\n",
       "      <td>974.00</td>\n",
       "      <td>420.00</td>\n",
       "    </tr>\n",
       "    <tr>\n",
       "      <th>max</th>\n",
       "      <td>4,510,785.00</td>\n",
       "      <td>90,010,129,721,363.00</td>\n",
       "      <td>4,191,080.00</td>\n",
       "      <td>285,457,645.00</td>\n",
       "      <td>183,730.00</td>\n",
       "    </tr>\n",
       "  </tbody>\n",
       "</table>\n",
       "</div>"
      ],
      "text/plain": [
       "                sid             profile_id     following       followers  \\\n",
       "count  4,509,586.00           4,477,139.00  3,452,771.00    3,452,771.00   \n",
       "mean   2,255,991.72       3,083,301,899.75      1,405.64        4,739.90   \n",
       "std    1,301,806.65      42,665,750,578.32      8,113.47      193,908.71   \n",
       "min        1,186.00                   4.00          0.00            0.00   \n",
       "25%    1,128,596.25         273,517,749.00        356.00          159.00   \n",
       "50%    2,255,992.50       1,649,248,274.00        754.00          406.00   \n",
       "75%    3,383,388.75       5,514,690,705.50      1,573.00          974.00   \n",
       "max    4,510,785.00  90,010,129,721,363.00  4,191,080.00  285,457,645.00   \n",
       "\n",
       "            n_posts  \n",
       "count  3,452,771.00  \n",
       "mean         409.54  \n",
       "std        1,041.94  \n",
       "min            0.00  \n",
       "25%           22.00  \n",
       "50%          120.00  \n",
       "75%          420.00  \n",
       "max      183,730.00  "
      ]
     },
     "execution_count": 28,
     "metadata": {},
     "output_type": "execute_result"
    }
   ],
   "source": [
    "instagram_profiles.describe().applymap('{:,.2f}'.format)"
   ]
  },
  {
   "cell_type": "markdown",
   "id": "f0b74e63",
   "metadata": {},
   "source": [
    "Regarding Instagrams profiles, it's possible to say that, on average, a Istagrams profile is approximately followed by 4700 other profiles and follows 1400 profiles circa, with an average numer of posts approximately equal to 409. In this case mean is not a robust index: there are few instagrams profiles with so many followers such that mean is raised. 75% of instagrams profiles, indeed are followed by less than 1573 profiles and have less than 420 posts. "
   ]
  },
  {
   "cell_type": "code",
   "execution_count": 29,
   "id": "e4daf9aa",
   "metadata": {},
   "outputs": [
    {
     "data": {
      "text/plain": [
       "sid                          0\n",
       "profile_id               32447\n",
       "profile_name                 0\n",
       "firstname_lastname      288465\n",
       "description            2055996\n",
       "following              1056815\n",
       "followers              1056815\n",
       "n_posts                1056815\n",
       "url                    3639312\n",
       "cts                     438488\n",
       "is_business_account    1064263\n",
       "dtype: int64"
      ]
     },
     "execution_count": 29,
     "metadata": {},
     "output_type": "execute_result"
    }
   ],
   "source": [
    "instagram_profiles.isna().sum()"
   ]
  },
  {
   "cell_type": "markdown",
   "id": "e0194727",
   "metadata": {},
   "source": [
    "Relevant is the number of non-available observations for the variables \"following\", \"followers\" and \"n_posts\": there are 1056815 profiles with these missing values.  "
   ]
  },
  {
   "cell_type": "markdown",
   "id": "a0f47e29",
   "metadata": {},
   "source": [
    "### Third dataset: posts.csv"
   ]
  },
  {
   "cell_type": "code",
   "execution_count": 6,
   "id": "3bd2fc78",
   "metadata": {},
   "outputs": [],
   "source": [
    "instagram_posts = pd.read_csv('~/instagram_posts.csv', delimiter='\\t', nrows=500000)"
   ]
  },
  {
   "cell_type": "code",
   "execution_count": 9,
   "id": "9c92387f",
   "metadata": {},
   "outputs": [
    {
     "data": {
      "text/plain": [
       "Index(['sid', 'sid_profile', 'post_id', 'profile_id', 'location_id', 'cts',\n",
       "       'post_type', 'description', 'numbr_likes', 'number_comments'],\n",
       "      dtype='object')"
      ]
     },
     "execution_count": 9,
     "metadata": {},
     "output_type": "execute_result"
    }
   ],
   "source": [
    "print\n",
    "instagram_posts.columns"
   ]
  },
  {
   "cell_type": "code",
   "execution_count": 7,
   "id": "f055644b",
   "metadata": {},
   "outputs": [
    {
     "data": {
      "text/html": [
       "<div>\n",
       "<style scoped>\n",
       "    .dataframe tbody tr th:only-of-type {\n",
       "        vertical-align: middle;\n",
       "    }\n",
       "\n",
       "    .dataframe tbody tr th {\n",
       "        vertical-align: top;\n",
       "    }\n",
       "\n",
       "    .dataframe thead th {\n",
       "        text-align: right;\n",
       "    }\n",
       "</style>\n",
       "<table border=\"1\" class=\"dataframe\">\n",
       "  <thead>\n",
       "    <tr style=\"text-align: right;\">\n",
       "      <th></th>\n",
       "      <th>sid</th>\n",
       "      <th>sid_profile</th>\n",
       "      <th>profile_id</th>\n",
       "      <th>location_id</th>\n",
       "      <th>post_type</th>\n",
       "      <th>numbr_likes</th>\n",
       "      <th>number_comments</th>\n",
       "    </tr>\n",
       "  </thead>\n",
       "  <tbody>\n",
       "    <tr>\n",
       "      <th>count</th>\n",
       "      <td>500,000.00</td>\n",
       "      <td>500,000.00</td>\n",
       "      <td>500,000.00</td>\n",
       "      <td>499,994.00</td>\n",
       "      <td>500,000.00</td>\n",
       "      <td>500,000.00</td>\n",
       "      <td>500,000.00</td>\n",
       "    </tr>\n",
       "    <tr>\n",
       "      <th>mean</th>\n",
       "      <td>28,340,422.39</td>\n",
       "      <td>215,508.07</td>\n",
       "      <td>3,004,308,390.97</td>\n",
       "      <td>245,457,275,343,937.56</td>\n",
       "      <td>1.06</td>\n",
       "      <td>325.34</td>\n",
       "      <td>7.69</td>\n",
       "    </tr>\n",
       "    <tr>\n",
       "      <th>std</th>\n",
       "      <td>1,891,547.03</td>\n",
       "      <td>791,453.05</td>\n",
       "      <td>3,479,353,659.77</td>\n",
       "      <td>524,028,692,864,305.56</td>\n",
       "      <td>0.24</td>\n",
       "      <td>6,068.89</td>\n",
       "      <td>231.95</td>\n",
       "    </tr>\n",
       "    <tr>\n",
       "      <th>min</th>\n",
       "      <td>32,458.00</td>\n",
       "      <td>-1.00</td>\n",
       "      <td>4.00</td>\n",
       "      <td>1,321.00</td>\n",
       "      <td>1.00</td>\n",
       "      <td>0.00</td>\n",
       "      <td>0.00</td>\n",
       "    </tr>\n",
       "    <tr>\n",
       "      <th>25%</th>\n",
       "      <td>28,482,599.75</td>\n",
       "      <td>-1.00</td>\n",
       "      <td>282,258,640.00</td>\n",
       "      <td>260,757,081.00</td>\n",
       "      <td>1.00</td>\n",
       "      <td>19.00</td>\n",
       "      <td>0.00</td>\n",
       "    </tr>\n",
       "    <tr>\n",
       "      <th>50%</th>\n",
       "      <td>28,614,360.50</td>\n",
       "      <td>-1.00</td>\n",
       "      <td>1,522,598,633.00</td>\n",
       "      <td>415,575,863.00</td>\n",
       "      <td>1.00</td>\n",
       "      <td>47.00</td>\n",
       "      <td>1.00</td>\n",
       "    </tr>\n",
       "    <tr>\n",
       "      <th>75%</th>\n",
       "      <td>28,746,630.25</td>\n",
       "      <td>-1.00</td>\n",
       "      <td>4,831,593,968.00</td>\n",
       "      <td>208,450,099,943,711.00</td>\n",
       "      <td>1.00</td>\n",
       "      <td>126.00</td>\n",
       "      <td>5.00</td>\n",
       "    </tr>\n",
       "    <tr>\n",
       "      <th>max</th>\n",
       "      <td>28,920,014.00</td>\n",
       "      <td>4,510,554.00</td>\n",
       "      <td>14,401,288,185.00</td>\n",
       "      <td>2,974,610,149,231,405.00</td>\n",
       "      <td>3.00</td>\n",
       "      <td>1,963,123.00</td>\n",
       "      <td>135,221.00</td>\n",
       "    </tr>\n",
       "  </tbody>\n",
       "</table>\n",
       "</div>"
      ],
      "text/plain": [
       "                 sid   sid_profile         profile_id  \\\n",
       "count     500,000.00    500,000.00         500,000.00   \n",
       "mean   28,340,422.39    215,508.07   3,004,308,390.97   \n",
       "std     1,891,547.03    791,453.05   3,479,353,659.77   \n",
       "min        32,458.00         -1.00               4.00   \n",
       "25%    28,482,599.75         -1.00     282,258,640.00   \n",
       "50%    28,614,360.50         -1.00   1,522,598,633.00   \n",
       "75%    28,746,630.25         -1.00   4,831,593,968.00   \n",
       "max    28,920,014.00  4,510,554.00  14,401,288,185.00   \n",
       "\n",
       "                    location_id   post_type   numbr_likes number_comments  \n",
       "count                499,994.00  500,000.00    500,000.00      500,000.00  \n",
       "mean     245,457,275,343,937.56        1.06        325.34            7.69  \n",
       "std      524,028,692,864,305.56        0.24      6,068.89          231.95  \n",
       "min                    1,321.00        1.00          0.00            0.00  \n",
       "25%              260,757,081.00        1.00         19.00            0.00  \n",
       "50%              415,575,863.00        1.00         47.00            1.00  \n",
       "75%      208,450,099,943,711.00        1.00        126.00            5.00  \n",
       "max    2,974,610,149,231,405.00        3.00  1,963,123.00      135,221.00  "
      ]
     },
     "execution_count": 7,
     "metadata": {},
     "output_type": "execute_result"
    }
   ],
   "source": [
    "instagram_posts.describe().applymap('{:,.2f}'.format)"
   ]
  },
  {
   "cell_type": "markdown",
   "id": "164aa4e2",
   "metadata": {},
   "source": [
    "Even in this case, if you observe the values of the third quartiles and the mean it's possible to conclude that mean is not a robust index: 75% of Instagrams posts have less than 126 likes, while mean is between 300 and 400 likes per post. It means that a few posts get high number of likes, distording means value. "
   ]
  },
  {
   "cell_type": "code",
   "execution_count": 8,
   "id": "b9bc2848",
   "metadata": {},
   "outputs": [
    {
     "data": {
      "text/plain": [
       "sid                    0\n",
       "sid_profile            0\n",
       "post_id                0\n",
       "profile_id             0\n",
       "location_id            6\n",
       "cts                    0\n",
       "post_type              0\n",
       "description        41515\n",
       "numbr_likes            0\n",
       "number_comments        0\n",
       "dtype: int64"
      ]
     },
     "execution_count": 8,
     "metadata": {},
     "output_type": "execute_result"
    }
   ],
   "source": [
    "instagram_posts.isna().sum()"
   ]
  },
  {
   "cell_type": "markdown",
   "id": "d761436d",
   "metadata": {},
   "source": [
    "The only missing values belong to description and location_id variables. "
   ]
  },
  {
   "cell_type": "markdown",
   "id": "4d333cdc",
   "metadata": {},
   "source": [
    "# Research question 2\n",
    "### Let's explore the dataset by finding simple insights regarding the profile and posts."
   ]
  },
  {
   "cell_type": "markdown",
   "id": "62317bf4",
   "metadata": {},
   "source": [
    "#### - Plot the number of posts for each profile in descending order"
   ]
  },
  {
   "cell_type": "code",
   "execution_count": 13,
   "id": "fd502b51",
   "metadata": {
    "scrolled": true
   },
   "outputs": [],
   "source": [
    "data = instagram_profiles.sort_values(['n_posts'], ascending = [False])"
   ]
  },
  {
   "cell_type": "code",
   "execution_count": 18,
   "id": "c6a4a253",
   "metadata": {},
   "outputs": [
    {
     "data": {
      "text/plain": [
       "<AxesSubplot: xlabel=' profile', ylabel='number_post'>"
      ]
     },
     "execution_count": 18,
     "metadata": {},
     "output_type": "execute_result"
    },
    {
     "data": {
      "image/png": "[encoded data removed]",
      "text/plain": [
       "<Figure size 640x480 with 1 Axes>"
      ]
     },
     "metadata": {},
     "output_type": "display_data"
    }
   ],
   "source": [
    "data[:100].plot(\"profile_name\", \"n_posts\", kind =\"line\", xticks=[], xlabel =\" profile\" , ylabel= \"number_post\")"
   ]
  },
  {
   "cell_type": "markdown",
   "id": "ab57ed33",
   "metadata": {},
   "source": [
    "After creating a dataset with the number of posts per-profile in descending order, it's possible to get plots. The  plot we got was obtained observing the fist 100 profiles for number of posts: each of them has more than 40000 posts, with the first-one that has more than 180000 posts. "
   ]
  },
  {
   "cell_type": "markdown",
   "id": "21887c9e",
   "metadata": {},
   "source": [
    "### What posts have the highest number of \"likes\"?"
   ]
  },
  {
   "cell_type": "code",
   "execution_count": 34,
   "id": "5fbbe5f8",
   "metadata": {},
   "outputs": [
    {
     "data": {
      "text/html": [
       "<div>\n",
       "<style scoped>\n",
       "    .dataframe tbody tr th:only-of-type {\n",
       "        vertical-align: middle;\n",
       "    }\n",
       "\n",
       "    .dataframe tbody tr th {\n",
       "        vertical-align: top;\n",
       "    }\n",
       "\n",
       "    .dataframe thead th {\n",
       "        text-align: right;\n",
       "    }\n",
       "</style>\n",
       "<table border=\"1\" class=\"dataframe\">\n",
       "  <thead>\n",
       "    <tr style=\"text-align: right;\">\n",
       "      <th></th>\n",
       "      <th>post_id</th>\n",
       "      <th>numbr_likes</th>\n",
       "    </tr>\n",
       "  </thead>\n",
       "  <tbody>\n",
       "    <tr>\n",
       "      <th>19624085</th>\n",
       "      <td>Bt3yaXmAM0d</td>\n",
       "      <td>8822952.0</td>\n",
       "    </tr>\n",
       "    <tr>\n",
       "      <th>19623988</th>\n",
       "      <td>BuwffB7g8cK</td>\n",
       "      <td>5447066.0</td>\n",
       "    </tr>\n",
       "    <tr>\n",
       "      <th>19624082</th>\n",
       "      <td>Buc1gyZAaMQ</td>\n",
       "      <td>5116398.0</td>\n",
       "    </tr>\n",
       "    <tr>\n",
       "      <th>19623986</th>\n",
       "      <td>BvcukE8AMuG</td>\n",
       "      <td>4271466.0</td>\n",
       "    </tr>\n",
       "    <tr>\n",
       "      <th>39701024</th>\n",
       "      <td>BqSLFVBFLfq</td>\n",
       "      <td>4264745.0</td>\n",
       "    </tr>\n",
       "  </tbody>\n",
       "</table>\n",
       "</div>"
      ],
      "text/plain": [
       "              post_id  numbr_likes\n",
       "19624085  Bt3yaXmAM0d    8822952.0\n",
       "19623988  BuwffB7g8cK    5447066.0\n",
       "19624082  Buc1gyZAaMQ    5116398.0\n",
       "19623986  BvcukE8AMuG    4271466.0\n",
       "39701024  BqSLFVBFLfq    4264745.0"
      ]
     },
     "execution_count": 34,
     "metadata": {},
     "output_type": "execute_result"
    }
   ],
   "source": [
    "instagram_posts = pd.read_csv('~/instagram_posts.csv', delimiter='\\t', usecols = ['numbr_likes', 'post_id'])\n",
    "instagram_posts.sort_values(by='numbr_likes', ascending=False).head(5)\n"
   ]
  },
  {
   "cell_type": "markdown",
   "id": "2bd185ea",
   "metadata": {},
   "source": [
    "### What posts have the most and the least number of comments?"
   ]
  },
  {
   "cell_type": "code",
   "execution_count": 35,
   "id": "07d3b339",
   "metadata": {},
   "outputs": [
    {
     "data": {
      "text/html": [
       "<div>\n",
       "<style scoped>\n",
       "    .dataframe tbody tr th:only-of-type {\n",
       "        vertical-align: middle;\n",
       "    }\n",
       "\n",
       "    .dataframe tbody tr th {\n",
       "        vertical-align: top;\n",
       "    }\n",
       "\n",
       "    .dataframe thead th {\n",
       "        text-align: right;\n",
       "    }\n",
       "</style>\n",
       "<table border=\"1\" class=\"dataframe\">\n",
       "  <thead>\n",
       "    <tr style=\"text-align: right;\">\n",
       "      <th></th>\n",
       "      <th>post_id</th>\n",
       "      <th>number_comments</th>\n",
       "    </tr>\n",
       "  </thead>\n",
       "  <tbody>\n",
       "    <tr>\n",
       "      <th>3319</th>\n",
       "      <td>BfrIDlygv1G</td>\n",
       "      <td>1340</td>\n",
       "    </tr>\n",
       "  </tbody>\n",
       "</table>\n",
       "</div>"
      ],
      "text/plain": [
       "          post_id  number_comments\n",
       "3319  BfrIDlygv1G             1340"
      ]
     },
     "execution_count": 35,
     "metadata": {},
     "output_type": "execute_result"
    }
   ],
   "source": [
    "instagram_posts = pd.read_csv('~/instagram_posts.csv', delimiter='\\t', usecols = ['number_comments', 'post_id'], nrows = 5000)\n",
    "#instagram_posts['number_comments'].max()\n",
    "minn = instagram_posts.sort_values(by='number_comments',ascending=True).head(1)\n",
    "maxn =  instagram_posts.sort_values(by='number_comments',ascending=True).tail(1)\n",
    "minn \n",
    "maxn #post with the most number of comments"
   ]
  },
  {
   "cell_type": "markdown",
   "id": "355d6f70",
   "metadata": {},
   "source": [
    "### How many posts include tagged locations, and how many do not? Show it using an appropriate chart and comment your results."
   ]
  },
  {
   "cell_type": "code",
   "execution_count": 4,
   "id": "cf61335c",
   "metadata": {},
   "outputs": [],
   "source": [
    "instagram_posts = pd.read_csv('~/instagram_posts.csv', delimiter='\\t', usecols = ['location_id'])"
   ]
  },
  {
   "cell_type": "code",
   "execution_count": 5,
   "id": "6a259df9",
   "metadata": {},
   "outputs": [
    {
     "data": {
      "image/png": "[encoded data removed]",
      "text/plain": [
       "<Figure size 432x288 with 1 Axes>"
      ]
     },
     "metadata": {
      "needs_background": "light"
     },
     "output_type": "display_data"
    }
   ],
   "source": [
    "null = instagram_posts['location_id'].isna().sum()\n",
    "notnull = instagram_posts['location_id'].notna().sum()\n",
    "df = pd.DataFrame({'not located/located':['not located', 'located'], '':[notnull, null]})\n",
    "ax = df.plot.bar(x='not located/located', y='',rot =0, title = \"Posts with tagged location and not (scaled)\"  )\n",
    "plt.show()"
   ]
  },
  {
   "cell_type": "markdown",
   "id": "6561cd7a",
   "metadata": {},
   "source": [
    "Adding a location to an Instagram photo or video can be useful for letting your followers know where you are, without indicating it in the caption. Looking the chart of the number of posts with tagged / no-tagged location, the number of not located posts is more than twice the one of located posts."
   ]
  },
  {
   "cell_type": "markdown",
   "id": "e64ee7a9",
   "metadata": {},
   "source": [
    "### How many posts include only photos? How many also have videos?\n"
   ]
  },
  {
   "cell_type": "code",
   "execution_count": 43,
   "id": "d2198eb2",
   "metadata": {},
   "outputs": [
    {
     "name": "stdout",
     "output_type": "stream",
     "text": [
      "41534486 1134768 40943\n"
     ]
    }
   ],
   "source": [
    "instagram_posts = pd.read_csv('~/instagram_posts.csv', delimiter='\\t', usecols = ['post_type'])\n",
    "\n",
    "first = sum((instagram_posts['post_type'])==1)\n",
    "second = sum((instagram_posts['post_type'])==2)\n",
    "third = sum((instagram_posts['post_type'])==3)\n",
    "print(first, second, third)"
   ]
  },
  {
   "cell_type": "markdown",
   "id": "b1cf6abf",
   "metadata": {},
   "source": [
    "Posts with only photos are 41534486, while posts with only videos are 1134768. "
   ]
  },
  {
   "cell_type": "markdown",
   "id": "0c766085",
   "metadata": {},
   "source": [
    "### What's the percentage of business accounts vs non-business? What can you interpret regarding that percentage?\n"
   ]
  },
  {
   "cell_type": "code",
   "execution_count": 209,
   "id": "2ba13b5b",
   "metadata": {},
   "outputs": [
    {
     "data": {
      "text/plain": [
       "<AxesSubplot:ylabel='is_business_account'>"
      ]
     },
     "execution_count": 209,
     "metadata": {},
     "output_type": "execute_result"
    },
    {
     "data": {
      "image/png": "[encoded data removed]",
      "text/plain": [
       "<Figure size 432x288 with 1 Axes>"
      ]
     },
     "metadata": {},
     "output_type": "display_data"
    }
   ],
   "source": [
    "percentage = instagram_profiles.is_business_account.dropna().value_counts(normalize = True)*100\n",
    "percentage.plot.pie()\n"
   ]
  },
  {
   "cell_type": "markdown",
   "id": "46977777",
   "metadata": {},
   "source": [
    "The percentage of business accounts is 25%, versus the 75% of non business accounts. Who Needs a Business Instagram Account? Anyone using an Instagram marketing strategy should consider a business account, even if you're only trying to improve your organic reach. In particular, retailers and service providers will benefit from creating an Instagram business account.\n",
    "This percentge highlights the fact that the most of the people uses Instagram not for working or doesn't have an activity linked to Instagram world. Nowadays there are more users on instagram with a personal account than those with the business account, this probably because working through social networks is still new. In the next few years this percentage will probably change with the increase of \"social work\"."
   ]
  },
  {
   "cell_type": "markdown",
   "id": "04d48f13",
   "metadata": {},
   "source": [
    "# Research question 3\n",
    "### Now it's important to understand the most common times in which users publish their posts"
   ]
  },
  {
   "cell_type": "markdown",
   "id": "c11fdf3d",
   "metadata": {},
   "source": [
    "### What is the most common time in which users publish their posts?"
   ]
  },
  {
   "cell_type": "markdown",
   "id": "fefb8605",
   "metadata": {},
   "source": [
    "After converting 'cts' to a DateTime format and creating a new column for the hours, it's possible to find the most common time in which users publish their posts.  "
   ]
  },
  {
   "cell_type": "code",
   "execution_count": 6,
   "id": "b2935fe2",
   "metadata": {},
   "outputs": [
    {
     "data": {
      "text/html": [
       "<div>\n",
       "<style scoped>\n",
       "    .dataframe tbody tr th:only-of-type {\n",
       "        vertical-align: middle;\n",
       "    }\n",
       "\n",
       "    .dataframe tbody tr th {\n",
       "        vertical-align: top;\n",
       "    }\n",
       "\n",
       "    .dataframe thead th {\n",
       "        text-align: right;\n",
       "    }\n",
       "</style>\n",
       "<table border=\"1\" class=\"dataframe\">\n",
       "  <thead>\n",
       "    <tr style=\"text-align: right;\">\n",
       "      <th></th>\n",
       "      <th>post_id</th>\n",
       "      <th>cts</th>\n",
       "    </tr>\n",
       "  </thead>\n",
       "  <tbody>\n",
       "    <tr>\n",
       "      <th>0</th>\n",
       "      <td>BXdjjUlgcgq</td>\n",
       "      <td>2017-08-06 20:06:57.000</td>\n",
       "    </tr>\n",
       "    <tr>\n",
       "      <th>1</th>\n",
       "      <td>BVg0pbolYBC</td>\n",
       "      <td>2017-06-19 09:31:16.000</td>\n",
       "    </tr>\n",
       "    <tr>\n",
       "      <th>2</th>\n",
       "      <td>BRgkjcXFp3Q</td>\n",
       "      <td>2017-03-11 20:05:03.000</td>\n",
       "    </tr>\n",
       "    <tr>\n",
       "      <th>3</th>\n",
       "      <td>BKTKeNhjEA7</td>\n",
       "      <td>2016-09-13 16:27:16.000</td>\n",
       "    </tr>\n",
       "    <tr>\n",
       "      <th>4</th>\n",
       "      <td>8-NQrvoYLX</td>\n",
       "      <td>2015-10-18 10:19:27.000</td>\n",
       "    </tr>\n",
       "    <tr>\n",
       "      <th>...</th>\n",
       "      <td>...</td>\n",
       "      <td>...</td>\n",
       "    </tr>\n",
       "    <tr>\n",
       "      <th>499995</th>\n",
       "      <td>Bgdrw_sBvq-</td>\n",
       "      <td>2018-03-18 13:01:16.000</td>\n",
       "    </tr>\n",
       "    <tr>\n",
       "      <th>499996</th>\n",
       "      <td>BkwJ6u9h1Td</td>\n",
       "      <td>2018-07-03 04:16:38.000</td>\n",
       "    </tr>\n",
       "    <tr>\n",
       "      <th>499997</th>\n",
       "      <td>Bx3O0qqBY9v</td>\n",
       "      <td>2019-05-25 01:02:19.000</td>\n",
       "    </tr>\n",
       "    <tr>\n",
       "      <th>499998</th>\n",
       "      <td>Bqf4IxQg4vF</td>\n",
       "      <td>2018-11-22 22:41:47.000</td>\n",
       "    </tr>\n",
       "    <tr>\n",
       "      <th>499999</th>\n",
       "      <td>BVLekLdg1EK</td>\n",
       "      <td>2017-06-11 02:34:15.000</td>\n",
       "    </tr>\n",
       "  </tbody>\n",
       "</table>\n",
       "<p>500000 rows × 2 columns</p>\n",
       "</div>"
      ],
      "text/plain": [
       "            post_id                      cts\n",
       "0       BXdjjUlgcgq  2017-08-06 20:06:57.000\n",
       "1       BVg0pbolYBC  2017-06-19 09:31:16.000\n",
       "2       BRgkjcXFp3Q  2017-03-11 20:05:03.000\n",
       "3       BKTKeNhjEA7  2016-09-13 16:27:16.000\n",
       "4        8-NQrvoYLX  2015-10-18 10:19:27.000\n",
       "...             ...                      ...\n",
       "499995  Bgdrw_sBvq-  2018-03-18 13:01:16.000\n",
       "499996  BkwJ6u9h1Td  2018-07-03 04:16:38.000\n",
       "499997  Bx3O0qqBY9v  2019-05-25 01:02:19.000\n",
       "499998  Bqf4IxQg4vF  2018-11-22 22:41:47.000\n",
       "499999  BVLekLdg1EK  2017-06-11 02:34:15.000\n",
       "\n",
       "[500000 rows x 2 columns]"
      ]
     },
     "execution_count": 6,
     "metadata": {},
     "output_type": "execute_result"
    }
   ],
   "source": [
    "posts_times = pd.read_csv('~/instagram_posts.csv', delimiter=\"\\t\", usecols = ['post_id', 'cts'], nrows =500000)\n",
    "posts_times"
   ]
  },
  {
   "cell_type": "code",
   "execution_count": 9,
   "id": "8d6d78e7",
   "metadata": {},
   "outputs": [
    {
     "data": {
      "text/plain": [
       "0        2017-08-06 20:06:57\n",
       "1        2017-06-19 09:31:16\n",
       "2        2017-03-11 20:05:03\n",
       "3        2016-09-13 16:27:16\n",
       "4        2015-10-18 10:19:27\n",
       "                 ...        \n",
       "499995   2018-03-18 13:01:16\n",
       "499996   2018-07-03 04:16:38\n",
       "499997   2019-05-25 01:02:19\n",
       "499998   2018-11-22 22:41:47\n",
       "499999   2017-06-11 02:34:15\n",
       "Name: cts, Length: 500000, dtype: datetime64[ns]"
      ]
     },
     "execution_count": 9,
     "metadata": {},
     "output_type": "execute_result"
    }
   ],
   "source": [
    "# convert 'cts' to a Datetime format\n",
    "posts_times.cts = pd.to_datetime(posts_times.cts)\n",
    "posts_times.cts"
   ]
  },
  {
   "cell_type": "code",
   "execution_count": 10,
   "id": "5cd89f18",
   "metadata": {},
   "outputs": [
    {
     "data": {
      "text/plain": [
       "0         20\n",
       "1          9\n",
       "2         20\n",
       "3         16\n",
       "4         10\n",
       "          ..\n",
       "499995    13\n",
       "499996     4\n",
       "499997     1\n",
       "499998    22\n",
       "499999     2\n",
       "Name: hour, Length: 500000, dtype: int64"
      ]
     },
     "execution_count": 10,
     "metadata": {},
     "output_type": "execute_result"
    }
   ],
   "source": [
    "# create a new column for the hours\n",
    "posts_times['hour'] = posts_times.cts.dt.hour\n",
    "posts_times['hour']"
   ]
  },
  {
   "cell_type": "code",
   "execution_count": 11,
   "id": "8dad5045",
   "metadata": {},
   "outputs": [
    {
     "data": {
      "text/plain": [
       "19"
      ]
     },
     "execution_count": 11,
     "metadata": {},
     "output_type": "execute_result"
    }
   ],
   "source": [
    "posts_times['hour'].value_counts().idxmax() "
   ]
  },
  {
   "cell_type": "markdown",
   "id": "5a095194",
   "metadata": {},
   "source": [
    "We find out that the most common time for publishing photos is 7:00 p.m."
   ]
  },
  {
   "cell_type": "markdown",
   "id": "e11513d8",
   "metadata": {},
   "source": [
    "### Create a function that receives a time intervals list as a parameter and returns a plot with the number of posts for each given interval.\n",
    "#### Use the function that you created in the previous literal to plot the number of posts between the following time intervals:\n"
   ]
  },
  {
   "cell_type": "markdown",
   "id": "e4c0d3cf",
   "metadata": {},
   "source": [
    "----Initial time    ----Final time\n",
    "  \n",
    "    06:00:00\t10:59:59\n",
    "    11:00:00\t13:59:59\n",
    "    14:00:00\t16:59:59\n",
    "    17:00:00\t19:59:59\n",
    "    20:00:00\t23:59:59\n",
    "    00:00:00\t02:59:59\n",
    "    03:00:00\t05:59:59"
   ]
  },
  {
   "cell_type": "code",
   "execution_count": 12,
   "id": "c4e46c50",
   "metadata": {},
   "outputs": [],
   "source": [
    "def plot_posts_time(time_intervals):\n",
    "    results = {}\n",
    "    for x in slots:\n",
    "        results[x]= len(posts_times[(posts_times.hour >= x[0]) & (posts_times.hour <= x[1])])\n",
    "        \n",
    "    \n",
    "    # create a list of strings of the time intervals\n",
    "    intervals = []\n",
    "    for i in time_intervals:\n",
    "        intervals.append(str(i))\n",
    "    \n",
    "    n_posts = list(results.values())\n",
    "    plt.bar(range(len(results)), n_posts, tick_label = intervals)\n",
    "    plt.title('Number of posts for each time interval')\n",
    "    plt.xlabel('Time intervals')\n",
    "    plt.ylabel('Number of posts (in millions)')\n",
    "    plt.show()\n",
    "    \n",
    "    \n",
    "\n",
    "    return(results)"
   ]
  },
  {
   "cell_type": "code",
   "execution_count": 13,
   "id": "30023408",
   "metadata": {},
   "outputs": [],
   "source": [
    "slots = [(6,10),(11,13),(14,16),(17,19),(20,23),(0,2),(3,5)]"
   ]
  },
  {
   "cell_type": "code",
   "execution_count": 14,
   "id": "43901519",
   "metadata": {},
   "outputs": [
    {
     "data": {
      "image/png": "[encoded data removed]",
      "text/plain": [
       "<Figure size 640x480 with 1 Axes>"
      ]
     },
     "metadata": {},
     "output_type": "display_data"
    },
    {
     "data": {
      "text/plain": [
       "{(6, 10): 70043,\n",
       " (11, 13): 62026,\n",
       " (14, 16): 78240,\n",
       " (17, 19): 89658,\n",
       " (20, 23): 107656,\n",
       " (0, 2): 50897,\n",
       " (3, 5): 41480}"
      ]
     },
     "execution_count": 14,
     "metadata": {},
     "output_type": "execute_result"
    }
   ],
   "source": [
    "plot_posts_time(slots)"
   ]
  },
  {
   "cell_type": "markdown",
   "id": "dcedb851",
   "metadata": {},
   "source": [
    "As it's possible to see, 20-23 is the most common interval of time for posting photos, followed by the late-afternoon interval (17-19)."
   ]
  },
  {
   "cell_type": "markdown",
   "id": "2a1c064f",
   "metadata": {},
   "source": [
    "# Research question 4"
   ]
  },
  {
   "cell_type": "markdown",
   "id": "a375b31b",
   "metadata": {},
   "source": [
    "### Write a function that, given a profile_id, will be able to return the posts that belong to the given profile_id."
   ]
  },
  {
   "cell_type": "code",
   "execution_count": 20,
   "id": "53bafa6a",
   "metadata": {},
   "outputs": [],
   "source": [
    "insta_post =pd.read_csv('~/instagram_posts.csv', delimiter=\"\\t\", usecols = ['profile_id', 'post_id'], nrows =500000)"
   ]
  },
  {
   "cell_type": "code",
   "execution_count": 27,
   "id": "99457cf0",
   "metadata": {},
   "outputs": [
    {
     "data": {
      "text/plain": [
       "(4721049632.0, Series([], Name: post_id, dtype: object))"
      ]
     },
     "execution_count": 27,
     "metadata": {},
     "output_type": "execute_result"
    }
   ],
   "source": [
    "#def post_profile(profile_id):\n",
    "def rq4_1(profile):\n",
    "    return profile, insta_post[insta_post['profile_id']==profile]['post_id']\n",
    "\n",
    "rq4_1(instagram_profiles['profile_id'][0])\n",
    "        "
   ]
  },
  {
   "cell_type": "markdown",
   "id": "305ae1b3",
   "metadata": {},
   "source": [
    "### Write another function that, given an input n (an integer), will return the posts that belong to the n top posted profiles (top n profiles that have posted the highest number of posts) that their data is available in the profile.csv using the previously written function."
   ]
  },
  {
   "cell_type": "code",
   "execution_count": 51,
   "id": "44ca1e97",
   "metadata": {},
   "outputs": [],
   "source": [
    "#sort maggior numero di post, prendere head n \n",
    "#n profili con maggior numero di post \n",
    "def rq4_2(n): \n",
    "    return instagram_profiles.sort_values(\"n_posts\", ascending=False).head(n)\n",
    "    \n",
    "    \n"
   ]
  },
  {
   "cell_type": "code",
   "execution_count": 56,
   "id": "6c5f3951",
   "metadata": {},
   "outputs": [
    {
     "data": {
      "text/html": [
       "<div>\n",
       "<style scoped>\n",
       "    .dataframe tbody tr th:only-of-type {\n",
       "        vertical-align: middle;\n",
       "    }\n",
       "\n",
       "    .dataframe tbody tr th {\n",
       "        vertical-align: top;\n",
       "    }\n",
       "\n",
       "    .dataframe thead th {\n",
       "        text-align: right;\n",
       "    }\n",
       "</style>\n",
       "<table border=\"1\" class=\"dataframe\">\n",
       "  <thead>\n",
       "    <tr style=\"text-align: right;\">\n",
       "      <th></th>\n",
       "      <th>sid</th>\n",
       "      <th>profile_id</th>\n",
       "      <th>profile_name</th>\n",
       "      <th>firstname_lastname</th>\n",
       "      <th>description</th>\n",
       "      <th>following</th>\n",
       "      <th>followers</th>\n",
       "      <th>n_posts</th>\n",
       "      <th>url</th>\n",
       "      <th>cts</th>\n",
       "      <th>is_business_account</th>\n",
       "    </tr>\n",
       "  </thead>\n",
       "  <tbody>\n",
       "    <tr>\n",
       "      <th>3990313</th>\n",
       "      <td>3661552</td>\n",
       "      <td>1.996648e+08</td>\n",
       "      <td>jasem33312</td>\n",
       "      <td>jasem33312</td>\n",
       "      <td>NaN</td>\n",
       "      <td>2.0</td>\n",
       "      <td>82049.0</td>\n",
       "      <td>183730.0</td>\n",
       "      <td>NaN</td>\n",
       "      <td>2019-06-30 19:14:19.780 -0400</td>\n",
       "      <td>False</td>\n",
       "    </tr>\n",
       "    <tr>\n",
       "      <th>2571453</th>\n",
       "      <td>3288809</td>\n",
       "      <td>8.563367e+09</td>\n",
       "      <td>koenigpic</td>\n",
       "      <td>Helperwait Studio</td>\n",
       "      <td>Веб сайты от идеи до запуска</td>\n",
       "      <td>4538.0</td>\n",
       "      <td>675.0</td>\n",
       "      <td>142428.0</td>\n",
       "      <td>vk.com/ru.helperwait</td>\n",
       "      <td>2019-05-07 00:14:06.799 -0400</td>\n",
       "      <td>True</td>\n",
       "    </tr>\n",
       "    <tr>\n",
       "      <th>4338921</th>\n",
       "      <td>3970193</td>\n",
       "      <td>1.273455e+09</td>\n",
       "      <td>rudyanto62</td>\n",
       "      <td>Rudyanto 王耀祝</td>\n",
       "      <td>NaN</td>\n",
       "      <td>164.0</td>\n",
       "      <td>1693.0</td>\n",
       "      <td>126340.0</td>\n",
       "      <td>NaN</td>\n",
       "      <td>2019-07-15 10:00:51.171 -0400</td>\n",
       "      <td>False</td>\n",
       "    </tr>\n",
       "    <tr>\n",
       "      <th>3942129</th>\n",
       "      <td>3621669</td>\n",
       "      <td>9.813508e+06</td>\n",
       "      <td>hometown_ni</td>\n",
       "      <td>AngelsCowboysLakers</td>\n",
       "      <td>All about live &amp; let live. Peace &amp; Harmony. La...</td>\n",
       "      <td>7488.0</td>\n",
       "      <td>1755.0</td>\n",
       "      <td>125220.0</td>\n",
       "      <td>NaN</td>\n",
       "      <td>2019-06-27 02:49:38.140 -0400</td>\n",
       "      <td>False</td>\n",
       "    </tr>\n",
       "    <tr>\n",
       "      <th>4219642</th>\n",
       "      <td>3851869</td>\n",
       "      <td>1.607309e+09</td>\n",
       "      <td>dwfitfiber_thailand</td>\n",
       "      <td>เห็นผลตั้งแต่เซ็ตแรกท้าลอง</td>\n",
       "      <td>✿รับตัวแทนรายได้ดีมาก\\n🏧 KTB l SCB l KBANK | B...</td>\n",
       "      <td>7490.0</td>\n",
       "      <td>44951.0</td>\n",
       "      <td>117262.0</td>\n",
       "      <td>bit.ly/2GdIYJl</td>\n",
       "      <td>2019-07-13 02:10:07.317 -0400</td>\n",
       "      <td>True</td>\n",
       "    </tr>\n",
       "    <tr>\n",
       "      <th>2207897</th>\n",
       "      <td>345591</td>\n",
       "      <td>1.087614e+09</td>\n",
       "      <td>waxking911</td>\n",
       "      <td>Frank Hernandez</td>\n",
       "      <td>NaN</td>\n",
       "      <td>134.0</td>\n",
       "      <td>138.0</td>\n",
       "      <td>117099.0</td>\n",
       "      <td>NaN</td>\n",
       "      <td>NaN</td>\n",
       "      <td>False</td>\n",
       "    </tr>\n",
       "    <tr>\n",
       "      <th>4313908</th>\n",
       "      <td>3944512</td>\n",
       "      <td>1.603890e+09</td>\n",
       "      <td>gamt_official</td>\n",
       "      <td>Official IG Of GAMT Thailand</td>\n",
       "      <td>❥ แว่น gamt พร้อมส่งของแท้💯 มีโปร1290 พร้อมซอง...</td>\n",
       "      <td>7470.0</td>\n",
       "      <td>36001.0</td>\n",
       "      <td>113780.0</td>\n",
       "      <td>bit.ly/2GdIYJl</td>\n",
       "      <td>2019-07-14 21:10:30.785 -0400</td>\n",
       "      <td>True</td>\n",
       "    </tr>\n",
       "    <tr>\n",
       "      <th>4219476</th>\n",
       "      <td>3851808</td>\n",
       "      <td>2.181730e+08</td>\n",
       "      <td>collarosedw_official</td>\n",
       "      <td>grapeseed+collarose</td>\n",
       "      <td>🍇 สินค้าแบรนด์ dwplus\\n💓 collarose+grapeseed+f...</td>\n",
       "      <td>7496.0</td>\n",
       "      <td>18021.0</td>\n",
       "      <td>113182.0</td>\n",
       "      <td>bit.ly/2asesw7</td>\n",
       "      <td>2019-07-13 02:08:17.407 -0400</td>\n",
       "      <td>True</td>\n",
       "    </tr>\n",
       "    <tr>\n",
       "      <th>4236057</th>\n",
       "      <td>3868432</td>\n",
       "      <td>2.855497e+08</td>\n",
       "      <td>gamt_authentic</td>\n",
       "      <td>Official IG Of GAMT Thailand</td>\n",
       "      <td>❥ แว่น gamt พร้อมส่ง มีโปร1290 พร้อมซองแว่น+ผ้...</td>\n",
       "      <td>7480.0</td>\n",
       "      <td>27511.0</td>\n",
       "      <td>112777.0</td>\n",
       "      <td>bit.ly/2T2RIqG</td>\n",
       "      <td>2019-07-13 09:28:30.025 -0400</td>\n",
       "      <td>True</td>\n",
       "    </tr>\n",
       "    <tr>\n",
       "      <th>1631526</th>\n",
       "      <td>1312725</td>\n",
       "      <td>8.312603e+09</td>\n",
       "      <td>ivankkkka.trmp</td>\n",
       "      <td>IVANKA DARCEY K. TRUMP</td>\n",
       "      <td>DORA. 👄 #Mango</td>\n",
       "      <td>7497.0</td>\n",
       "      <td>2.0</td>\n",
       "      <td>112723.0</td>\n",
       "      <td>www.flightclub.com/yeezy</td>\n",
       "      <td>2019-04-01 02:41:26.980 -0400</td>\n",
       "      <td>False</td>\n",
       "    </tr>\n",
       "  </tbody>\n",
       "</table>\n",
       "</div>"
      ],
      "text/plain": [
       "             sid    profile_id          profile_name  \\\n",
       "3990313  3661552  1.996648e+08            jasem33312   \n",
       "2571453  3288809  8.563367e+09             koenigpic   \n",
       "4338921  3970193  1.273455e+09            rudyanto62   \n",
       "3942129  3621669  9.813508e+06           hometown_ni   \n",
       "4219642  3851869  1.607309e+09   dwfitfiber_thailand   \n",
       "2207897   345591  1.087614e+09            waxking911   \n",
       "4313908  3944512  1.603890e+09         gamt_official   \n",
       "4219476  3851808  2.181730e+08  collarosedw_official   \n",
       "4236057  3868432  2.855497e+08        gamt_authentic   \n",
       "1631526  1312725  8.312603e+09        ivankkkka.trmp   \n",
       "\n",
       "                   firstname_lastname  \\\n",
       "3990313                    jasem33312   \n",
       "2571453             Helperwait Studio   \n",
       "4338921                  Rudyanto 王耀祝   \n",
       "3942129           AngelsCowboysLakers   \n",
       "4219642    เห็นผลตั้งแต่เซ็ตแรกท้าลอง   \n",
       "2207897               Frank Hernandez   \n",
       "4313908  Official IG Of GAMT Thailand   \n",
       "4219476           grapeseed+collarose   \n",
       "4236057  Official IG Of GAMT Thailand   \n",
       "1631526        IVANKA DARCEY K. TRUMP   \n",
       "\n",
       "                                               description  following  \\\n",
       "3990313                                                NaN        2.0   \n",
       "2571453                       Веб сайты от идеи до запуска     4538.0   \n",
       "4338921                                                NaN      164.0   \n",
       "3942129  All about live & let live. Peace & Harmony. La...     7488.0   \n",
       "4219642  ✿รับตัวแทนรายได้ดีมาก\\n🏧 KTB l SCB l KBANK | B...     7490.0   \n",
       "2207897                                                NaN      134.0   \n",
       "4313908  ❥ แว่น gamt พร้อมส่งของแท้💯 มีโปร1290 พร้อมซอง...     7470.0   \n",
       "4219476  🍇 สินค้าแบรนด์ dwplus\\n💓 collarose+grapeseed+f...     7496.0   \n",
       "4236057  ❥ แว่น gamt พร้อมส่ง มีโปร1290 พร้อมซองแว่น+ผ้...     7480.0   \n",
       "1631526                                     DORA. 👄 #Mango     7497.0   \n",
       "\n",
       "         followers   n_posts                       url  \\\n",
       "3990313    82049.0  183730.0                       NaN   \n",
       "2571453      675.0  142428.0      vk.com/ru.helperwait   \n",
       "4338921     1693.0  126340.0                       NaN   \n",
       "3942129     1755.0  125220.0                       NaN   \n",
       "4219642    44951.0  117262.0            bit.ly/2GdIYJl   \n",
       "2207897      138.0  117099.0                       NaN   \n",
       "4313908    36001.0  113780.0            bit.ly/2GdIYJl   \n",
       "4219476    18021.0  113182.0            bit.ly/2asesw7   \n",
       "4236057    27511.0  112777.0            bit.ly/2T2RIqG   \n",
       "1631526        2.0  112723.0  www.flightclub.com/yeezy   \n",
       "\n",
       "                                   cts is_business_account  \n",
       "3990313  2019-06-30 19:14:19.780 -0400               False  \n",
       "2571453  2019-05-07 00:14:06.799 -0400                True  \n",
       "4338921  2019-07-15 10:00:51.171 -0400               False  \n",
       "3942129  2019-06-27 02:49:38.140 -0400               False  \n",
       "4219642  2019-07-13 02:10:07.317 -0400                True  \n",
       "2207897                            NaN               False  \n",
       "4313908  2019-07-14 21:10:30.785 -0400                True  \n",
       "4219476  2019-07-13 02:08:17.407 -0400                True  \n",
       "4236057  2019-07-13 09:28:30.025 -0400                True  \n",
       "1631526  2019-04-01 02:41:26.980 -0400               False  "
      ]
     },
     "execution_count": 56,
     "metadata": {},
     "output_type": "execute_result"
    }
   ],
   "source": [
    "primi = rq4_2(10)\n",
    "primi "
   ]
  },
  {
   "cell_type": "markdown",
   "id": "a52122a4",
   "metadata": {},
   "source": [
    "### What is the average number of \"likes\" and comments of the top 10 profiles with the highest number of posts which their information is available in profile.csv?"
   ]
  },
  {
   "cell_type": "code",
   "execution_count": 8,
   "id": "d8adafb2",
   "metadata": {},
   "outputs": [
    {
     "name": "stdout",
     "output_type": "stream",
     "text": [
      "Media like:     438.1\n",
      "Media commenti: 224.0\n"
     ]
    }
   ],
   "source": [
    "insta_post2 = pd.read_csv('~/instagram_posts.csv', delimiter=\"\\t\", usecols = ['profile_id', 'post_id', 'numbr_likes','number_comments' ], nrows =50000)\n",
    "merge = pd.merge(left = instagram_profiles, right = insta_post2, on= 'profile_id')\n",
    "dt = merge.sort_values(by = ['n_posts'], ascending = False).head(10)\n",
    "medialike= np.mean(dt['numbr_likes'])\n",
    "mediacommenti = np.mean(dt['number_comments'])\n",
    "print(\"Media like:    \", medialike)\n",
    "print(\"Media commenti:\", mediacommenti)"
   ]
  },
  {
   "cell_type": "markdown",
   "id": "09582eb2",
   "metadata": {},
   "source": [
    "The average number of \"likes\" and comments of the top-10 profiles with the highest number of posts is, respectively, 438.1 likes and 224 comments.  "
   ]
  },
  {
   "cell_type": "markdown",
   "id": "90029cfb",
   "metadata": {},
   "source": [
    "### Plot the number of posts that these top 10 profiles have sent on Instagram in the given interval in question RQ3. Interpret the resulting chart."
   ]
  },
  {
   "cell_type": "code",
   "execution_count": 199,
   "id": "37e674df",
   "metadata": {},
   "outputs": [
    {
     "data": {
      "text/html": [
       "<div>\n",
       "<style scoped>\n",
       "    .dataframe tbody tr th:only-of-type {\n",
       "        vertical-align: middle;\n",
       "    }\n",
       "\n",
       "    .dataframe tbody tr th {\n",
       "        vertical-align: top;\n",
       "    }\n",
       "\n",
       "    .dataframe thead th {\n",
       "        text-align: right;\n",
       "    }\n",
       "</style>\n",
       "<table border=\"1\" class=\"dataframe\">\n",
       "  <thead>\n",
       "    <tr style=\"text-align: right;\">\n",
       "      <th></th>\n",
       "      <th>profile_id</th>\n",
       "      <th>n_posts</th>\n",
       "    </tr>\n",
       "  </thead>\n",
       "  <tbody>\n",
       "    <tr>\n",
       "      <th>3990313</th>\n",
       "      <td>1.996648e+08</td>\n",
       "      <td>183730.0</td>\n",
       "    </tr>\n",
       "    <tr>\n",
       "      <th>2571453</th>\n",
       "      <td>8.563367e+09</td>\n",
       "      <td>142428.0</td>\n",
       "    </tr>\n",
       "    <tr>\n",
       "      <th>4338921</th>\n",
       "      <td>1.273455e+09</td>\n",
       "      <td>126340.0</td>\n",
       "    </tr>\n",
       "    <tr>\n",
       "      <th>3942129</th>\n",
       "      <td>9.813508e+06</td>\n",
       "      <td>125220.0</td>\n",
       "    </tr>\n",
       "    <tr>\n",
       "      <th>4219642</th>\n",
       "      <td>1.607309e+09</td>\n",
       "      <td>117262.0</td>\n",
       "    </tr>\n",
       "    <tr>\n",
       "      <th>2207897</th>\n",
       "      <td>1.087614e+09</td>\n",
       "      <td>117099.0</td>\n",
       "    </tr>\n",
       "    <tr>\n",
       "      <th>4313908</th>\n",
       "      <td>1.603890e+09</td>\n",
       "      <td>113780.0</td>\n",
       "    </tr>\n",
       "    <tr>\n",
       "      <th>4219476</th>\n",
       "      <td>2.181730e+08</td>\n",
       "      <td>113182.0</td>\n",
       "    </tr>\n",
       "    <tr>\n",
       "      <th>4236057</th>\n",
       "      <td>2.855497e+08</td>\n",
       "      <td>112777.0</td>\n",
       "    </tr>\n",
       "    <tr>\n",
       "      <th>1631526</th>\n",
       "      <td>8.312603e+09</td>\n",
       "      <td>112723.0</td>\n",
       "    </tr>\n",
       "  </tbody>\n",
       "</table>\n",
       "</div>"
      ],
      "text/plain": [
       "           profile_id   n_posts\n",
       "3990313  1.996648e+08  183730.0\n",
       "2571453  8.563367e+09  142428.0\n",
       "4338921  1.273455e+09  126340.0\n",
       "3942129  9.813508e+06  125220.0\n",
       "4219642  1.607309e+09  117262.0\n",
       "2207897  1.087614e+09  117099.0\n",
       "4313908  1.603890e+09  113780.0\n",
       "4219476  2.181730e+08  113182.0\n",
       "4236057  2.855497e+08  112777.0\n",
       "1631526  8.312603e+09  112723.0"
      ]
     },
     "execution_count": 199,
     "metadata": {},
     "output_type": "execute_result"
    }
   ],
   "source": [
    "profili = pd.read_csv('~/instagram_profiles.csv', delimiter=\"\\t\", usecols = ['profile_id', 'n_posts'])\n",
    "profili = profili.sort_values(\"n_posts\", ascending=False).head(10)\n",
    "profili"
   ]
  },
  {
   "cell_type": "code",
   "execution_count": 202,
   "id": "1fd8f49d",
   "metadata": {},
   "outputs": [],
   "source": [
    "post3 = pd.read_csv('~/instagram_posts.csv', delimiter=\"\\t\", usecols = ['profile_id', 'cts'])\n"
   ]
  },
  {
   "cell_type": "code",
   "execution_count": 203,
   "id": "b8492d01",
   "metadata": {},
   "outputs": [],
   "source": [
    "post3.cts= pd.to_datetime(post3.cts)"
   ]
  },
  {
   "cell_type": "code",
   "execution_count": 204,
   "id": "5d67411c",
   "metadata": {},
   "outputs": [],
   "source": [
    "slots = [(6,10),(11,13),(14,16),(17,19),(20,23),(0,2),(3,5)]"
   ]
  },
  {
   "cell_type": "code",
   "execution_count": 205,
   "id": "a57b0446",
   "metadata": {},
   "outputs": [
    {
     "name": "stdout",
     "output_type": "stream",
     "text": [
      "199664772.0 0\n",
      "8563366588.0 0\n",
      "1273455368.0 0\n",
      "9813508.0 0\n",
      "1607309412.0 0\n",
      "1087613619.0 0\n",
      "1603889832.0 0\n",
      "218172998.0 0\n",
      "285549744.0 0\n",
      "8312603412.0 0\n"
     ]
    },
    {
     "data": {
      "image/png": "[encoded data removed]",
      "text/plain": [
       "<Figure size 432x288 with 1 Axes>"
      ]
     },
     "metadata": {
      "needs_background": "light"
     },
     "output_type": "display_data"
    },
    {
     "data": {
      "image/png": "[encoded data removed]",
      "text/plain": [
       "<Figure size 432x288 with 1 Axes>"
      ]
     },
     "metadata": {
      "needs_background": "light"
     },
     "output_type": "display_data"
    },
    {
     "data": {
      "image/png": "[encoded data removed]",
      "text/plain": [
       "<Figure size 432x288 with 1 Axes>"
      ]
     },
     "metadata": {
      "needs_background": "light"
     },
     "output_type": "display_data"
    },
    {
     "data": {
      "image/png": "[encoded data removed]",
      "text/plain": [
       "<Figure size 432x288 with 1 Axes>"
      ]
     },
     "metadata": {
      "needs_background": "light"
     },
     "output_type": "display_data"
    },
    {
     "data": {
      "image/png": "[encoded data removed]",
      "text/plain": [
       "<Figure size 432x288 with 1 Axes>"
      ]
     },
     "metadata": {
      "needs_background": "light"
     },
     "output_type": "display_data"
    },
    {
     "data": {
      "image/png": "[encoded data removed]",
      "text/plain": [
       "<Figure size 432x288 with 1 Axes>"
      ]
     },
     "metadata": {
      "needs_background": "light"
     },
     "output_type": "display_data"
    },
    {
     "data": {
      "image/png": "[encoded data removed]",
      "text/plain": [
       "<Figure size 432x288 with 1 Axes>"
      ]
     },
     "metadata": {
      "needs_background": "light"
     },
     "output_type": "display_data"
    },
    {
     "data": {
      "image/png": "[encoded data removed]",
      "text/plain": [
       "<Figure size 432x288 with 1 Axes>"
      ]
     },
     "metadata": {
      "needs_background": "light"
     },
     "output_type": "display_data"
    },
    {
     "data": {
      "image/png": "[encoded data removed]",
      "text/plain": [
       "<Figure size 432x288 with 1 Axes>"
      ]
     },
     "metadata": {
      "needs_background": "light"
     },
     "output_type": "display_data"
    },
    {
     "data": {
      "image/png": "[encoded data removed]",
      "text/plain": [
       "<Figure size 432x288 with 1 Axes>"
      ]
     },
     "metadata": {
      "needs_background": "light"
     },
     "output_type": "display_data"
    }
   ],
   "source": [
    "import seaborn as sbn\n",
    "def f2(time_intervals, hours): \n",
    "    results = {}\n",
    "    for x in time_intervals:\n",
    "        results[x]= len(hours[(hours >= x[0]) & (hours <= x[1])])\n",
    "        \n",
    "        \n",
    "    \n",
    "    intervals = []\n",
    "    for i in time_intervals:\n",
    "        intervals.append(str(i))\n",
    "    \n",
    "    n_posts = list(results.values())\n",
    "    plt.bar(range(len(time_intervals)), n_posts, tick_label = intervals)\n",
    "    plt.title('Number of posts for each time interval')\n",
    "    plt.xlabel('Time intervals')\n",
    "    plt.ylabel('Number of posts')\n",
    "    plt.show()\n",
    "    \n",
    "    return(results)\n",
    "\n",
    "for i in profili['profile_id']:\n",
    "    print(i, len(post3[post3['profile_id']==1].cts))\n",
    "for i in profili['profile_id']:\n",
    "    f2(slots, post3[post3['profile_id']==i].cts.dt.hour)\n",
    "    \n",
    "    "
   ]
  },
  {
   "cell_type": "markdown",
   "id": "9136edbf",
   "metadata": {},
   "source": [
    "As it is possible to see in the charts, the most common time-intervalls in which these profiles are used to post are 6-10 intervall, 0-2 and 3-5."
   ]
  },
  {
   "cell_type": "markdown",
   "id": "5ee5d8fb",
   "metadata": {},
   "source": [
    "# RQ5"
   ]
  },
  {
   "cell_type": "markdown",
   "id": "21ad0979",
   "metadata": {},
   "source": [
    "### Plot the top 10 most popular users in terms of followers and their number of posts."
   ]
  },
  {
   "cell_type": "code",
   "execution_count": 53,
   "id": "669219bb",
   "metadata": {},
   "outputs": [],
   "source": [
    "influenti = pd.read_csv('~/instagram_profiles.csv', delimiter=\"\\t\", usecols = ['profile_name', 'followers', 'profile_id','n_posts'])\n",
    "influenti_follower = influenti.sort_values(['followers'], ascending = False).head(10)\n",
    "influenti_n_post = instagram_profiles.sort_values(['n_posts'], ascending = False).head(10)"
   ]
  },
  {
   "cell_type": "code",
   "execution_count": 31,
   "id": "a4416058",
   "metadata": {},
   "outputs": [
    {
     "data": {
      "text/plain": [
       "2880218    285457645.0\n",
       "2582507     65269440.0\n",
       "3820939     35339708.0\n",
       "701965      30689316.0\n",
       "2414951     30246783.0\n",
       "2785241     29542143.0\n",
       "333193      29176804.0\n",
       "3934581     29042823.0\n",
       "1311970     26476004.0\n",
       "1703764     26252169.0\n",
       "Name: followers, dtype: float64"
      ]
     },
     "execution_count": 31,
     "metadata": {},
     "output_type": "execute_result"
    }
   ],
   "source": [
    "influenti_follower['followers']"
   ]
  },
  {
   "cell_type": "code",
   "execution_count": 30,
   "id": "468f9cd2",
   "metadata": {},
   "outputs": [
    {
     "data": {
      "text/plain": [
       "<BarContainer object of 10 artists>"
      ]
     },
     "execution_count": 30,
     "metadata": {},
     "output_type": "execute_result"
    },
    {
     "data": {
      "image/png": "[encoded data removed]",
      "text/plain": [
       "<Figure size 1400x900 with 1 Axes>"
      ]
     },
     "metadata": {},
     "output_type": "display_data"
    }
   ],
   "source": [
    "x, y = plt.subplots(figsize = (14,9))\n",
    "plt.bar(influenti_follower.profile_name,influenti_follower.n_posts)"
   ]
  },
  {
   "cell_type": "markdown",
   "id": "099044c7",
   "metadata": {},
   "source": [
    "### Who is the most influential user?"
   ]
  },
  {
   "cell_type": "code",
   "execution_count": 54,
   "id": "40bc5caf",
   "metadata": {},
   "outputs": [
    {
     "data": {
      "text/html": [
       "<div>\n",
       "<style scoped>\n",
       "    .dataframe tbody tr th:only-of-type {\n",
       "        vertical-align: middle;\n",
       "    }\n",
       "\n",
       "    .dataframe tbody tr th {\n",
       "        vertical-align: top;\n",
       "    }\n",
       "\n",
       "    .dataframe thead th {\n",
       "        text-align: right;\n",
       "    }\n",
       "</style>\n",
       "<table border=\"1\" class=\"dataframe\">\n",
       "  <thead>\n",
       "    <tr style=\"text-align: right;\">\n",
       "      <th></th>\n",
       "      <th>profile_id</th>\n",
       "      <th>profile_name</th>\n",
       "      <th>followers</th>\n",
       "      <th>n_posts</th>\n",
       "    </tr>\n",
       "  </thead>\n",
       "  <tbody>\n",
       "    <tr>\n",
       "      <th>2880218</th>\n",
       "      <td>25025320.0</td>\n",
       "      <td>instagram</td>\n",
       "      <td>285457645.0</td>\n",
       "      <td>5760.0</td>\n",
       "    </tr>\n",
       "  </tbody>\n",
       "</table>\n",
       "</div>"
      ],
      "text/plain": [
       "         profile_id profile_name    followers  n_posts\n",
       "2880218  25025320.0    instagram  285457645.0   5760.0"
      ]
     },
     "execution_count": 54,
     "metadata": {},
     "output_type": "execute_result"
    }
   ],
   "source": [
    "influenti_follower.head(1)"
   ]
  },
  {
   "cell_type": "markdown",
   "id": "38650cf0",
   "metadata": {},
   "source": [
    "### Have they posted anything with tagged locations? Extract the most frequent areas on their posts and plot the number of times each city has been visited."
   ]
  },
  {
   "cell_type": "code",
   "execution_count": 7,
   "id": "bd3ed6b0",
   "metadata": {},
   "outputs": [
    {
     "data": {
      "text/html": [
       "<div>\n",
       "<style scoped>\n",
       "    .dataframe tbody tr th:only-of-type {\n",
       "        vertical-align: middle;\n",
       "    }\n",
       "\n",
       "    .dataframe tbody tr th {\n",
       "        vertical-align: top;\n",
       "    }\n",
       "\n",
       "    .dataframe thead th {\n",
       "        text-align: right;\n",
       "    }\n",
       "</style>\n",
       "<table border=\"1\" class=\"dataframe\">\n",
       "  <thead>\n",
       "    <tr style=\"text-align: right;\">\n",
       "      <th></th>\n",
       "      <th>profile_id</th>\n",
       "      <th>location_id</th>\n",
       "    </tr>\n",
       "  </thead>\n",
       "  <tbody>\n",
       "    <tr>\n",
       "      <th>0</th>\n",
       "      <td>2.237948e+09</td>\n",
       "      <td>1.022366e+15</td>\n",
       "    </tr>\n",
       "    <tr>\n",
       "      <th>1</th>\n",
       "      <td>5.579335e+09</td>\n",
       "      <td>4.574268e+14</td>\n",
       "    </tr>\n",
       "    <tr>\n",
       "      <th>2</th>\n",
       "      <td>3.134296e+08</td>\n",
       "      <td>4.574268e+14</td>\n",
       "    </tr>\n",
       "    <tr>\n",
       "      <th>3</th>\n",
       "      <td>1.837593e+09</td>\n",
       "      <td>4.574268e+14</td>\n",
       "    </tr>\n",
       "    <tr>\n",
       "      <th>4</th>\n",
       "      <td>1.131527e+09</td>\n",
       "      <td>4.574268e+14</td>\n",
       "    </tr>\n",
       "    <tr>\n",
       "      <th>...</th>\n",
       "      <td>...</td>\n",
       "      <td>...</td>\n",
       "    </tr>\n",
       "    <tr>\n",
       "      <th>42710192</th>\n",
       "      <td>5.556457e+09</td>\n",
       "      <td>4.574268e+14</td>\n",
       "    </tr>\n",
       "    <tr>\n",
       "      <th>42710193</th>\n",
       "      <td>3.371865e+08</td>\n",
       "      <td>4.574268e+14</td>\n",
       "    </tr>\n",
       "    <tr>\n",
       "      <th>42710194</th>\n",
       "      <td>3.289886e+09</td>\n",
       "      <td>4.574268e+14</td>\n",
       "    </tr>\n",
       "    <tr>\n",
       "      <th>42710195</th>\n",
       "      <td>8.536366e+09</td>\n",
       "      <td>4.267235e+06</td>\n",
       "    </tr>\n",
       "    <tr>\n",
       "      <th>42710196</th>\n",
       "      <td>2.219100e+09</td>\n",
       "      <td>4.574268e+14</td>\n",
       "    </tr>\n",
       "  </tbody>\n",
       "</table>\n",
       "<p>42710197 rows × 2 columns</p>\n",
       "</div>"
      ],
      "text/plain": [
       "            profile_id   location_id\n",
       "0         2.237948e+09  1.022366e+15\n",
       "1         5.579335e+09  4.574268e+14\n",
       "2         3.134296e+08  4.574268e+14\n",
       "3         1.837593e+09  4.574268e+14\n",
       "4         1.131527e+09  4.574268e+14\n",
       "...                ...           ...\n",
       "42710192  5.556457e+09  4.574268e+14\n",
       "42710193  3.371865e+08  4.574268e+14\n",
       "42710194  3.289886e+09  4.574268e+14\n",
       "42710195  8.536366e+09  4.267235e+06\n",
       "42710196  2.219100e+09  4.574268e+14\n",
       "\n",
       "[42710197 rows x 2 columns]"
      ]
     },
     "execution_count": 7,
     "metadata": {},
     "output_type": "execute_result"
    }
   ],
   "source": [
    "insta_post3 = pd.read_csv('~/instagram_posts.csv', delimiter=\"\\t\", usecols = ['profile_id', 'location_id'])\n",
    "insta_post3"
   ]
  },
  {
   "cell_type": "code",
   "execution_count": 8,
   "id": "344aa1d4",
   "metadata": {},
   "outputs": [
    {
     "data": {
      "text/html": [
       "<div>\n",
       "<style scoped>\n",
       "    .dataframe tbody tr th:only-of-type {\n",
       "        vertical-align: middle;\n",
       "    }\n",
       "\n",
       "    .dataframe tbody tr th {\n",
       "        vertical-align: top;\n",
       "    }\n",
       "\n",
       "    .dataframe thead th {\n",
       "        text-align: right;\n",
       "    }\n",
       "</style>\n",
       "<table border=\"1\" class=\"dataframe\">\n",
       "  <thead>\n",
       "    <tr style=\"text-align: right;\">\n",
       "      <th></th>\n",
       "      <th>profile_id</th>\n",
       "      <th>profile_name</th>\n",
       "      <th>followers</th>\n",
       "      <th>location_id</th>\n",
       "    </tr>\n",
       "  </thead>\n",
       "  <tbody>\n",
       "    <tr>\n",
       "      <th>0</th>\n",
       "      <td>25025320.0</td>\n",
       "      <td>instagram</td>\n",
       "      <td>285457645.0</td>\n",
       "      <td>5.332856e+06</td>\n",
       "    </tr>\n",
       "    <tr>\n",
       "      <th>1</th>\n",
       "      <td>25025320.0</td>\n",
       "      <td>instagram</td>\n",
       "      <td>285457645.0</td>\n",
       "      <td>5.873874e+08</td>\n",
       "    </tr>\n",
       "    <tr>\n",
       "      <th>2</th>\n",
       "      <td>25025320.0</td>\n",
       "      <td>instagram</td>\n",
       "      <td>285457645.0</td>\n",
       "      <td>8.770667e+14</td>\n",
       "    </tr>\n",
       "    <tr>\n",
       "      <th>3</th>\n",
       "      <td>25025320.0</td>\n",
       "      <td>instagram</td>\n",
       "      <td>285457645.0</td>\n",
       "      <td>3.500213e+08</td>\n",
       "    </tr>\n",
       "    <tr>\n",
       "      <th>4</th>\n",
       "      <td>25025320.0</td>\n",
       "      <td>instagram</td>\n",
       "      <td>285457645.0</td>\n",
       "      <td>5.243120e+08</td>\n",
       "    </tr>\n",
       "    <tr>\n",
       "      <th>...</th>\n",
       "      <td>...</td>\n",
       "      <td>...</td>\n",
       "      <td>...</td>\n",
       "      <td>...</td>\n",
       "    </tr>\n",
       "    <tr>\n",
       "      <th>136</th>\n",
       "      <td>907025384.0</td>\n",
       "      <td>akshaykumar</td>\n",
       "      <td>26252169.0</td>\n",
       "      <td>NaN</td>\n",
       "    </tr>\n",
       "    <tr>\n",
       "      <th>137</th>\n",
       "      <td>907025384.0</td>\n",
       "      <td>akshaykumar</td>\n",
       "      <td>26252169.0</td>\n",
       "      <td>NaN</td>\n",
       "    </tr>\n",
       "    <tr>\n",
       "      <th>138</th>\n",
       "      <td>907025384.0</td>\n",
       "      <td>akshaykumar</td>\n",
       "      <td>26252169.0</td>\n",
       "      <td>NaN</td>\n",
       "    </tr>\n",
       "    <tr>\n",
       "      <th>139</th>\n",
       "      <td>907025384.0</td>\n",
       "      <td>akshaykumar</td>\n",
       "      <td>26252169.0</td>\n",
       "      <td>NaN</td>\n",
       "    </tr>\n",
       "    <tr>\n",
       "      <th>140</th>\n",
       "      <td>907025384.0</td>\n",
       "      <td>akshaykumar</td>\n",
       "      <td>26252169.0</td>\n",
       "      <td>NaN</td>\n",
       "    </tr>\n",
       "  </tbody>\n",
       "</table>\n",
       "<p>141 rows × 4 columns</p>\n",
       "</div>"
      ],
      "text/plain": [
       "      profile_id profile_name    followers   location_id\n",
       "0     25025320.0    instagram  285457645.0  5.332856e+06\n",
       "1     25025320.0    instagram  285457645.0  5.873874e+08\n",
       "2     25025320.0    instagram  285457645.0  8.770667e+14\n",
       "3     25025320.0    instagram  285457645.0  3.500213e+08\n",
       "4     25025320.0    instagram  285457645.0  5.243120e+08\n",
       "..           ...          ...          ...           ...\n",
       "136  907025384.0  akshaykumar   26252169.0           NaN\n",
       "137  907025384.0  akshaykumar   26252169.0           NaN\n",
       "138  907025384.0  akshaykumar   26252169.0           NaN\n",
       "139  907025384.0  akshaykumar   26252169.0           NaN\n",
       "140  907025384.0  akshaykumar   26252169.0           NaN\n",
       "\n",
       "[141 rows x 4 columns]"
      ]
     },
     "execution_count": 8,
     "metadata": {},
     "output_type": "execute_result"
    }
   ],
   "source": [
    "merge2 = pd.merge(left = influenti_follower, right = insta_post3, on= 'profile_id')\n",
    "merge2"
   ]
  },
  {
   "cell_type": "code",
   "execution_count": 33,
   "id": "6aee2d79",
   "metadata": {},
   "outputs": [
    {
     "data": {
      "text/html": [
       "<div>\n",
       "<style scoped>\n",
       "    .dataframe tbody tr th:only-of-type {\n",
       "        vertical-align: middle;\n",
       "    }\n",
       "\n",
       "    .dataframe tbody tr th {\n",
       "        vertical-align: top;\n",
       "    }\n",
       "\n",
       "    .dataframe thead th {\n",
       "        text-align: right;\n",
       "    }\n",
       "</style>\n",
       "<table border=\"1\" class=\"dataframe\">\n",
       "  <thead>\n",
       "    <tr style=\"text-align: right;\">\n",
       "      <th></th>\n",
       "      <th>profile_id</th>\n",
       "      <th>profile_name</th>\n",
       "      <th>followers</th>\n",
       "      <th>location_id</th>\n",
       "      <th>location_duplicate</th>\n",
       "    </tr>\n",
       "  </thead>\n",
       "  <tbody>\n",
       "    <tr>\n",
       "      <th>29</th>\n",
       "      <td>2.423993e+07</td>\n",
       "      <td>princessyahrini</td>\n",
       "      <td>29042823.0</td>\n",
       "      <td>2.130118e+08</td>\n",
       "      <td>9</td>\n",
       "    </tr>\n",
       "    <tr>\n",
       "      <th>88</th>\n",
       "      <td>4.968651e+08</td>\n",
       "      <td>andresiniesta8</td>\n",
       "      <td>29542143.0</td>\n",
       "      <td>3.669021e+08</td>\n",
       "      <td>3</td>\n",
       "    </tr>\n",
       "    <tr>\n",
       "      <th>42</th>\n",
       "      <td>2.423993e+07</td>\n",
       "      <td>princessyahrini</td>\n",
       "      <td>29042823.0</td>\n",
       "      <td>1.906910e+15</td>\n",
       "      <td>2</td>\n",
       "    </tr>\n",
       "    <tr>\n",
       "      <th>85</th>\n",
       "      <td>5.041706e+07</td>\n",
       "      <td>danbilzerian</td>\n",
       "      <td>26476004.0</td>\n",
       "      <td>1.731498e+15</td>\n",
       "      <td>2</td>\n",
       "    </tr>\n",
       "    <tr>\n",
       "      <th>19</th>\n",
       "      <td>2.082449e+07</td>\n",
       "      <td>nba</td>\n",
       "      <td>35339708.0</td>\n",
       "      <td>1.027474e+09</td>\n",
       "      <td>2</td>\n",
       "    </tr>\n",
       "    <tr>\n",
       "      <th>...</th>\n",
       "      <td>...</td>\n",
       "      <td>...</td>\n",
       "      <td>...</td>\n",
       "      <td>...</td>\n",
       "      <td>...</td>\n",
       "    </tr>\n",
       "    <tr>\n",
       "      <th>30</th>\n",
       "      <td>2.423993e+07</td>\n",
       "      <td>princessyahrini</td>\n",
       "      <td>29042823.0</td>\n",
       "      <td>2.140295e+08</td>\n",
       "      <td>1</td>\n",
       "    </tr>\n",
       "    <tr>\n",
       "      <th>28</th>\n",
       "      <td>2.423993e+07</td>\n",
       "      <td>princessyahrini</td>\n",
       "      <td>29042823.0</td>\n",
       "      <td>6.975204e+07</td>\n",
       "      <td>1</td>\n",
       "    </tr>\n",
       "    <tr>\n",
       "      <th>27</th>\n",
       "      <td>2.423993e+07</td>\n",
       "      <td>princessyahrini</td>\n",
       "      <td>29042823.0</td>\n",
       "      <td>3.108364e+06</td>\n",
       "      <td>1</td>\n",
       "    </tr>\n",
       "    <tr>\n",
       "      <th>26</th>\n",
       "      <td>2.423993e+07</td>\n",
       "      <td>princessyahrini</td>\n",
       "      <td>29042823.0</td>\n",
       "      <td>2.550090e+05</td>\n",
       "      <td>1</td>\n",
       "    </tr>\n",
       "    <tr>\n",
       "      <th>91</th>\n",
       "      <td>2.125507e+09</td>\n",
       "      <td>buzzfeedtasty</td>\n",
       "      <td>30246783.0</td>\n",
       "      <td>2.844071e+08</td>\n",
       "      <td>1</td>\n",
       "    </tr>\n",
       "  </tbody>\n",
       "</table>\n",
       "<p>92 rows × 5 columns</p>\n",
       "</div>"
      ],
      "text/plain": [
       "      profile_id     profile_name   followers   location_id  \\\n",
       "29  2.423993e+07  princessyahrini  29042823.0  2.130118e+08   \n",
       "88  4.968651e+08   andresiniesta8  29542143.0  3.669021e+08   \n",
       "42  2.423993e+07  princessyahrini  29042823.0  1.906910e+15   \n",
       "85  5.041706e+07     danbilzerian  26476004.0  1.731498e+15   \n",
       "19  2.082449e+07              nba  35339708.0  1.027474e+09   \n",
       "..           ...              ...         ...           ...   \n",
       "30  2.423993e+07  princessyahrini  29042823.0  2.140295e+08   \n",
       "28  2.423993e+07  princessyahrini  29042823.0  6.975204e+07   \n",
       "27  2.423993e+07  princessyahrini  29042823.0  3.108364e+06   \n",
       "26  2.423993e+07  princessyahrini  29042823.0  2.550090e+05   \n",
       "91  2.125507e+09    buzzfeedtasty  30246783.0  2.844071e+08   \n",
       "\n",
       "    location_duplicate  \n",
       "29                   9  \n",
       "88                   3  \n",
       "42                   2  \n",
       "85                   2  \n",
       "19                   2  \n",
       "..                 ...  \n",
       "30                   1  \n",
       "28                   1  \n",
       "27                   1  \n",
       "26                   1  \n",
       "91                   1  \n",
       "\n",
       "[92 rows x 5 columns]"
      ]
     },
     "execution_count": 33,
     "metadata": {},
     "output_type": "execute_result"
    }
   ],
   "source": [
    "merge4 = merge2.groupby(merge2.columns.tolist()).size().reset_index().\\\n",
    "   rename(columns={0:'location_duplicate'}).sort_values(['location_duplicate'],ascending=False)\n",
    "merge4 "
   ]
  },
  {
   "cell_type": "code",
   "execution_count": 37,
   "id": "db9ee146",
   "metadata": {},
   "outputs": [
    {
     "data": {
      "text/html": [
       "<div>\n",
       "<style scoped>\n",
       "    .dataframe tbody tr th:only-of-type {\n",
       "        vertical-align: middle;\n",
       "    }\n",
       "\n",
       "    .dataframe tbody tr th {\n",
       "        vertical-align: top;\n",
       "    }\n",
       "\n",
       "    .dataframe thead th {\n",
       "        text-align: right;\n",
       "    }\n",
       "</style>\n",
       "<table border=\"1\" class=\"dataframe\">\n",
       "  <thead>\n",
       "    <tr style=\"text-align: right;\">\n",
       "      <th></th>\n",
       "      <th>id</th>\n",
       "      <th>city</th>\n",
       "    </tr>\n",
       "  </thead>\n",
       "  <tbody>\n",
       "    <tr>\n",
       "      <th>0</th>\n",
       "      <td>110296492939207</td>\n",
       "      <td>NaN</td>\n",
       "    </tr>\n",
       "    <tr>\n",
       "      <th>1</th>\n",
       "      <td>274391278</td>\n",
       "      <td>Nová Vieska</td>\n",
       "    </tr>\n",
       "    <tr>\n",
       "      <th>2</th>\n",
       "      <td>148885595789195</td>\n",
       "      <td>Kathmandu, Nepal</td>\n",
       "    </tr>\n",
       "    <tr>\n",
       "      <th>3</th>\n",
       "      <td>263258277</td>\n",
       "      <td>Paris, France</td>\n",
       "    </tr>\n",
       "    <tr>\n",
       "      <th>4</th>\n",
       "      <td>406147529857708</td>\n",
       "      <td>Burbank, California</td>\n",
       "    </tr>\n",
       "    <tr>\n",
       "      <th>...</th>\n",
       "      <td>...</td>\n",
       "      <td>...</td>\n",
       "    </tr>\n",
       "    <tr>\n",
       "      <th>1022653</th>\n",
       "      <td>873926439475785</td>\n",
       "      <td>Santa Cruz de la Sierra, Bolivia</td>\n",
       "    </tr>\n",
       "    <tr>\n",
       "      <th>1022654</th>\n",
       "      <td>390707529</td>\n",
       "      <td>NaN</td>\n",
       "    </tr>\n",
       "    <tr>\n",
       "      <th>1022655</th>\n",
       "      <td>1205466612894741</td>\n",
       "      <td>Orland Park, Illinois</td>\n",
       "    </tr>\n",
       "    <tr>\n",
       "      <th>1022656</th>\n",
       "      <td>286794844</td>\n",
       "      <td>Wellington, New Zealand</td>\n",
       "    </tr>\n",
       "    <tr>\n",
       "      <th>1022657</th>\n",
       "      <td>554330673</td>\n",
       "      <td>NaN</td>\n",
       "    </tr>\n",
       "  </tbody>\n",
       "</table>\n",
       "<p>1022658 rows × 2 columns</p>\n",
       "</div>"
      ],
      "text/plain": [
       "                       id                              city\n",
       "0         110296492939207                               NaN\n",
       "1               274391278                       Nová Vieska\n",
       "2         148885595789195                  Kathmandu, Nepal\n",
       "3               263258277                     Paris, France\n",
       "4         406147529857708               Burbank, California\n",
       "...                   ...                               ...\n",
       "1022653   873926439475785  Santa Cruz de la Sierra, Bolivia\n",
       "1022654         390707529                               NaN\n",
       "1022655  1205466612894741             Orland Park, Illinois\n",
       "1022656         286794844           Wellington, New Zealand\n",
       "1022657         554330673                               NaN\n",
       "\n",
       "[1022658 rows x 2 columns]"
      ]
     },
     "execution_count": 37,
     "metadata": {},
     "output_type": "execute_result"
    }
   ],
   "source": [
    "city =pd.read_csv('~/instagram_locations.csv', delimiter=\"\\t\", usecols = ['id', 'city'])\n",
    "city"
   ]
  },
  {
   "cell_type": "code",
   "execution_count": 39,
   "id": "35385271",
   "metadata": {},
   "outputs": [],
   "source": [
    "city2=city.rename(columns={\"id\": \"location_id\"})"
   ]
  },
  {
   "cell_type": "code",
   "execution_count": 40,
   "id": "a7dbd669",
   "metadata": {},
   "outputs": [],
   "source": [
    "merge5 = pd.merge(left = merge4, right = city2, on= 'location_id')"
   ]
  },
  {
   "cell_type": "code",
   "execution_count": 49,
   "id": "021bad19",
   "metadata": {},
   "outputs": [
    {
     "data": {
      "text/html": [
       "<div>\n",
       "<style scoped>\n",
       "    .dataframe tbody tr th:only-of-type {\n",
       "        vertical-align: middle;\n",
       "    }\n",
       "\n",
       "    .dataframe tbody tr th {\n",
       "        vertical-align: top;\n",
       "    }\n",
       "\n",
       "    .dataframe thead th {\n",
       "        text-align: right;\n",
       "    }\n",
       "</style>\n",
       "<table border=\"1\" class=\"dataframe\">\n",
       "  <thead>\n",
       "    <tr style=\"text-align: right;\">\n",
       "      <th></th>\n",
       "      <th>profile_id</th>\n",
       "      <th>profile_name</th>\n",
       "      <th>followers</th>\n",
       "      <th>location_id</th>\n",
       "      <th>location_duplicate</th>\n",
       "      <th>city</th>\n",
       "    </tr>\n",
       "  </thead>\n",
       "  <tbody>\n",
       "    <tr>\n",
       "      <th>0</th>\n",
       "      <td>24239929.0</td>\n",
       "      <td>princessyahrini</td>\n",
       "      <td>29042823.0</td>\n",
       "      <td>2.130118e+08</td>\n",
       "      <td>9</td>\n",
       "      <td>Sydney, Australia</td>\n",
       "    </tr>\n",
       "    <tr>\n",
       "      <th>1</th>\n",
       "      <td>496865116.0</td>\n",
       "      <td>andresiniesta8</td>\n",
       "      <td>29542143.0</td>\n",
       "      <td>3.669021e+08</td>\n",
       "      <td>3</td>\n",
       "      <td>Kobe-shi, Hyogo, Japan</td>\n",
       "    </tr>\n",
       "    <tr>\n",
       "      <th>2</th>\n",
       "      <td>24239929.0</td>\n",
       "      <td>princessyahrini</td>\n",
       "      <td>29042823.0</td>\n",
       "      <td>1.906910e+15</td>\n",
       "      <td>2</td>\n",
       "      <td>Vaitape, French Polynesia</td>\n",
       "    </tr>\n",
       "    <tr>\n",
       "      <th>3</th>\n",
       "      <td>50417061.0</td>\n",
       "      <td>danbilzerian</td>\n",
       "      <td>26476004.0</td>\n",
       "      <td>1.731498e+15</td>\n",
       "      <td>2</td>\n",
       "      <td>Los Angeles, California</td>\n",
       "    </tr>\n",
       "  </tbody>\n",
       "</table>\n",
       "</div>"
      ],
      "text/plain": [
       "    profile_id     profile_name   followers   location_id  location_duplicate  \\\n",
       "0   24239929.0  princessyahrini  29042823.0  2.130118e+08                   9   \n",
       "1  496865116.0   andresiniesta8  29542143.0  3.669021e+08                   3   \n",
       "2   24239929.0  princessyahrini  29042823.0  1.906910e+15                   2   \n",
       "3   50417061.0     danbilzerian  26476004.0  1.731498e+15                   2   \n",
       "\n",
       "                        city  \n",
       "0          Sydney, Australia  \n",
       "1     Kobe-shi, Hyogo, Japan  \n",
       "2  Vaitape, French Polynesia  \n",
       "3    Los Angeles, California  "
      ]
     },
     "execution_count": 49,
     "metadata": {},
     "output_type": "execute_result"
    }
   ],
   "source": [
    "most_visited=merge5.head(4)\n",
    "most_visited"
   ]
  },
  {
   "cell_type": "code",
   "execution_count": 50,
   "id": "37f814d2",
   "metadata": {},
   "outputs": [
    {
     "data": {
      "text/plain": [
       "<BarContainer object of 4 artists>"
      ]
     },
     "execution_count": 50,
     "metadata": {},
     "output_type": "execute_result"
    },
    {
     "data": {
      "image/png": "[encoded data removed]",
      "text/plain": [
       "<Figure size 1400x900 with 1 Axes>"
      ]
     },
     "metadata": {},
     "output_type": "display_data"
    }
   ],
   "source": [
    "x, y = plt.subplots(figsize = (14,9))\n",
    "plt.bar(most_visited.city,most_visited.location_duplicate)"
   ]
  },
  {
   "cell_type": "markdown",
   "id": "fd9a05d3",
   "metadata": {},
   "source": [
    "Among the most influential users, Sydney is the most visited location. It makes sense plotting only the top-4 most visited locations because all the other locations in the top-10 have been visited only once."
   ]
  },
  {
   "cell_type": "markdown",
   "id": "c8aca498",
   "metadata": {},
   "source": [
    "### How many pictures-only posts have they published? How many reels? (only videos) and how many with both contents? Provide the number as percentages and interpret those figures."
   ]
  },
  {
   "cell_type": "code",
   "execution_count": 49,
   "id": "072df2ac",
   "metadata": {},
   "outputs": [],
   "source": [
    "insta_type = pd.read_csv('~/instagram_posts.csv', delimiter=\"\\t\", usecols = ['profile_id', 'post_type'])"
   ]
  },
  {
   "cell_type": "code",
   "execution_count": 55,
   "id": "37ac5a08",
   "metadata": {},
   "outputs": [
    {
     "data": {
      "text/html": [
       "<div>\n",
       "<style scoped>\n",
       "    .dataframe tbody tr th:only-of-type {\n",
       "        vertical-align: middle;\n",
       "    }\n",
       "\n",
       "    .dataframe tbody tr th {\n",
       "        vertical-align: top;\n",
       "    }\n",
       "\n",
       "    .dataframe thead th {\n",
       "        text-align: right;\n",
       "    }\n",
       "</style>\n",
       "<table border=\"1\" class=\"dataframe\">\n",
       "  <thead>\n",
       "    <tr style=\"text-align: right;\">\n",
       "      <th></th>\n",
       "      <th>profile_id</th>\n",
       "      <th>post_type</th>\n",
       "    </tr>\n",
       "  </thead>\n",
       "  <tbody>\n",
       "    <tr>\n",
       "      <th>266570</th>\n",
       "      <td>25025320.0</td>\n",
       "      <td>1</td>\n",
       "    </tr>\n",
       "    <tr>\n",
       "      <th>659635</th>\n",
       "      <td>25025320.0</td>\n",
       "      <td>1</td>\n",
       "    </tr>\n",
       "    <tr>\n",
       "      <th>1441841</th>\n",
       "      <td>25025320.0</td>\n",
       "      <td>1</td>\n",
       "    </tr>\n",
       "    <tr>\n",
       "      <th>1559527</th>\n",
       "      <td>20824486.0</td>\n",
       "      <td>1</td>\n",
       "    </tr>\n",
       "    <tr>\n",
       "      <th>2410579</th>\n",
       "      <td>25025320.0</td>\n",
       "      <td>1</td>\n",
       "    </tr>\n",
       "    <tr>\n",
       "      <th>...</th>\n",
       "      <td>...</td>\n",
       "      <td>...</td>\n",
       "    </tr>\n",
       "    <tr>\n",
       "      <th>41532427</th>\n",
       "      <td>25025320.0</td>\n",
       "      <td>1</td>\n",
       "    </tr>\n",
       "    <tr>\n",
       "      <th>41608204</th>\n",
       "      <td>25025320.0</td>\n",
       "      <td>1</td>\n",
       "    </tr>\n",
       "    <tr>\n",
       "      <th>41874115</th>\n",
       "      <td>20824486.0</td>\n",
       "      <td>1</td>\n",
       "    </tr>\n",
       "    <tr>\n",
       "      <th>42211393</th>\n",
       "      <td>20824486.0</td>\n",
       "      <td>2</td>\n",
       "    </tr>\n",
       "    <tr>\n",
       "      <th>42424990</th>\n",
       "      <td>25025320.0</td>\n",
       "      <td>1</td>\n",
       "    </tr>\n",
       "  </tbody>\n",
       "</table>\n",
       "<p>141 rows × 2 columns</p>\n",
       "</div>"
      ],
      "text/plain": [
       "          profile_id  post_type\n",
       "266570    25025320.0          1\n",
       "659635    25025320.0          1\n",
       "1441841   25025320.0          1\n",
       "1559527   20824486.0          1\n",
       "2410579   25025320.0          1\n",
       "...              ...        ...\n",
       "41532427  25025320.0          1\n",
       "41608204  25025320.0          1\n",
       "41874115  20824486.0          1\n",
       "42211393  20824486.0          2\n",
       "42424990  25025320.0          1\n",
       "\n",
       "[141 rows x 2 columns]"
      ]
     },
     "execution_count": 55,
     "metadata": {},
     "output_type": "execute_result"
    }
   ],
   "source": [
    "merge_type = insta_type.loc[insta_type['profile_id'].isin(influenti_follower['profile_id']), ['profile_id', 'post_type'] ]\n",
    "merge_type"
   ]
  },
  {
   "cell_type": "code",
   "execution_count": 198,
   "id": "4c3c409e",
   "metadata": {},
   "outputs": [
    {
     "name": "stdout",
     "output_type": "stream",
     "text": [
      "128 13 0\n"
     ]
    }
   ],
   "source": [
    "first1 = sum((merge_type['post_type'])==1)\n",
    "second1 = sum((merge_type['post_type'])==2)\n",
    "third1 = sum((merge_type['post_type'])==3)\n",
    "print(first1, second1, third1)"
   ]
  },
  {
   "cell_type": "code",
   "execution_count": 14,
   "id": "ee895b10",
   "metadata": {},
   "outputs": [
    {
     "data": {
      "text/plain": [
       "141"
      ]
     },
     "execution_count": 14,
     "metadata": {},
     "output_type": "execute_result"
    }
   ],
   "source": [
    "tot = first1 +second1+third1\n",
    "tot"
   ]
  },
  {
   "cell_type": "code",
   "execution_count": 20,
   "id": "e3e2157d",
   "metadata": {},
   "outputs": [
    {
     "name": "stdout",
     "output_type": "stream",
     "text": [
      "Percentage only photos:    90.78014 %\n",
      "Percentage only videos:   9.21986 %\n",
      "Percentage photos + videos:  0.0 %\n"
     ]
    }
   ],
   "source": [
    "print(\"Percentage only photos:   \",round(100*first1/tot,5) ,\"%\")\n",
    "print(\"Percentage only videos:  \",round(100*second1/tot,5) ,\"%\" )\n",
    "print(\"Percentage photos + videos: \",round(100*third1/tot,5) ,\"%\" )"
   ]
  },
  {
   "cell_type": "markdown",
   "id": "8069394a",
   "metadata": {},
   "source": [
    "Among the top 10 most popular users, pictures-only posts are 90.78% of the total, 9.22% are only-videos posts. There are no posts with both types together. This result could be motivated by the impact of photos versus videos: photos are quicker to be seen, and since we are considering the top 10 most popular users, this could be a marketing strategy. The fact that there are no posts with both photos and videos could be motivated by the necessity to create \"more contents\": for them could be better to have two posts, one with photos and one with videos, instead of only one with both."
   ]
  },
  {
   "cell_type": "markdown",
   "id": "08fe60a0",
   "metadata": {},
   "source": [
    "### How many \"likes\" and comments did posts with only pictures receive? How about videos and mixed posts? Try to provide the average numbers and confront them with their followers amount, explaining what you can say from that comparison."
   ]
  },
  {
   "cell_type": "code",
   "execution_count": 48,
   "id": "c6f94c77",
   "metadata": {},
   "outputs": [],
   "source": [
    "insta_likes = pd.read_csv('~/instagram_posts.csv', delimiter=\"\\t\", usecols = ['numbr_likes', 'profile_id', 'number_comments'])"
   ]
  },
  {
   "cell_type": "code",
   "execution_count": 56,
   "id": "6bd61e6b",
   "metadata": {},
   "outputs": [
    {
     "data": {
      "text/html": [
       "<div>\n",
       "<style scoped>\n",
       "    .dataframe tbody tr th:only-of-type {\n",
       "        vertical-align: middle;\n",
       "    }\n",
       "\n",
       "    .dataframe tbody tr th {\n",
       "        vertical-align: top;\n",
       "    }\n",
       "\n",
       "    .dataframe thead th {\n",
       "        text-align: right;\n",
       "    }\n",
       "</style>\n",
       "<table border=\"1\" class=\"dataframe\">\n",
       "  <thead>\n",
       "    <tr style=\"text-align: right;\">\n",
       "      <th></th>\n",
       "      <th>profile_id</th>\n",
       "      <th>post_type</th>\n",
       "      <th>numbr_likes</th>\n",
       "      <th>number_comments</th>\n",
       "    </tr>\n",
       "  </thead>\n",
       "  <tbody>\n",
       "    <tr>\n",
       "      <th>0</th>\n",
       "      <td>25025320.0</td>\n",
       "      <td>1</td>\n",
       "      <td>125428.0</td>\n",
       "      <td>1240.0</td>\n",
       "    </tr>\n",
       "    <tr>\n",
       "      <th>1</th>\n",
       "      <td>25025320.0</td>\n",
       "      <td>1</td>\n",
       "      <td>669786.0</td>\n",
       "      <td>4818.0</td>\n",
       "    </tr>\n",
       "    <tr>\n",
       "      <th>2</th>\n",
       "      <td>25025320.0</td>\n",
       "      <td>1</td>\n",
       "      <td>1914299.0</td>\n",
       "      <td>20065.0</td>\n",
       "    </tr>\n",
       "    <tr>\n",
       "      <th>3</th>\n",
       "      <td>25025320.0</td>\n",
       "      <td>1</td>\n",
       "      <td>840588.0</td>\n",
       "      <td>3627.0</td>\n",
       "    </tr>\n",
       "    <tr>\n",
       "      <th>4</th>\n",
       "      <td>25025320.0</td>\n",
       "      <td>1</td>\n",
       "      <td>385494.0</td>\n",
       "      <td>5664.0</td>\n",
       "    </tr>\n",
       "    <tr>\n",
       "      <th>...</th>\n",
       "      <td>...</td>\n",
       "      <td>...</td>\n",
       "      <td>...</td>\n",
       "      <td>...</td>\n",
       "    </tr>\n",
       "    <tr>\n",
       "      <th>2912</th>\n",
       "      <td>496865116.0</td>\n",
       "      <td>1</td>\n",
       "      <td>283998.0</td>\n",
       "      <td>847.0</td>\n",
       "    </tr>\n",
       "    <tr>\n",
       "      <th>2913</th>\n",
       "      <td>496865116.0</td>\n",
       "      <td>1</td>\n",
       "      <td>263077.0</td>\n",
       "      <td>389.0</td>\n",
       "    </tr>\n",
       "    <tr>\n",
       "      <th>2914</th>\n",
       "      <td>496865116.0</td>\n",
       "      <td>1</td>\n",
       "      <td>635349.0</td>\n",
       "      <td>2484.0</td>\n",
       "    </tr>\n",
       "    <tr>\n",
       "      <th>2915</th>\n",
       "      <td>496865116.0</td>\n",
       "      <td>1</td>\n",
       "      <td>969373.0</td>\n",
       "      <td>7658.0</td>\n",
       "    </tr>\n",
       "    <tr>\n",
       "      <th>2916</th>\n",
       "      <td>187619120.0</td>\n",
       "      <td>1</td>\n",
       "      <td>186857.0</td>\n",
       "      <td>867.0</td>\n",
       "    </tr>\n",
       "  </tbody>\n",
       "</table>\n",
       "<p>2917 rows × 4 columns</p>\n",
       "</div>"
      ],
      "text/plain": [
       "       profile_id  post_type  numbr_likes  number_comments\n",
       "0      25025320.0          1     125428.0           1240.0\n",
       "1      25025320.0          1     669786.0           4818.0\n",
       "2      25025320.0          1    1914299.0          20065.0\n",
       "3      25025320.0          1     840588.0           3627.0\n",
       "4      25025320.0          1     385494.0           5664.0\n",
       "...           ...        ...          ...              ...\n",
       "2912  496865116.0          1     283998.0            847.0\n",
       "2913  496865116.0          1     263077.0            389.0\n",
       "2914  496865116.0          1     635349.0           2484.0\n",
       "2915  496865116.0          1     969373.0           7658.0\n",
       "2916  187619120.0          1     186857.0            867.0\n",
       "\n",
       "[2917 rows x 4 columns]"
      ]
     },
     "execution_count": 56,
     "metadata": {},
     "output_type": "execute_result"
    }
   ],
   "source": [
    "merge_likes = pd.merge(left = merge_type, right = insta_likes, on= 'profile_id')\n",
    "merge_likes"
   ]
  },
  {
   "cell_type": "code",
   "execution_count": 58,
   "id": "9c30f7eb",
   "metadata": {},
   "outputs": [
    {
     "name": "stdout",
     "output_type": "stream",
     "text": [
      "Total number of likes and comments when post_type = 1 \n",
      "and post_type = 2 \n",
      "\n"
     ]
    },
    {
     "data": {
      "text/html": [
       "<div>\n",
       "<style scoped>\n",
       "    .dataframe tbody tr th:only-of-type {\n",
       "        vertical-align: middle;\n",
       "    }\n",
       "\n",
       "    .dataframe tbody tr th {\n",
       "        vertical-align: top;\n",
       "    }\n",
       "\n",
       "    .dataframe thead th {\n",
       "        text-align: right;\n",
       "    }\n",
       "</style>\n",
       "<table border=\"1\" class=\"dataframe\">\n",
       "  <thead>\n",
       "    <tr style=\"text-align: right;\">\n",
       "      <th></th>\n",
       "      <th>numbr_likes</th>\n",
       "      <th>number_comments</th>\n",
       "    </tr>\n",
       "    <tr>\n",
       "      <th>post_type</th>\n",
       "      <th></th>\n",
       "      <th></th>\n",
       "    </tr>\n",
       "  </thead>\n",
       "  <tbody>\n",
       "    <tr>\n",
       "      <th>1</th>\n",
       "      <td>1.519970e+09</td>\n",
       "      <td>11240432.0</td>\n",
       "    </tr>\n",
       "    <tr>\n",
       "      <th>2</th>\n",
       "      <td>1.240385e+08</td>\n",
       "      <td>838639.0</td>\n",
       "    </tr>\n",
       "  </tbody>\n",
       "</table>\n",
       "</div>"
      ],
      "text/plain": [
       "            numbr_likes  number_comments\n",
       "post_type                               \n",
       "1          1.519970e+09       11240432.0\n",
       "2          1.240385e+08         838639.0"
      ]
     },
     "execution_count": 58,
     "metadata": {},
     "output_type": "execute_result"
    }
   ],
   "source": [
    "like1 = merge_likes.groupby(['post_type']).sum(['numbr_likes', 'number_comments'])\n",
    "print(\"Total number of likes and comments when post_type = 1 \\nand post_type = 2 \\n\")\n",
    "like1.drop(['profile_id'], axis =1)"
   ]
  },
  {
   "cell_type": "code",
   "execution_count": 59,
   "id": "9c76f480",
   "metadata": {},
   "outputs": [
    {
     "data": {
      "text/html": [
       "<div>\n",
       "<style scoped>\n",
       "    .dataframe tbody tr th:only-of-type {\n",
       "        vertical-align: middle;\n",
       "    }\n",
       "\n",
       "    .dataframe tbody tr th {\n",
       "        vertical-align: top;\n",
       "    }\n",
       "\n",
       "    .dataframe thead th {\n",
       "        text-align: right;\n",
       "    }\n",
       "</style>\n",
       "<table border=\"1\" class=\"dataframe\">\n",
       "  <thead>\n",
       "    <tr style=\"text-align: right;\">\n",
       "      <th></th>\n",
       "      <th>numbr_likes</th>\n",
       "      <th>number_comments</th>\n",
       "    </tr>\n",
       "    <tr>\n",
       "      <th>post_type</th>\n",
       "      <th></th>\n",
       "      <th></th>\n",
       "    </tr>\n",
       "  </thead>\n",
       "  <tbody>\n",
       "    <tr>\n",
       "      <th>1</th>\n",
       "      <td>577277.0</td>\n",
       "      <td>4269.0</td>\n",
       "    </tr>\n",
       "    <tr>\n",
       "      <th>2</th>\n",
       "      <td>436755.0</td>\n",
       "      <td>2953.0</td>\n",
       "    </tr>\n",
       "  </tbody>\n",
       "</table>\n",
       "</div>"
      ],
      "text/plain": [
       "           numbr_likes  number_comments\n",
       "post_type                              \n",
       "1             577277.0           4269.0\n",
       "2             436755.0           2953.0"
      ]
     },
     "execution_count": 59,
     "metadata": {},
     "output_type": "execute_result"
    }
   ],
   "source": [
    "\n",
    "like2 = merge_likes.groupby(['post_type']).mean(['numbr_likes', 'number_comments']).round()\n",
    "like2.drop(['profile_id'], axis =1)\n",
    "\n"
   ]
  },
  {
   "cell_type": "code",
   "execution_count": 60,
   "id": "93640577",
   "metadata": {},
   "outputs": [
    {
     "data": {
      "text/plain": [
       "2880218    285457645.0\n",
       "2582507     65269440.0\n",
       "3820939     35339708.0\n",
       "701965      30689316.0\n",
       "2414951     30246783.0\n",
       "2785241     29542143.0\n",
       "333193      29176804.0\n",
       "3934581     29042823.0\n",
       "1311970     26476004.0\n",
       "1703764     26252169.0\n",
       "Name: followers, dtype: float64"
      ]
     },
     "execution_count": 60,
     "metadata": {},
     "output_type": "execute_result"
    }
   ],
   "source": [
    "influenti_follower['followers']"
   ]
  },
  {
   "cell_type": "code",
   "execution_count": 61,
   "id": "9f246963",
   "metadata": {},
   "outputs": [
    {
     "data": {
      "text/plain": [
       "58749283.5"
      ]
     },
     "execution_count": 61,
     "metadata": {},
     "output_type": "execute_result"
    }
   ],
   "source": [
    "np.mean(influenti_follower['followers'])"
   ]
  },
  {
   "cell_type": "markdown",
   "id": "f52917db",
   "metadata": {},
   "source": [
    "Comparing the average number of likes and comments with their followers amount, we can conclude that the average number of likes and comments doesn't exceed respectively the 0.98% and the 0.74% of the average number of followers."
   ]
  },
  {
   "cell_type": "markdown",
   "id": "36f2c7f4",
   "metadata": {},
   "source": [
    "# RQ6"
   ]
  },
  {
   "cell_type": "markdown",
   "id": "72a1a9c1",
   "metadata": {},
   "source": [
    "### What is the average time (days and minutes) a user lets pass before publishing another post? Plot the top 3 users that publish posts more frequently (calculate the average time that passes between posts), including their amount of followers and following. Provide insights from that chart."
   ]
  },
  {
   "cell_type": "code",
   "execution_count": 6,
   "id": "1c589557",
   "metadata": {},
   "outputs": [],
   "source": [
    "postrq6 = pd.read_csv('~/instagram_posts.csv', delimiter=\"\\t\",usecols=['profile_id', 'cts'], nrows = 10000000)"
   ]
  },
  {
   "cell_type": "code",
   "execution_count": 7,
   "id": "63da6d97",
   "metadata": {},
   "outputs": [
    {
     "data": {
      "text/html": [
       "<div>\n",
       "<style scoped>\n",
       "    .dataframe tbody tr th:only-of-type {\n",
       "        vertical-align: middle;\n",
       "    }\n",
       "\n",
       "    .dataframe tbody tr th {\n",
       "        vertical-align: top;\n",
       "    }\n",
       "\n",
       "    .dataframe thead th {\n",
       "        text-align: right;\n",
       "    }\n",
       "</style>\n",
       "<table border=\"1\" class=\"dataframe\">\n",
       "  <thead>\n",
       "    <tr style=\"text-align: right;\">\n",
       "      <th></th>\n",
       "      <th>profile_id</th>\n",
       "      <th>cts</th>\n",
       "    </tr>\n",
       "  </thead>\n",
       "  <tbody>\n",
       "    <tr>\n",
       "      <th>7017555</th>\n",
       "      <td>4.000000e+00</td>\n",
       "      <td>2010-07-24 03:18:08</td>\n",
       "    </tr>\n",
       "    <tr>\n",
       "      <th>4225968</th>\n",
       "      <td>3.000000e+00</td>\n",
       "      <td>2010-08-21 06:40:27</td>\n",
       "    </tr>\n",
       "    <tr>\n",
       "      <th>1939650</th>\n",
       "      <td>3.000000e+00</td>\n",
       "      <td>2010-09-05 21:48:24</td>\n",
       "    </tr>\n",
       "    <tr>\n",
       "      <th>6933182</th>\n",
       "      <td>1.018000e+03</td>\n",
       "      <td>2010-10-17 19:28:18</td>\n",
       "    </tr>\n",
       "    <tr>\n",
       "      <th>6477781</th>\n",
       "      <td>1.900000e+01</td>\n",
       "      <td>2010-10-23 20:41:29</td>\n",
       "    </tr>\n",
       "    <tr>\n",
       "      <th>...</th>\n",
       "      <td>...</td>\n",
       "      <td>...</td>\n",
       "    </tr>\n",
       "    <tr>\n",
       "      <th>9999537</th>\n",
       "      <td>2.037050e+08</td>\n",
       "      <td>2019-07-07 10:08:31</td>\n",
       "    </tr>\n",
       "    <tr>\n",
       "      <th>9999939</th>\n",
       "      <td>2.137618e+08</td>\n",
       "      <td>2019-07-07 10:13:39</td>\n",
       "    </tr>\n",
       "    <tr>\n",
       "      <th>9999376</th>\n",
       "      <td>5.073716e+07</td>\n",
       "      <td>2019-07-07 10:16:00</td>\n",
       "    </tr>\n",
       "    <tr>\n",
       "      <th>9999243</th>\n",
       "      <td>2.042877e+09</td>\n",
       "      <td>2019-07-07 10:37:52</td>\n",
       "    </tr>\n",
       "    <tr>\n",
       "      <th>9997117</th>\n",
       "      <td>1.923674e+08</td>\n",
       "      <td>2019-07-07 10:39:13</td>\n",
       "    </tr>\n",
       "  </tbody>\n",
       "</table>\n",
       "<p>10000000 rows × 2 columns</p>\n",
       "</div>"
      ],
      "text/plain": [
       "           profile_id                 cts\n",
       "7017555  4.000000e+00 2010-07-24 03:18:08\n",
       "4225968  3.000000e+00 2010-08-21 06:40:27\n",
       "1939650  3.000000e+00 2010-09-05 21:48:24\n",
       "6933182  1.018000e+03 2010-10-17 19:28:18\n",
       "6477781  1.900000e+01 2010-10-23 20:41:29\n",
       "...               ...                 ...\n",
       "9999537  2.037050e+08 2019-07-07 10:08:31\n",
       "9999939  2.137618e+08 2019-07-07 10:13:39\n",
       "9999376  5.073716e+07 2019-07-07 10:16:00\n",
       "9999243  2.042877e+09 2019-07-07 10:37:52\n",
       "9997117  1.923674e+08 2019-07-07 10:39:13\n",
       "\n",
       "[10000000 rows x 2 columns]"
      ]
     },
     "execution_count": 7,
     "metadata": {},
     "output_type": "execute_result"
    }
   ],
   "source": [
    "timerq6 = pd.DataFrame(postrq6[['profile_id', 'cts']])\n",
    "timerq6[['cts']]  = timerq6[['cts']].apply(pd.to_datetime)\n",
    "timerq6.sort_values(by = ['cts'])"
   ]
  },
  {
   "cell_type": "code",
   "execution_count": 8,
   "id": "6508b751",
   "metadata": {},
   "outputs": [
    {
     "name": "stdout",
     "output_type": "stream",
     "text": [
      "Average time a user lets pass before publishing another post: 1 days 10:10:06.004444742\n"
     ]
    }
   ],
   "source": [
    "timerq6['cts_after'] = timerq6.groupby('profile_id').cts.shift(-1) # function Shift index by desired number of periods with an optional time freq.\n",
    "timerq6['cts mean'] = timerq6['cts_after'] - timerq6['cts']\n",
    "mean_time = timerq6['cts mean'].mean()\n",
    "print (\"Average time a user lets pass before publishing another post:\", mean_time)"
   ]
  },
  {
   "cell_type": "markdown",
   "id": "79a0da72",
   "metadata": {},
   "source": [
    "This is not the true mean because we read only 10000000 nrows of dataframe due to parser error. With the entire dataframe the mean should be 33 days. \n"
   ]
  },
  {
   "cell_type": "code",
   "execution_count": 34,
   "id": "4feb3f4e",
   "metadata": {},
   "outputs": [],
   "source": [
    "profilesrq6 = pd.read_csv('~/instagram_profiles.csv', delimiter=\"\\t\", usecols =['profile_id', 'following', 'followers'])"
   ]
  },
  {
   "cell_type": "code",
   "execution_count": 35,
   "id": "ba33b6fa",
   "metadata": {},
   "outputs": [],
   "source": [
    "timerq6 = timerq6.sort_values(by='cts mean')"
   ]
  },
  {
   "cell_type": "code",
   "execution_count": 36,
   "id": "75c1fa6f",
   "metadata": {},
   "outputs": [],
   "source": [
    "timerq6 = pd.concat([timerq6,profilesrq6 ], ignore_index = True, sort=False)"
   ]
  },
  {
   "cell_type": "code",
   "execution_count": 38,
   "id": "1624fba3",
   "metadata": {},
   "outputs": [
    {
     "data": {
      "text/plain": [
       "1.287812e+10    586\n",
       "1.347814e+10    555\n",
       "1.296135e+10    520\n",
       "Name: profile_id, dtype: int64"
      ]
     },
     "execution_count": 38,
     "metadata": {},
     "output_type": "execute_result"
    }
   ],
   "source": [
    "publication = timerq6.loc[timerq6['cts mean'] != timedelta(days =0 , minutes=0, seconds=0), 'profile_id']\n",
    "publication = publication.value_counts().head(3)\n",
    "publication"
   ]
  },
  {
   "cell_type": "code",
   "execution_count": 43,
   "id": "4a4523dc",
   "metadata": {},
   "outputs": [
    {
     "data": {
      "image/png": "[encoded data removed]",
      "text/plain": [
       "<Figure size 576x360 with 1 Axes>"
      ]
     },
     "metadata": {
      "needs_background": "light"
     },
     "output_type": "display_data"
    }
   ],
   "source": [
    "import seaborn as sn \n",
    "publication.plot.bar(figsize = (8,5), color = 'green', zorder = 3)\n",
    "plt.xlabel(\"Profile id\")\n",
    "plt.ylabel(\"Number of posts\")\n",
    "plt.title(\"3 Profile that publish more frequently\")\n",
    "plt.show()\n"
   ]
  },
  {
   "cell_type": "markdown",
   "id": "6dbc202e",
   "metadata": {},
   "source": [
    "### Using the function you previously coded, plot the time intervals with the highest average number of “likes” and the ones with the highest average number of comments on posts."
   ]
  },
  {
   "cell_type": "code",
   "execution_count": 45,
   "id": "9d399a85",
   "metadata": {},
   "outputs": [],
   "source": [
    "postrq62 = pd.read_csv('~/instagram_posts.csv', delimiter=\"\\t\",usecols=['cts', 'numbr_likes', 'number_comments', 'profile_id'])"
   ]
  },
  {
   "cell_type": "code",
   "execution_count": 47,
   "id": "24499fa1",
   "metadata": {},
   "outputs": [],
   "source": [
    "slots = [(6,10),(11,13),(14,16),(17,19),(20,23),(0,2),(3,5)]"
   ]
  },
  {
   "cell_type": "code",
   "execution_count": 48,
   "id": "05d8423f",
   "metadata": {},
   "outputs": [],
   "source": [
    "postrq62['cts']=pd.DatetimeIndex(postrq62['cts']).hour \n"
   ]
  },
  {
   "cell_type": "code",
   "execution_count": 75,
   "id": "be31f6a2",
   "metadata": {},
   "outputs": [],
   "source": [
    "def time_like(data, time, slots): \n",
    "    results = {}\n",
    "    for i in slots:\n",
    "        result = (data[(time >= i[0]) & (time < i[1])]).mean()\n",
    "        results[str(i)] = result\n",
    "    \n",
    "    intervals = []\n",
    "    for i in slots:\n",
    "        intervals.append(str(i))\n",
    "        \n",
    "        \n",
    "    plt.subplots(figsize =(8,5))\n",
    "    plt.bar(range(len(slots)), results.values(), tick_label = intervals, color=(0.1, 0.1, 0.1, 0.1),  edgecolor='blue')\n",
    "    plt.title('Average number of likes for each time interval')\n",
    "    plt.xlabel('Time intervals')\n",
    "    plt.ylabel('Average number of likes')\n",
    "    plt.show()\n",
    "\n",
    "\n",
    "\n",
    "    "
   ]
  },
  {
   "cell_type": "code",
   "execution_count": 76,
   "id": "278dedc9",
   "metadata": {},
   "outputs": [
    {
     "data": {
      "image/png": "[encoded data removed]",
      "text/plain": [
       "<Figure size 576x360 with 1 Axes>"
      ]
     },
     "metadata": {
      "needs_background": "light"
     },
     "output_type": "display_data"
    }
   ],
   "source": [
    "time_like(postrq62.numbr_likes, postrq62.cts, slots)"
   ]
  },
  {
   "cell_type": "code",
   "execution_count": 73,
   "id": "0e2623e1",
   "metadata": {},
   "outputs": [],
   "source": [
    "def time_comments(data, time, slots): \n",
    "    results = {}\n",
    "    for i in slots:\n",
    "        result = (data[(time >= i[0]) & (time < i[1])]).mean()\n",
    "        results[str(i)] = result\n",
    "    \n",
    "    intervals = []\n",
    "    for i in slots:\n",
    "        intervals.append(str(i))\n",
    "        \n",
    "        \n",
    "    plt.subplots(figsize =(8,5))\n",
    "    plt.bar(range(len(slots)), results.values(), tick_label = intervals, color=(0.1, 0.1, 0.1, 0.1),  edgecolor='green')\n",
    "    plt.title('Average number of comments for each time interval')\n",
    "    plt.xlabel('Time intervals')\n",
    "    plt.ylabel('Average number of comments')\n",
    "    plt.show()\n"
   ]
  },
  {
   "cell_type": "code",
   "execution_count": 74,
   "id": "96a985c1",
   "metadata": {},
   "outputs": [
    {
     "data": {
      "image/png": "[encoded data removed]",
      "text/plain": [
       "<Figure size 576x360 with 1 Axes>"
      ]
     },
     "metadata": {
      "needs_background": "light"
     },
     "output_type": "display_data"
    }
   ],
   "source": [
    "time_comments(postrq62.number_comments, postrq62.cts, slots)"
   ]
  },
  {
   "cell_type": "markdown",
   "id": "a85fab80",
   "metadata": {},
   "source": [
    "# RQ7"
   ]
  },
  {
   "cell_type": "markdown",
   "id": "140dbb51",
   "metadata": {},
   "source": [
    "### What's the probability that a post receives more than 20% \"likes\" of the number of followers a user has?"
   ]
  },
  {
   "cell_type": "code",
   "execution_count": 211,
   "id": "6d057c26",
   "metadata": {},
   "outputs": [],
   "source": [
    "profiles= pd.read_csv('~/instagram_profiles.csv', delimiter=\"\\t\", usecols = ['followers','sid'])"
   ]
  },
  {
   "cell_type": "code",
   "execution_count": 212,
   "id": "40fba864",
   "metadata": {},
   "outputs": [
    {
     "data": {
      "text/plain": [
       "0.05456789078020011"
      ]
     },
     "execution_count": 212,
     "metadata": {},
     "output_type": "execute_result"
    }
   ],
   "source": [
    "\n",
    "p=[]\n",
    "for chunk in pd.read_csv('~/instagram_posts.csv', usecols= ['numbr_likes' , 'profile_id'], sep='\\t', iterator=True, chunksize=500000, nrows=8000000):\n",
    "    a=pd.merge(chunk, profiles, on='profile_id')\n",
    "    prob=sum(a['numbr_likes']>=a['followers']*0.2)/len(a)\n",
    "    p.append(prob)\n",
    "sum(p)/len(p)\n"
   ]
  },
  {
   "cell_type": "markdown",
   "id": "282577e4",
   "metadata": {},
   "source": [
    "Using the frequentist definition of probability for the first 8.000.000 rows (our computers return MemoryError for a bigger number of rows) it comes out that the probability a post receives more than 20% 'likes' of the number of followers a user has it's about 5.46%."
   ]
  },
  {
   "cell_type": "markdown",
   "id": "051df648",
   "metadata": {},
   "source": [
    "### Do users usually return to locations? Extract the probability that a user returns to a site after having posted it in the past. Does that probability make sense to you? Explain why or why not."
   ]
  },
  {
   "cell_type": "code",
   "execution_count": 213,
   "id": "9c693f86",
   "metadata": {},
   "outputs": [
    {
     "data": {
      "text/plain": [
       "0.1170444739780345"
      ]
     },
     "execution_count": 213,
     "metadata": {},
     "output_type": "execute_result"
    }
   ],
   "source": [
    "p=[]\n",
    "for chunk in pd.read_csv('~/instagram_posts.csv', usecols= ['location_id' , 'profile_id'], sep='\\t', iterator=True, chunksize=500000, nrows=10000000):\n",
    "    dups = sum(chunk.pivot_table(index = ['profile_id', 'location_id'], aggfunc ='size')>1)\n",
    "    prob=dups/len(chunk.pivot_table(index = ['profile_id', 'location_id'], aggfunc ='size'))\n",
    "    p.append(prob)\n",
    "sum(p)/len(p)"
   ]
  },
  {
   "cell_type": "markdown",
   "id": "7743543f",
   "metadata": {},
   "source": [
    "In our opinion that probability isn't complete because not every user that returns to a site after having posted it in the past posts it again, so there could be missing data to evaluate if an user goes back to a site."
   ]
  },
  {
   "cell_type": "markdown",
   "id": "4775ec56",
   "metadata": {},
   "source": [
    "# RQ8"
   ]
  },
  {
   "cell_type": "markdown",
   "id": "03456a6d",
   "metadata": {},
   "source": [
    "### Does more “likes” also mean more comments? Plot a scatter plot of “likes” vs comments for posts.\n"
   ]
  },
  {
   "cell_type": "code",
   "execution_count": 24,
   "id": "6fcb489b",
   "metadata": {},
   "outputs": [],
   "source": [
    "dataset_partial= pd.read_csv('~/instagram_posts.csv', delimiter=\"\\t\", usecols = ['numbr_likes', 'number_comments', 'profile_id'], nrows=50000)"
   ]
  },
  {
   "cell_type": "code",
   "execution_count": 30,
   "id": "36751c03",
   "metadata": {},
   "outputs": [
    {
     "data": {
      "text/plain": [
       "[<matplotlib.lines.Line2D at 0x2605c66eac0>]"
      ]
     },
     "execution_count": 30,
     "metadata": {},
     "output_type": "execute_result"
    },
    {
     "data": {
      "image/png": "[encoded data removed]",
      "text/plain": [
       "<Figure size 432x288 with 1 Axes>"
      ]
     },
     "metadata": {
      "needs_background": "light"
     },
     "output_type": "display_data"
    }
   ],
   "source": [
    "x= dataset_partial['numbr_likes']\n",
    "y= dataset_partial['number_comments']\n",
    "ds = dataset_partial.plot.scatter(x= 'numbr_likes', y= 'number_comments', s=None, c=None , color= 'blue' )\n",
    "ds.set(xscale=\"log\", yscale=\"log\")\n",
    "#plt.figure(figsize= (25,10), facecolor = 'w')\n",
    "plt.plot(np.unique(x), np.poly1d(np.polyfit(x, y, 1))(np.unique(x)))\n"
   ]
  },
  {
   "cell_type": "markdown",
   "id": "af9b5daa",
   "metadata": {},
   "source": [
    "As it is possible to see in the Scatter Plot, we can affirm that more \"likes\" also mean more comments just for the most popular posts. Except for them, \"common\" posts receive a number of comments in a wide range, almost without dependence from the number of likes. Noteworthy is the presence of zero-comments posts, which is a mix of posts with enabled comments and posts without comments despite the comments abilitation. "
   ]
  },
  {
   "cell_type": "markdown",
   "id": "da55412e",
   "metadata": {},
   "source": [
    "### Can you find any significant relationship between the time a user publishes a post and the number of comments and “likes”? Use an appropriate statistical test or technique and support your choice."
   ]
  },
  {
   "cell_type": "code",
   "execution_count": 215,
   "id": "d5b8c0ad",
   "metadata": {},
   "outputs": [],
   "source": [
    "time_post = pd.read_csv('~/instagram_posts.csv', delimiter=\"\\t\", usecols = ['cts', 'numbr_likes', 'number_comments', 'profile_id'], nrows =500000)\n",
    "\n"
   ]
  },
  {
   "cell_type": "code",
   "execution_count": 217,
   "id": "34c84e0c",
   "metadata": {},
   "outputs": [],
   "source": [
    "time_post_melt = pd.melt(time_post.reset_index(), id_vars=['index'], value_vars= ['cts', 'numbr_likes', 'number_comments'])\n",
    "\n",
    "time_post_melt.columns =['index', 'treatments', 'value']"
   ]
  },
  {
   "cell_type": "markdown",
   "id": "98968d4b",
   "metadata": {},
   "source": [
    "### What’s the distribution of followers? Plot the empirical distribution of followers amongst all users and extract the mean, mode, and quantiles. Interpret those figures."
   ]
  },
  {
   "cell_type": "markdown",
   "id": "41547eb8",
   "metadata": {},
   "source": [
    "#### Frequency table"
   ]
  },
  {
   "cell_type": "code",
   "execution_count": 20,
   "id": "27e2ed1b",
   "metadata": {},
   "outputs": [],
   "source": [
    "instagram_profiles.followers.dropna()\n",
    "categoria = instagram_profiles.followers.value_counts()"
   ]
  },
  {
   "cell_type": "code",
   "execution_count": 21,
   "id": "6d2c8202",
   "metadata": {},
   "outputs": [
    {
     "data": {
      "text/html": [
       "<div>\n",
       "<style scoped>\n",
       "    .dataframe tbody tr th:only-of-type {\n",
       "        vertical-align: middle;\n",
       "    }\n",
       "\n",
       "    .dataframe tbody tr th {\n",
       "        vertical-align: top;\n",
       "    }\n",
       "\n",
       "    .dataframe thead th {\n",
       "        text-align: right;\n",
       "    }\n",
       "</style>\n",
       "<table border=\"1\" class=\"dataframe\">\n",
       "  <thead>\n",
       "    <tr style=\"text-align: right;\">\n",
       "      <th></th>\n",
       "      <th>Frequenza assoluta</th>\n",
       "    </tr>\n",
       "  </thead>\n",
       "  <tbody>\n",
       "    <tr>\n",
       "      <th>0.0</th>\n",
       "      <td>22115</td>\n",
       "    </tr>\n",
       "    <tr>\n",
       "      <th>1.0</th>\n",
       "      <td>9071</td>\n",
       "    </tr>\n",
       "    <tr>\n",
       "      <th>50.0</th>\n",
       "      <td>6557</td>\n",
       "    </tr>\n",
       "    <tr>\n",
       "      <th>49.0</th>\n",
       "      <td>6465</td>\n",
       "    </tr>\n",
       "    <tr>\n",
       "      <th>51.0</th>\n",
       "      <td>6382</td>\n",
       "    </tr>\n",
       "  </tbody>\n",
       "</table>\n",
       "</div>"
      ],
      "text/plain": [
       "      Frequenza assoluta\n",
       "0.0                22115\n",
       "1.0                 9071\n",
       "50.0                6557\n",
       "49.0                6465\n",
       "51.0                6382"
      ]
     },
     "execution_count": 21,
     "metadata": {},
     "output_type": "execute_result"
    }
   ],
   "source": [
    "tabella= pd.DataFrame(categoria)\n",
    "tabella.columns=['Frequenza assoluta']\n",
    "tabella.head()"
   ]
  },
  {
   "cell_type": "code",
   "execution_count": 22,
   "id": "9af5cd88",
   "metadata": {},
   "outputs": [
    {
     "data": {
      "text/html": [
       "<div>\n",
       "<style scoped>\n",
       "    .dataframe tbody tr th:only-of-type {\n",
       "        vertical-align: middle;\n",
       "    }\n",
       "\n",
       "    .dataframe tbody tr th {\n",
       "        vertical-align: top;\n",
       "    }\n",
       "\n",
       "    .dataframe thead th {\n",
       "        text-align: right;\n",
       "    }\n",
       "</style>\n",
       "<table border=\"1\" class=\"dataframe\">\n",
       "  <thead>\n",
       "    <tr style=\"text-align: right;\">\n",
       "      <th></th>\n",
       "      <th>Frequenza assoluta</th>\n",
       "      <th>Frequenza relativa</th>\n",
       "    </tr>\n",
       "  </thead>\n",
       "  <tbody>\n",
       "    <tr>\n",
       "      <th>0.0</th>\n",
       "      <td>22115</td>\n",
       "      <td>0.006405</td>\n",
       "    </tr>\n",
       "    <tr>\n",
       "      <th>1.0</th>\n",
       "      <td>9071</td>\n",
       "      <td>0.002627</td>\n",
       "    </tr>\n",
       "    <tr>\n",
       "      <th>50.0</th>\n",
       "      <td>6557</td>\n",
       "      <td>0.001899</td>\n",
       "    </tr>\n",
       "    <tr>\n",
       "      <th>49.0</th>\n",
       "      <td>6465</td>\n",
       "      <td>0.001872</td>\n",
       "    </tr>\n",
       "    <tr>\n",
       "      <th>51.0</th>\n",
       "      <td>6382</td>\n",
       "      <td>0.001848</td>\n",
       "    </tr>\n",
       "  </tbody>\n",
       "</table>\n",
       "</div>"
      ],
      "text/plain": [
       "      Frequenza assoluta  Frequenza relativa\n",
       "0.0                22115            0.006405\n",
       "1.0                 9071            0.002627\n",
       "50.0                6557            0.001899\n",
       "49.0                6465            0.001872\n",
       "51.0                6382            0.001848"
      ]
     },
     "execution_count": 22,
     "metadata": {},
     "output_type": "execute_result"
    }
   ],
   "source": [
    "tabella[\"Frequenza relativa\"]= instagram_profiles.followers.value_counts(normalize = True)\n",
    "tabella.head()"
   ]
  },
  {
   "cell_type": "markdown",
   "id": "d88d2ab2",
   "metadata": {},
   "source": [
    "#### Percentage calcolus"
   ]
  },
  {
   "cell_type": "code",
   "execution_count": 23,
   "id": "bd67a446",
   "metadata": {},
   "outputs": [
    {
     "data": {
      "text/plain": [
       "0.0         0.6%\n",
       "1.0         0.3%\n",
       "50.0        0.2%\n",
       "49.0        0.2%\n",
       "51.0        0.2%\n",
       "            ... \n",
       "39896.0     0.0%\n",
       "117237.0    0.0%\n",
       "152125.0    0.0%\n",
       "55822.0     0.0%\n",
       "93956.0     0.0%\n",
       "Name: followers, Length: 68935, dtype: object"
      ]
     },
     "execution_count": 23,
     "metadata": {},
     "output_type": "execute_result"
    }
   ],
   "source": [
    "followersPercent =  instagram_profiles.followers.value_counts(normalize = True).mul(100).round(1).astype(str) + '%'\n",
    "followersPercent"
   ]
  },
  {
   "cell_type": "code",
   "execution_count": 24,
   "id": "f8c34d16",
   "metadata": {},
   "outputs": [
    {
     "data": {
      "text/html": [
       "<div>\n",
       "<style scoped>\n",
       "    .dataframe tbody tr th:only-of-type {\n",
       "        vertical-align: middle;\n",
       "    }\n",
       "\n",
       "    .dataframe tbody tr th {\n",
       "        vertical-align: top;\n",
       "    }\n",
       "\n",
       "    .dataframe thead th {\n",
       "        text-align: right;\n",
       "    }\n",
       "</style>\n",
       "<table border=\"1\" class=\"dataframe\">\n",
       "  <thead>\n",
       "    <tr style=\"text-align: right;\">\n",
       "      <th></th>\n",
       "      <th>Frequenza assoluta</th>\n",
       "      <th>Frequenza relativa</th>\n",
       "      <th>Followers%</th>\n",
       "    </tr>\n",
       "  </thead>\n",
       "  <tbody>\n",
       "    <tr>\n",
       "      <th>0.0</th>\n",
       "      <td>22115</td>\n",
       "      <td>0.006405</td>\n",
       "      <td>0.6%</td>\n",
       "    </tr>\n",
       "    <tr>\n",
       "      <th>1.0</th>\n",
       "      <td>9071</td>\n",
       "      <td>0.002627</td>\n",
       "      <td>0.3%</td>\n",
       "    </tr>\n",
       "    <tr>\n",
       "      <th>50.0</th>\n",
       "      <td>6557</td>\n",
       "      <td>0.001899</td>\n",
       "      <td>0.2%</td>\n",
       "    </tr>\n",
       "    <tr>\n",
       "      <th>49.0</th>\n",
       "      <td>6465</td>\n",
       "      <td>0.001872</td>\n",
       "      <td>0.2%</td>\n",
       "    </tr>\n",
       "    <tr>\n",
       "      <th>51.0</th>\n",
       "      <td>6382</td>\n",
       "      <td>0.001848</td>\n",
       "      <td>0.2%</td>\n",
       "    </tr>\n",
       "  </tbody>\n",
       "</table>\n",
       "</div>"
      ],
      "text/plain": [
       "      Frequenza assoluta  Frequenza relativa Followers%\n",
       "0.0                22115            0.006405       0.6%\n",
       "1.0                 9071            0.002627       0.3%\n",
       "50.0                6557            0.001899       0.2%\n",
       "49.0                6465            0.001872       0.2%\n",
       "51.0                6382            0.001848       0.2%"
      ]
     },
     "execution_count": 24,
     "metadata": {},
     "output_type": "execute_result"
    }
   ],
   "source": [
    "tabella[\"Followers%\"] = followersPercent\n",
    "tabella.head()"
   ]
  },
  {
   "cell_type": "markdown",
   "id": "2f6c62bf",
   "metadata": {},
   "source": [
    "cumulata"
   ]
  },
  {
   "cell_type": "code",
   "execution_count": 25,
   "id": "fe45c6bc",
   "metadata": {},
   "outputs": [
    {
     "data": {
      "text/html": [
       "<div>\n",
       "<style scoped>\n",
       "    .dataframe tbody tr th:only-of-type {\n",
       "        vertical-align: middle;\n",
       "    }\n",
       "\n",
       "    .dataframe tbody tr th {\n",
       "        vertical-align: top;\n",
       "    }\n",
       "\n",
       "    .dataframe thead th {\n",
       "        text-align: right;\n",
       "    }\n",
       "</style>\n",
       "<table border=\"1\" class=\"dataframe\">\n",
       "  <thead>\n",
       "    <tr style=\"text-align: right;\">\n",
       "      <th></th>\n",
       "      <th>Frequenza assoluta</th>\n",
       "      <th>Frequenza relativa</th>\n",
       "      <th>Followers%</th>\n",
       "      <th>Cumulata</th>\n",
       "      <th>Cumulata%</th>\n",
       "    </tr>\n",
       "  </thead>\n",
       "  <tbody>\n",
       "    <tr>\n",
       "      <th>0.0</th>\n",
       "      <td>22115</td>\n",
       "      <td>0.006405</td>\n",
       "      <td>0.6%</td>\n",
       "      <td>0.006405</td>\n",
       "      <td>0.6%</td>\n",
       "    </tr>\n",
       "    <tr>\n",
       "      <th>1.0</th>\n",
       "      <td>9071</td>\n",
       "      <td>0.002627</td>\n",
       "      <td>0.3%</td>\n",
       "      <td>0.009032</td>\n",
       "      <td>0.9%</td>\n",
       "    </tr>\n",
       "    <tr>\n",
       "      <th>50.0</th>\n",
       "      <td>6557</td>\n",
       "      <td>0.001899</td>\n",
       "      <td>0.2%</td>\n",
       "      <td>0.010931</td>\n",
       "      <td>1.1%</td>\n",
       "    </tr>\n",
       "    <tr>\n",
       "      <th>49.0</th>\n",
       "      <td>6465</td>\n",
       "      <td>0.001872</td>\n",
       "      <td>0.2%</td>\n",
       "      <td>0.012804</td>\n",
       "      <td>1.3%</td>\n",
       "    </tr>\n",
       "    <tr>\n",
       "      <th>51.0</th>\n",
       "      <td>6382</td>\n",
       "      <td>0.001848</td>\n",
       "      <td>0.2%</td>\n",
       "      <td>0.014652</td>\n",
       "      <td>1.5%</td>\n",
       "    </tr>\n",
       "  </tbody>\n",
       "</table>\n",
       "</div>"
      ],
      "text/plain": [
       "      Frequenza assoluta  Frequenza relativa Followers%  Cumulata Cumulata%\n",
       "0.0                22115            0.006405       0.6%  0.006405      0.6%\n",
       "1.0                 9071            0.002627       0.3%  0.009032      0.9%\n",
       "50.0                6557            0.001899       0.2%  0.010931      1.1%\n",
       "49.0                6465            0.001872       0.2%  0.012804      1.3%\n",
       "51.0                6382            0.001848       0.2%  0.014652      1.5%"
      ]
     },
     "execution_count": 25,
     "metadata": {},
     "output_type": "execute_result"
    }
   ],
   "source": [
    "tabella[\"Cumulata\"]= tabella[\"Frequenza relativa\"].cumsum()\n",
    "tabella[\"Cumulata%\"] = tabella[\"Cumulata\"].mul(100).round(1).astype(str)+'%'\n",
    "tabella.head()"
   ]
  },
  {
   "cell_type": "markdown",
   "id": "8c8943bd",
   "metadata": {},
   "source": [
    "#### Mean, mode, and quantiles."
   ]
  },
  {
   "cell_type": "code",
   "execution_count": 26,
   "id": "fa16e778",
   "metadata": {},
   "outputs": [
    {
     "name": "stdout",
     "output_type": "stream",
     "text": [
      "Followers mean 4739.899\n"
     ]
    }
   ],
   "source": [
    "mean = instagram_profiles.followers.mean()\n",
    "print(\"Followers mean\", round(mean,3))"
   ]
  },
  {
   "cell_type": "code",
   "execution_count": 27,
   "id": "4f39ae68",
   "metadata": {},
   "outputs": [
    {
     "name": "stdout",
     "output_type": "stream",
     "text": [
      "Followers mode 0    0.0\n",
      "Name: followers, dtype: float64\n"
     ]
    }
   ],
   "source": [
    "mode = instagram_profiles.followers.mode()\n",
    "print(\"Followers mode\", mode)"
   ]
  },
  {
   "cell_type": "code",
   "execution_count": 28,
   "id": "2378d62b",
   "metadata": {},
   "outputs": [
    {
     "name": "stdout",
     "output_type": "stream",
     "text": [
      "Followers quantile 406.0\n"
     ]
    }
   ],
   "source": [
    "quantile = instagram_profiles.followers.quantile()\n",
    "print(\"Followers quantile\", quantile)"
   ]
  },
  {
   "cell_type": "code",
   "execution_count": 82,
   "id": "46c05d9f",
   "metadata": {},
   "outputs": [],
   "source": [
    "import seaborn as sb\n",
    "prof = pd.read_csv('~/instagram_profiles.csv', delimiter=\"\\t\", usecols= ['followers'])\n"
   ]
  },
  {
   "cell_type": "code",
   "execution_count": 85,
   "id": "0c6af1c4",
   "metadata": {},
   "outputs": [
    {
     "data": {
      "text/plain": [
       "<AxesSubplot:xlabel='followers', ylabel='Count'>"
      ]
     },
     "execution_count": 85,
     "metadata": {},
     "output_type": "execute_result"
    },
    {
     "data": {
      "image/png": "[encoded data removed]",
      "text/plain": [
       "<Figure size 432x288 with 1 Axes>"
      ]
     },
     "metadata": {
      "needs_background": "light"
     },
     "output_type": "display_data"
    }
   ],
   "source": [
    "prof_lof = prof['followers'].apply(lambda x: np.log(x+1))\n",
    "sb.histplot(data=prof_lof, bins=100, kde=True )\n",
    "\n"
   ]
  },
  {
   "cell_type": "markdown",
   "id": "c72f9431",
   "metadata": {},
   "source": [
    "### What are histograms, bar plots, scatterplots and pie charts used for?"
   ]
  },
  {
   "cell_type": "markdown",
   "id": "14eaa8e2",
   "metadata": {},
   "source": [
    "A **histogram** is an approximate representation of the distribution of numerical data. To construct a histogram, the first step is to \"bin\" (or \"bucket\") the range of values—that is, divide the entire range of values into a series of intervals—and then count how many values fall into each interval. A histogram may also be normalized to display \"relative\" frequencies showing the proportion of cases that fall into each of several categories , with the sum of the heights equaling 1. The vertical axis is then not the frequency but frequency density —the number of cases per unit of the variable on the horizontal axis. The histograms show the shape of the data. The horizontal axis represents the data values ​​and each bar includes a range of values. The vertical axis indicates how many points in the data have values within the specified range of the bar.\n",
    "Histograms give a rough sense of the density of the underlying distribution of the data,and often for density estimation : estimating the probability density function of the underlying variable. They are useful for seeing the center, distribution, and shape of a data set. They can also be used as a visual tool for verifying normality.\n",
    "Histograms are used with continuous data, while **bar plots** are used with categorical or nominal data.  Bar charts are useful for understanding the levels of a variable and can be used to check for errors.The bars can be plotted vertically or horizontally. A vertical bar chart is sometimes called a column chart.One axis of the chart shows the specific categories being compared, and the other axis represents a measured value. Some bar graphs present bars clustered in groups of more than one, showing the values of more than one measured variable.Bar charts have a discrete domain of categories, and are usually scaled so that all the data can fit on the chart. When there is no natural ordering of the categories being compared, bars on the chart may be arranged in any order. Bar charts arranged from highest to lowest incidence are called Pareto charts."
   ]
  },
  {
   "cell_type": "markdown",
   "id": "ccb07083",
   "metadata": {},
   "source": [
    "A **scatter plot** is a type of plot or mathematical diagram using Cartesian coordinates to display values for typically two variables for a set of data. The data are displayed as a collection of points, each having the value of one variable determining the position on the horizontal axis and the value of the other variable determining the position on the vertical axis.A scatter plot can be used either when one continuous variable is under the control of the experimenter and the other depends on it or when both continuous variables are independent. If a parameter exists that is systematically incremented and/or decremented by the other, it is called the control parameter or independent variable and is customarily plotted along the horizontal axis. A scatter plot can suggest various kinds of correlations between variables with a certain confidence interval.f the dots' pattern slopes from lower left to upper right, it indicates a positive correlation between the variables being studied. If the pattern of dots slopes from upper left to lower right, it indicates a negative correlation. "
   ]
  },
  {
   "cell_type": "markdown",
   "id": "9695ac58",
   "metadata": {},
   "source": [
    "A **pie chart** is a one-dimension representation used to understand categories proportion on the total frequence. Normally, this chart is accompanied by labels above the proportions that indicate the weight of the categories with respect to the total. It is usefull, in statistics, to represent discrete and continuous data. It has advantages such as the possibility to identify quickly the proportions, but the disadvantage is that this is a one-dimension chart: it's not possible to represent more than one variable on the same chart. another thisadvantage is represented by the fact that, if there are many categories, it could be hard to distinguish them. "
   ]
  },
  {
   "cell_type": "markdown",
   "id": "133f04a8",
   "metadata": {},
   "source": [
    "### What insights can you extract from a Box Plot?"
   ]
  },
  {
   "cell_type": "markdown",
   "id": "4af5ffec",
   "metadata": {},
   "source": [
    "A **Box Plot** is a chart that doesn't focus on frequency, but instead on the range of values in the distribution. It highlights the summary metrics that give the distribution its shape. The insights we can extract are:\n",
    "- The first and the third quantiles, which correspond to the 25th and 75th percentiles;\n",
    "- The median (50th percentile);\n",
    "- The interquantile range;\n",
    "- The minimum value and the maximum value."
   ]
  },
  {
   "cell_type": "markdown",
   "id": "902c017b",
   "metadata": {},
   "source": [
    "# Bonus\n"
   ]
  },
  {
   "cell_type": "markdown",
   "id": "22d691fc",
   "metadata": {},
   "source": [
    "### Sort the users in terms of number of followers and divide them into two groups: for the first group, take only the top 10% regarding \"followers\", and for the second one, take the rest. Now compare the mean of time intervals between posts for the two categories. Do you notice something relevant?"
   ]
  },
  {
   "cell_type": "code",
   "execution_count": 79,
   "id": "be4e2c57",
   "metadata": {},
   "outputs": [
    {
     "data": {
      "text/plain": [
       "2880218    285457645.0\n",
       "2582507     65269440.0\n",
       "3820939     35339708.0\n",
       "701965      30689316.0\n",
       "2414951     30246783.0\n",
       "              ...     \n",
       "2862056            0.0\n",
       "1717625            0.0\n",
       "944974             0.0\n",
       "3422872            0.0\n",
       "1333898            0.0\n",
       "Name: followers, Length: 3452771, dtype: float64"
      ]
     },
     "execution_count": 79,
     "metadata": {},
     "output_type": "execute_result"
    }
   ],
   "source": [
    "users = pd.read_csv('~/instagram_profiles.csv', delimiter=\"\\t\", usecols = ['profile_name', 'followers', 'profile_id','n_posts'])\n"
   ]
  },
  {
   "cell_type": "code",
   "execution_count": 95,
   "id": "abf34438",
   "metadata": {},
   "outputs": [],
   "source": [
    "dataset1 = users.sort_values(['followers'], ascending = False)"
   ]
  },
  {
   "cell_type": "code",
   "execution_count": 96,
   "id": "f0aa0408",
   "metadata": {},
   "outputs": [],
   "source": [
    "dataset1.dropna(inplace=True)"
   ]
  },
  {
   "cell_type": "code",
   "execution_count": 110,
   "id": "bba8677b",
   "metadata": {},
   "outputs": [
    {
     "data": {
      "text/plain": [
       "344769"
      ]
     },
     "execution_count": 110,
     "metadata": {},
     "output_type": "execute_result"
    }
   ],
   "source": [
    "tenperc = int((len(dataset1)*10 )/100)\n",
    "tenperc"
   ]
  },
  {
   "cell_type": "code",
   "execution_count": 112,
   "id": "fc4939ea",
   "metadata": {},
   "outputs": [],
   "source": [
    "dataset2 = dataset1.head(tenperc)"
   ]
  },
  {
   "cell_type": "code",
   "execution_count": 113,
   "id": "faf69fa9",
   "metadata": {},
   "outputs": [
    {
     "data": {
      "text/html": [
       "<div>\n",
       "<style scoped>\n",
       "    .dataframe tbody tr th:only-of-type {\n",
       "        vertical-align: middle;\n",
       "    }\n",
       "\n",
       "    .dataframe tbody tr th {\n",
       "        vertical-align: top;\n",
       "    }\n",
       "\n",
       "    .dataframe thead th {\n",
       "        text-align: right;\n",
       "    }\n",
       "</style>\n",
       "<table border=\"1\" class=\"dataframe\">\n",
       "  <thead>\n",
       "    <tr style=\"text-align: right;\">\n",
       "      <th></th>\n",
       "      <th>profile_id</th>\n",
       "      <th>profile_name</th>\n",
       "      <th>followers</th>\n",
       "      <th>n_posts</th>\n",
       "    </tr>\n",
       "  </thead>\n",
       "  <tbody>\n",
       "    <tr>\n",
       "      <th>2880218</th>\n",
       "      <td>2.502532e+07</td>\n",
       "      <td>instagram</td>\n",
       "      <td>285457645.0</td>\n",
       "      <td>5760.0</td>\n",
       "    </tr>\n",
       "    <tr>\n",
       "      <th>2582507</th>\n",
       "      <td>3.416684e+06</td>\n",
       "      <td>victoriassecret</td>\n",
       "      <td>65269440.0</td>\n",
       "      <td>7355.0</td>\n",
       "    </tr>\n",
       "    <tr>\n",
       "      <th>3820939</th>\n",
       "      <td>2.082449e+07</td>\n",
       "      <td>nba</td>\n",
       "      <td>35339708.0</td>\n",
       "      <td>28816.0</td>\n",
       "    </tr>\n",
       "    <tr>\n",
       "      <th>701965</th>\n",
       "      <td>1.876191e+08</td>\n",
       "      <td>louisvuitton</td>\n",
       "      <td>30689316.0</td>\n",
       "      <td>3352.0</td>\n",
       "    </tr>\n",
       "    <tr>\n",
       "      <th>2414951</th>\n",
       "      <td>2.125507e+09</td>\n",
       "      <td>buzzfeedtasty</td>\n",
       "      <td>30246783.0</td>\n",
       "      <td>2791.0</td>\n",
       "    </tr>\n",
       "    <tr>\n",
       "      <th>...</th>\n",
       "      <td>...</td>\n",
       "      <td>...</td>\n",
       "      <td>...</td>\n",
       "      <td>...</td>\n",
       "    </tr>\n",
       "    <tr>\n",
       "      <th>2644333</th>\n",
       "      <td>1.581508e+09</td>\n",
       "      <td>marysopilnyak</td>\n",
       "      <td>2505.0</td>\n",
       "      <td>1143.0</td>\n",
       "    </tr>\n",
       "    <tr>\n",
       "      <th>600476</th>\n",
       "      <td>3.507586e+07</td>\n",
       "      <td>gabe.cash</td>\n",
       "      <td>2505.0</td>\n",
       "      <td>137.0</td>\n",
       "    </tr>\n",
       "    <tr>\n",
       "      <th>1183256</th>\n",
       "      <td>3.097978e+08</td>\n",
       "      <td>michelle.k.herrera</td>\n",
       "      <td>2505.0</td>\n",
       "      <td>44.0</td>\n",
       "    </tr>\n",
       "    <tr>\n",
       "      <th>3045705</th>\n",
       "      <td>1.524120e+07</td>\n",
       "      <td>vortex_surgical</td>\n",
       "      <td>2505.0</td>\n",
       "      <td>161.0</td>\n",
       "    </tr>\n",
       "    <tr>\n",
       "      <th>2130071</th>\n",
       "      <td>1.430526e+09</td>\n",
       "      <td>yooos_29</td>\n",
       "      <td>2505.0</td>\n",
       "      <td>43.0</td>\n",
       "    </tr>\n",
       "  </tbody>\n",
       "</table>\n",
       "<p>344769 rows × 4 columns</p>\n",
       "</div>"
      ],
      "text/plain": [
       "           profile_id        profile_name    followers  n_posts\n",
       "2880218  2.502532e+07           instagram  285457645.0   5760.0\n",
       "2582507  3.416684e+06     victoriassecret   65269440.0   7355.0\n",
       "3820939  2.082449e+07                 nba   35339708.0  28816.0\n",
       "701965   1.876191e+08        louisvuitton   30689316.0   3352.0\n",
       "2414951  2.125507e+09       buzzfeedtasty   30246783.0   2791.0\n",
       "...               ...                 ...          ...      ...\n",
       "2644333  1.581508e+09       marysopilnyak       2505.0   1143.0\n",
       "600476   3.507586e+07           gabe.cash       2505.0    137.0\n",
       "1183256  3.097978e+08  michelle.k.herrera       2505.0     44.0\n",
       "3045705  1.524120e+07     vortex_surgical       2505.0    161.0\n",
       "2130071  1.430526e+09            yooos_29       2505.0     43.0\n",
       "\n",
       "[344769 rows x 4 columns]"
      ]
     },
     "execution_count": 113,
     "metadata": {},
     "output_type": "execute_result"
    }
   ],
   "source": [
    "dataset2"
   ]
  },
  {
   "cell_type": "code",
   "execution_count": 118,
   "id": "3dcf1ac4",
   "metadata": {},
   "outputs": [
    {
     "data": {
      "text/plain": [
       "3102929"
      ]
     },
     "execution_count": 118,
     "metadata": {},
     "output_type": "execute_result"
    }
   ],
   "source": [
    "novantaperc = len(dataset1)- tenperc\n",
    "novantaperc"
   ]
  },
  {
   "cell_type": "code",
   "execution_count": 119,
   "id": "f1e920b9",
   "metadata": {},
   "outputs": [
    {
     "data": {
      "text/html": [
       "<div>\n",
       "<style scoped>\n",
       "    .dataframe tbody tr th:only-of-type {\n",
       "        vertical-align: middle;\n",
       "    }\n",
       "\n",
       "    .dataframe tbody tr th {\n",
       "        vertical-align: top;\n",
       "    }\n",
       "\n",
       "    .dataframe thead th {\n",
       "        text-align: right;\n",
       "    }\n",
       "</style>\n",
       "<table border=\"1\" class=\"dataframe\">\n",
       "  <thead>\n",
       "    <tr style=\"text-align: right;\">\n",
       "      <th></th>\n",
       "      <th>profile_id</th>\n",
       "      <th>profile_name</th>\n",
       "      <th>followers</th>\n",
       "      <th>n_posts</th>\n",
       "    </tr>\n",
       "  </thead>\n",
       "  <tbody>\n",
       "    <tr>\n",
       "      <th>525350</th>\n",
       "      <td>1.040057e+09</td>\n",
       "      <td>spottedbysue</td>\n",
       "      <td>2505.0</td>\n",
       "      <td>928.0</td>\n",
       "    </tr>\n",
       "    <tr>\n",
       "      <th>2227306</th>\n",
       "      <td>8.127065e+09</td>\n",
       "      <td>forever.home.rescue</td>\n",
       "      <td>2505.0</td>\n",
       "      <td>796.0</td>\n",
       "    </tr>\n",
       "    <tr>\n",
       "      <th>1779068</th>\n",
       "      <td>3.607100e+07</td>\n",
       "      <td>kaylmorrison</td>\n",
       "      <td>2505.0</td>\n",
       "      <td>972.0</td>\n",
       "    </tr>\n",
       "    <tr>\n",
       "      <th>932633</th>\n",
       "      <td>4.871178e+09</td>\n",
       "      <td>hairbytorijohnston</td>\n",
       "      <td>2505.0</td>\n",
       "      <td>279.0</td>\n",
       "    </tr>\n",
       "    <tr>\n",
       "      <th>238283</th>\n",
       "      <td>8.005756e+09</td>\n",
       "      <td>dacha_stalina</td>\n",
       "      <td>2504.0</td>\n",
       "      <td>131.0</td>\n",
       "    </tr>\n",
       "    <tr>\n",
       "      <th>...</th>\n",
       "      <td>...</td>\n",
       "      <td>...</td>\n",
       "      <td>...</td>\n",
       "      <td>...</td>\n",
       "    </tr>\n",
       "    <tr>\n",
       "      <th>2862056</th>\n",
       "      <td>7.551829e+09</td>\n",
       "      <td>jackiesubang29</td>\n",
       "      <td>0.0</td>\n",
       "      <td>0.0</td>\n",
       "    </tr>\n",
       "    <tr>\n",
       "      <th>1717625</th>\n",
       "      <td>5.671326e+09</td>\n",
       "      <td>laixiaoi</td>\n",
       "      <td>0.0</td>\n",
       "      <td>5.0</td>\n",
       "    </tr>\n",
       "    <tr>\n",
       "      <th>944974</th>\n",
       "      <td>1.149906e+09</td>\n",
       "      <td>yuritag4</td>\n",
       "      <td>0.0</td>\n",
       "      <td>0.0</td>\n",
       "    </tr>\n",
       "    <tr>\n",
       "      <th>3422872</th>\n",
       "      <td>3.758606e+09</td>\n",
       "      <td>jaeger_lou</td>\n",
       "      <td>0.0</td>\n",
       "      <td>0.0</td>\n",
       "    </tr>\n",
       "    <tr>\n",
       "      <th>1333898</th>\n",
       "      <td>9.965399e+09</td>\n",
       "      <td>dreamy____daze</td>\n",
       "      <td>0.0</td>\n",
       "      <td>0.0</td>\n",
       "    </tr>\n",
       "  </tbody>\n",
       "</table>\n",
       "<p>3102929 rows × 4 columns</p>\n",
       "</div>"
      ],
      "text/plain": [
       "           profile_id         profile_name  followers  n_posts\n",
       "525350   1.040057e+09         spottedbysue     2505.0    928.0\n",
       "2227306  8.127065e+09  forever.home.rescue     2505.0    796.0\n",
       "1779068  3.607100e+07         kaylmorrison     2505.0    972.0\n",
       "932633   4.871178e+09   hairbytorijohnston     2505.0    279.0\n",
       "238283   8.005756e+09        dacha_stalina     2504.0    131.0\n",
       "...               ...                  ...        ...      ...\n",
       "2862056  7.551829e+09       jackiesubang29        0.0      0.0\n",
       "1717625  5.671326e+09             laixiaoi        0.0      5.0\n",
       "944974   1.149906e+09             yuritag4        0.0      0.0\n",
       "3422872  3.758606e+09           jaeger_lou        0.0      0.0\n",
       "1333898  9.965399e+09       dreamy____daze        0.0      0.0\n",
       "\n",
       "[3102929 rows x 4 columns]"
      ]
     },
     "execution_count": 119,
     "metadata": {},
     "output_type": "execute_result"
    }
   ],
   "source": [
    "dataset3= dataset1.tail(novantaperc)\n",
    "dataset3"
   ]
  },
  {
   "cell_type": "markdown",
   "id": "4ed8fe6f",
   "metadata": {},
   "source": [
    "dataset 2: contiene il 10% degli utenti con piu followers \n",
    "\n",
    "dataset3 : contiene il restante 90%"
   ]
  },
  {
   "cell_type": "markdown",
   "id": "d694e21c",
   "metadata": {},
   "source": [
    "#### Assume users publish their posts the same day pictures or videos are taken: Are there users that have visited the same location on the same day? How about the same week? Extract the results and explain them."
   ]
  },
  {
   "cell_type": "code",
   "execution_count": null,
   "id": "ebaa7f75",
   "metadata": {},
   "outputs": [],
   "source": [
    "#profile id , posizione, cts \n",
    "#group by profilo e posizione e cts in giorno \n"
   ]
  },
  {
   "cell_type": "code",
   "execution_count": 94,
   "id": "ce03e1ba",
   "metadata": {},
   "outputs": [
    {
     "data": {
      "text/html": [
       "<div>\n",
       "<style scoped>\n",
       "    .dataframe tbody tr th:only-of-type {\n",
       "        vertical-align: middle;\n",
       "    }\n",
       "\n",
       "    .dataframe tbody tr th {\n",
       "        vertical-align: top;\n",
       "    }\n",
       "\n",
       "    .dataframe thead th {\n",
       "        text-align: right;\n",
       "    }\n",
       "</style>\n",
       "<table border=\"1\" class=\"dataframe\">\n",
       "  <thead>\n",
       "    <tr style=\"text-align: right;\">\n",
       "      <th></th>\n",
       "      <th>profile_id</th>\n",
       "      <th>location_id</th>\n",
       "      <th>cts</th>\n",
       "    </tr>\n",
       "  </thead>\n",
       "  <tbody>\n",
       "    <tr>\n",
       "      <th>0</th>\n",
       "      <td>2.237948e+09</td>\n",
       "      <td>1.022366e+15</td>\n",
       "      <td>2017-08-06 20:06:57.000</td>\n",
       "    </tr>\n",
       "    <tr>\n",
       "      <th>1</th>\n",
       "      <td>5.579335e+09</td>\n",
       "      <td>4.574268e+14</td>\n",
       "      <td>2017-06-19 09:31:16.000</td>\n",
       "    </tr>\n",
       "    <tr>\n",
       "      <th>2</th>\n",
       "      <td>3.134296e+08</td>\n",
       "      <td>4.574268e+14</td>\n",
       "      <td>2017-03-11 20:05:03.000</td>\n",
       "    </tr>\n",
       "    <tr>\n",
       "      <th>3</th>\n",
       "      <td>1.837593e+09</td>\n",
       "      <td>4.574268e+14</td>\n",
       "      <td>2016-09-13 16:27:16.000</td>\n",
       "    </tr>\n",
       "    <tr>\n",
       "      <th>4</th>\n",
       "      <td>1.131527e+09</td>\n",
       "      <td>4.574268e+14</td>\n",
       "      <td>2015-10-18 10:19:27.000</td>\n",
       "    </tr>\n",
       "    <tr>\n",
       "      <th>...</th>\n",
       "      <td>...</td>\n",
       "      <td>...</td>\n",
       "      <td>...</td>\n",
       "    </tr>\n",
       "    <tr>\n",
       "      <th>4999995</th>\n",
       "      <td>8.865347e+08</td>\n",
       "      <td>2.434891e+08</td>\n",
       "      <td>2018-11-15 16:35:06.000</td>\n",
       "    </tr>\n",
       "    <tr>\n",
       "      <th>4999996</th>\n",
       "      <td>1.819324e+09</td>\n",
       "      <td>2.434891e+08</td>\n",
       "      <td>2018-10-10 12:40:17.000</td>\n",
       "    </tr>\n",
       "    <tr>\n",
       "      <th>4999997</th>\n",
       "      <td>6.922242e+09</td>\n",
       "      <td>2.434891e+08</td>\n",
       "      <td>2018-10-07 16:57:41.000</td>\n",
       "    </tr>\n",
       "    <tr>\n",
       "      <th>4999998</th>\n",
       "      <td>3.046848e+08</td>\n",
       "      <td>2.434891e+08</td>\n",
       "      <td>2018-10-04 14:09:35.000</td>\n",
       "    </tr>\n",
       "    <tr>\n",
       "      <th>4999999</th>\n",
       "      <td>5.433314e+09</td>\n",
       "      <td>2.434891e+08</td>\n",
       "      <td>2018-09-15 16:02:55.000</td>\n",
       "    </tr>\n",
       "  </tbody>\n",
       "</table>\n",
       "<p>5000000 rows × 3 columns</p>\n",
       "</div>"
      ],
      "text/plain": [
       "           profile_id   location_id                      cts\n",
       "0        2.237948e+09  1.022366e+15  2017-08-06 20:06:57.000\n",
       "1        5.579335e+09  4.574268e+14  2017-06-19 09:31:16.000\n",
       "2        3.134296e+08  4.574268e+14  2017-03-11 20:05:03.000\n",
       "3        1.837593e+09  4.574268e+14  2016-09-13 16:27:16.000\n",
       "4        1.131527e+09  4.574268e+14  2015-10-18 10:19:27.000\n",
       "...               ...           ...                      ...\n",
       "4999995  8.865347e+08  2.434891e+08  2018-11-15 16:35:06.000\n",
       "4999996  1.819324e+09  2.434891e+08  2018-10-10 12:40:17.000\n",
       "4999997  6.922242e+09  2.434891e+08  2018-10-07 16:57:41.000\n",
       "4999998  3.046848e+08  2.434891e+08  2018-10-04 14:09:35.000\n",
       "4999999  5.433314e+09  2.434891e+08  2018-09-15 16:02:55.000\n",
       "\n",
       "[5000000 rows x 3 columns]"
      ]
     },
     "execution_count": 94,
     "metadata": {},
     "output_type": "execute_result"
    }
   ],
   "source": [
    "post3 = pd.read_csv('~/instagram_posts.csv', delimiter=\"\\t\", usecols = ['profile_id', 'location_id', 'cts'], nrows=5000000)\n",
    "post3"
   ]
  },
  {
   "cell_type": "code",
   "execution_count": 109,
   "id": "fc87fb7d",
   "metadata": {},
   "outputs": [
    {
     "data": {
      "text/plain": [
       "0         2017-08-06 20:06:57\n",
       "1         2017-06-19 09:31:16\n",
       "2         2017-03-11 20:05:03\n",
       "3         2016-09-13 16:27:16\n",
       "4         2015-10-18 10:19:27\n",
       "                  ...        \n",
       "4999995   2018-11-15 16:35:06\n",
       "4999996   2018-10-10 12:40:17\n",
       "4999997   2018-10-07 16:57:41\n",
       "4999998   2018-10-04 14:09:35\n",
       "4999999   2018-09-15 16:02:55\n",
       "Name: cts, Length: 5000000, dtype: datetime64[ns]"
      ]
     },
     "execution_count": 109,
     "metadata": {},
     "output_type": "execute_result"
    }
   ],
   "source": [
    "post3.cts = pd.to_datetime(post3.cts)\n",
    "post3.cts"
   ]
  },
  {
   "cell_type": "code",
   "execution_count": 110,
   "id": "d6ddcaa8",
   "metadata": {},
   "outputs": [
    {
     "data": {
      "text/plain": [
       "profile_id    location_id   cts                \n",
       "3.000000e+00  8.030000e+02  2010-08-21 06:40:27    1\n",
       "              1.444006e+06  2011-05-15 04:33:23    1\n",
       "              2.166905e+08  2010-09-05 21:48:24    1\n",
       "              2.435929e+08  2011-10-15 05:12:17    1\n",
       "              1.029824e+09  2012-11-23 22:30:38    1\n",
       "                                                  ..\n",
       "1.466166e+10  2.497724e+08  2019-06-07 09:49:07    1\n",
       "1.466691e+10  3.776762e+08  2019-06-07 19:41:34    1\n",
       "9.001013e+13  6.631216e+14  2018-06-30 00:47:29    1\n",
       "              2.418404e+08  2019-05-13 07:56:01    1\n",
       "9.001014e+13  1.077310e+06  2019-05-10 03:05:36    1\n",
       "Length: 4993529, dtype: int64"
      ]
     },
     "execution_count": 110,
     "metadata": {},
     "output_type": "execute_result"
    }
   ],
   "source": [
    "\n",
    "post4= post3.groupby(by=['profile_id', 'location_id', 'cts'], axis=0).value_counts()\n",
    "post4"
   ]
  },
  {
   "cell_type": "markdown",
   "id": "2a159765",
   "metadata": {},
   "source": [
    "#### Implement a text data analysis (also known as text mining) of the field \"description\" from instagram_posts.csv for descriptions written in English. Use appropriate visualizations and statistics to highlight the words (and probably the topics) provided for the users in that field."
   ]
  },
  {
   "cell_type": "code",
   "execution_count": 138,
   "id": "0b2d9176",
   "metadata": {},
   "outputs": [
    {
     "name": "stdout",
     "output_type": "stream",
     "text": [
      "Requirement already satisfied: wordcloud in c:\\users\\win10\\anaconda3\\lib\\site-packages (1.8.2.2)\n",
      "Requirement already satisfied: pillow in c:\\users\\win10\\anaconda3\\lib\\site-packages (from wordcloud) (9.0.1)\n",
      "Requirement already satisfied: matplotlib in c:\\users\\win10\\anaconda3\\lib\\site-packages (from wordcloud) (3.5.1)\n",
      "Requirement already satisfied: numpy>=1.6.1 in c:\\users\\win10\\anaconda3\\lib\\site-packages (from wordcloud) (1.21.5)\n",
      "Requirement already satisfied: kiwisolver>=1.0.1 in c:\\users\\win10\\anaconda3\\lib\\site-packages (from matplotlib->wordcloud) (1.3.2)\n",
      "Requirement already satisfied: python-dateutil>=2.7 in c:\\users\\win10\\anaconda3\\lib\\site-packages (from matplotlib->wordcloud) (2.8.2)\n",
      "Requirement already satisfied: pyparsing>=2.2.1 in c:\\users\\win10\\anaconda3\\lib\\site-packages (from matplotlib->wordcloud) (3.0.4)\n",
      "Requirement already satisfied: packaging>=20.0 in c:\\users\\win10\\anaconda3\\lib\\site-packages (from matplotlib->wordcloud) (21.3)\n",
      "Requirement already satisfied: cycler>=0.10 in c:\\users\\win10\\anaconda3\\lib\\site-packages (from matplotlib->wordcloud) (0.11.0)\n",
      "Requirement already satisfied: fonttools>=4.22.0 in c:\\users\\win10\\anaconda3\\lib\\site-packages (from matplotlib->wordcloud) (4.25.0)\n",
      "Requirement already satisfied: six>=1.5 in c:\\users\\win10\\anaconda3\\lib\\site-packages (from python-dateutil>=2.7->matplotlib->wordcloud) (1.16.0)\n"
     ]
    }
   ],
   "source": [
    "!pip install wordcloud"
   ]
  },
  {
   "cell_type": "code",
   "execution_count": 6,
   "id": "55775146",
   "metadata": {},
   "outputs": [
    {
     "name": "stdout",
     "output_type": "stream",
     "text": [
      "Requirement already satisfied: wordcloud in c:\\users\\feder\\anaconda3\\envs\\myenv\\lib\\site-packages (1.8.2.2)\n",
      "Requirement already satisfied: pillow in c:\\users\\feder\\anaconda3\\envs\\myenv\\lib\\site-packages (from wordcloud) (9.2.0)\n",
      "Requirement already satisfied: matplotlib in c:\\users\\feder\\anaconda3\\envs\\myenv\\lib\\site-packages (from wordcloud) (3.6.0)\n",
      "Requirement already satisfied: numpy>=1.6.1 in c:\\users\\feder\\anaconda3\\envs\\myenv\\lib\\site-packages (from wordcloud) (1.23.3)\n",
      "Requirement already satisfied: fonttools>=4.22.0 in c:\\users\\feder\\anaconda3\\envs\\myenv\\lib\\site-packages (from matplotlib->wordcloud) (4.37.2)\n",
      "Requirement already satisfied: packaging>=20.0 in c:\\users\\feder\\anaconda3\\envs\\myenv\\lib\\site-packages (from matplotlib->wordcloud) (21.3)\n",
      "Requirement already satisfied: pyparsing>=2.2.1 in c:\\users\\feder\\anaconda3\\envs\\myenv\\lib\\site-packages (from matplotlib->wordcloud) (3.0.9)\n",
      "Requirement already satisfied: contourpy>=1.0.1 in c:\\users\\feder\\anaconda3\\envs\\myenv\\lib\\site-packages (from matplotlib->wordcloud) (1.0.5)\n",
      "Requirement already satisfied: kiwisolver>=1.0.1 in c:\\users\\feder\\anaconda3\\envs\\myenv\\lib\\site-packages (from matplotlib->wordcloud) (1.4.4)\n",
      "Requirement already satisfied: python-dateutil>=2.7 in c:\\users\\feder\\anaconda3\\envs\\myenv\\lib\\site-packages (from matplotlib->wordcloud) (2.8.2)\n",
      "Requirement already satisfied: cycler>=0.10 in c:\\users\\feder\\anaconda3\\envs\\myenv\\lib\\site-packages (from matplotlib->wordcloud) (0.11.0)\n",
      "Requirement already satisfied: six>=1.5 in c:\\users\\feder\\anaconda3\\envs\\myenv\\lib\\site-packages (from python-dateutil>=2.7->matplotlib->wordcloud) (1.16.0)\n"
     ]
    }
   ],
   "source": [
    "#from nltk.corpus import stopwords \n",
    "!pip install wordcloud\n",
    "from wordcloud import WordCloud\n",
    "import matplotlib.pyplot as plt\n",
    "#import cv2"
   ]
  },
  {
   "cell_type": "code",
   "execution_count": 7,
   "id": "cf92f93c",
   "metadata": {},
   "outputs": [
    {
     "data": {
      "text/html": [
       "<div>\n",
       "<style scoped>\n",
       "    .dataframe tbody tr th:only-of-type {\n",
       "        vertical-align: middle;\n",
       "    }\n",
       "\n",
       "    .dataframe tbody tr th {\n",
       "        vertical-align: top;\n",
       "    }\n",
       "\n",
       "    .dataframe thead th {\n",
       "        text-align: right;\n",
       "    }\n",
       "</style>\n",
       "<table border=\"1\" class=\"dataframe\">\n",
       "  <thead>\n",
       "    <tr style=\"text-align: right;\">\n",
       "      <th></th>\n",
       "      <th>description</th>\n",
       "    </tr>\n",
       "  </thead>\n",
       "  <tbody>\n",
       "    <tr>\n",
       "      <th>0</th>\n",
       "      <td>Wreckloose! Deevalley bike park laps on the @i...</td>\n",
       "    </tr>\n",
       "    <tr>\n",
       "      <th>1</th>\n",
       "      <td>🙌🏼 believe in ya dreams 🙌🏼 just like I believe...</td>\n",
       "    </tr>\n",
       "    <tr>\n",
       "      <th>2</th>\n",
       "      <td>#meraviglia #incensi #the #candele #profumo #a...</td>\n",
       "    </tr>\n",
       "    <tr>\n",
       "      <th>3</th>\n",
       "      <td>#teatime #scorpion #friends #love #mountains #...</td>\n",
       "    </tr>\n",
       "    <tr>\n",
       "      <th>4</th>\n",
       "      <td>thE sky gavE mE a #constEllation</td>\n",
       "    </tr>\n",
       "    <tr>\n",
       "      <th>...</th>\n",
       "      <td>...</td>\n",
       "    </tr>\n",
       "    <tr>\n",
       "      <th>9995</th>\n",
       "      <td>Godt med krypinn som dette stedet når kreativi...</td>\n",
       "    </tr>\n",
       "    <tr>\n",
       "      <th>9996</th>\n",
       "      <td>Så flott langs Akerselva, også i snøvær🔷\\n.\\n....</td>\n",
       "    </tr>\n",
       "    <tr>\n",
       "      <th>9997</th>\n",
       "      <td>NaN</td>\n",
       "    </tr>\n",
       "    <tr>\n",
       "      <th>9998</th>\n",
       "      <td>Nytt och vårligt i Oslo</td>\n",
       "    </tr>\n",
       "    <tr>\n",
       "      <th>9999</th>\n",
       "      <td>NaN</td>\n",
       "    </tr>\n",
       "  </tbody>\n",
       "</table>\n",
       "<p>10000 rows × 1 columns</p>\n",
       "</div>"
      ],
      "text/plain": [
       "                                            description\n",
       "0     Wreckloose! Deevalley bike park laps on the @i...\n",
       "1     🙌🏼 believe in ya dreams 🙌🏼 just like I believe...\n",
       "2     #meraviglia #incensi #the #candele #profumo #a...\n",
       "3     #teatime #scorpion #friends #love #mountains #...\n",
       "4                      thE sky gavE mE a #constEllation\n",
       "...                                                 ...\n",
       "9995  Godt med krypinn som dette stedet når kreativi...\n",
       "9996  Så flott langs Akerselva, også i snøvær🔷\\n.\\n....\n",
       "9997                                                NaN\n",
       "9998                            Nytt och vårligt i Oslo\n",
       "9999                                                NaN\n",
       "\n",
       "[10000 rows x 1 columns]"
      ]
     },
     "execution_count": 7,
     "metadata": {},
     "output_type": "execute_result"
    }
   ],
   "source": [
    "description =  pd.read_csv('~/instagram_posts.csv', delimiter=\"\\t\", usecols = ['description'], nrows=10000)\n",
    "description"
   ]
  },
  {
   "cell_type": "code",
   "execution_count": 9,
   "id": "2e8f8723",
   "metadata": {},
   "outputs": [
    {
     "name": "stdout",
     "output_type": "stream",
     "text": [
      "Collecting langdetect\n",
      "  Downloading langdetect-1.0.9.tar.gz (981 kB)\n",
      "     -------------------------------------- 981.5/981.5 kB 3.3 MB/s eta 0:00:00\n",
      "  Preparing metadata (setup.py): started\n",
      "  Preparing metadata (setup.py): finished with status 'done'\n",
      "Requirement already satisfied: six in c:\\users\\feder\\anaconda3\\envs\\myenv\\lib\\site-packages (from langdetect) (1.16.0)\n",
      "Building wheels for collected packages: langdetect\n",
      "  Building wheel for langdetect (setup.py): started\n",
      "  Building wheel for langdetect (setup.py): finished with status 'done'\n",
      "  Created wheel for langdetect: filename=langdetect-1.0.9-py3-none-any.whl size=993225 sha256=d49a123722ef700eeae58bea369426f36799d077cebd7f7dd96589d963e0136d\n",
      "  Stored in directory: c:\\users\\feder\\appdata\\local\\pip\\cache\\wheels\\13\\c7\\b0\\79f66658626032e78fc1a83103690ef6797d551cb22e56e734\n",
      "Successfully built langdetect\n",
      "Installing collected packages: langdetect\n",
      "Successfully installed langdetect-1.0.9\n"
     ]
    }
   ],
   "source": [
    "!pip install langdetect\n",
    "from langdetect import detect\n"
   ]
  },
  {
   "cell_type": "code",
   "execution_count": 10,
   "id": "36d393d3",
   "metadata": {},
   "outputs": [],
   "source": [
    "def detect_en(text): \n",
    "    try:\n",
    "        return detect(text) == 'en'\n",
    "    except: \n",
    "        return False"
   ]
  },
  {
   "cell_type": "code",
   "execution_count": 11,
   "id": "bdaf83ec",
   "metadata": {},
   "outputs": [],
   "source": [
    "description['Languagereveiw'] = description[description['description'].apply(detect_en)]"
   ]
  },
  {
   "cell_type": "code",
   "execution_count": 12,
   "id": "5dd8ec6f",
   "metadata": {},
   "outputs": [
    {
     "data": {
      "text/html": [
       "<div>\n",
       "<style scoped>\n",
       "    .dataframe tbody tr th:only-of-type {\n",
       "        vertical-align: middle;\n",
       "    }\n",
       "\n",
       "    .dataframe tbody tr th {\n",
       "        vertical-align: top;\n",
       "    }\n",
       "\n",
       "    .dataframe thead th {\n",
       "        text-align: right;\n",
       "    }\n",
       "</style>\n",
       "<table border=\"1\" class=\"dataframe\">\n",
       "  <thead>\n",
       "    <tr style=\"text-align: right;\">\n",
       "      <th></th>\n",
       "      <th>description</th>\n",
       "      <th>Languagereveiw</th>\n",
       "    </tr>\n",
       "  </thead>\n",
       "  <tbody>\n",
       "    <tr>\n",
       "      <th>0</th>\n",
       "      <td>Wreckloose! Deevalley bike park laps on the @i...</td>\n",
       "      <td>Wreckloose! Deevalley bike park laps on the @i...</td>\n",
       "    </tr>\n",
       "    <tr>\n",
       "      <th>1</th>\n",
       "      <td>🙌🏼 believe in ya dreams 🙌🏼 just like I believe...</td>\n",
       "      <td>🙌🏼 believe in ya dreams 🙌🏼 just like I believe...</td>\n",
       "    </tr>\n",
       "    <tr>\n",
       "      <th>2</th>\n",
       "      <td>#meraviglia #incensi #the #candele #profumo #a...</td>\n",
       "      <td>NaN</td>\n",
       "    </tr>\n",
       "    <tr>\n",
       "      <th>3</th>\n",
       "      <td>#teatime #scorpion #friends #love #mountains #...</td>\n",
       "      <td>#teatime #scorpion #friends #love #mountains #...</td>\n",
       "    </tr>\n",
       "    <tr>\n",
       "      <th>4</th>\n",
       "      <td>thE sky gavE mE a #constEllation</td>\n",
       "      <td>thE sky gavE mE a #constEllation</td>\n",
       "    </tr>\n",
       "    <tr>\n",
       "      <th>...</th>\n",
       "      <td>...</td>\n",
       "      <td>...</td>\n",
       "    </tr>\n",
       "    <tr>\n",
       "      <th>9995</th>\n",
       "      <td>Godt med krypinn som dette stedet når kreativi...</td>\n",
       "      <td>NaN</td>\n",
       "    </tr>\n",
       "    <tr>\n",
       "      <th>9996</th>\n",
       "      <td>Så flott langs Akerselva, også i snøvær🔷\\n.\\n....</td>\n",
       "      <td>NaN</td>\n",
       "    </tr>\n",
       "    <tr>\n",
       "      <th>9997</th>\n",
       "      <td>NaN</td>\n",
       "      <td>NaN</td>\n",
       "    </tr>\n",
       "    <tr>\n",
       "      <th>9998</th>\n",
       "      <td>Nytt och vårligt i Oslo</td>\n",
       "      <td>NaN</td>\n",
       "    </tr>\n",
       "    <tr>\n",
       "      <th>9999</th>\n",
       "      <td>NaN</td>\n",
       "      <td>NaN</td>\n",
       "    </tr>\n",
       "  </tbody>\n",
       "</table>\n",
       "<p>10000 rows × 2 columns</p>\n",
       "</div>"
      ],
      "text/plain": [
       "                                            description  \\\n",
       "0     Wreckloose! Deevalley bike park laps on the @i...   \n",
       "1     🙌🏼 believe in ya dreams 🙌🏼 just like I believe...   \n",
       "2     #meraviglia #incensi #the #candele #profumo #a...   \n",
       "3     #teatime #scorpion #friends #love #mountains #...   \n",
       "4                      thE sky gavE mE a #constEllation   \n",
       "...                                                 ...   \n",
       "9995  Godt med krypinn som dette stedet når kreativi...   \n",
       "9996  Så flott langs Akerselva, også i snøvær🔷\\n.\\n....   \n",
       "9997                                                NaN   \n",
       "9998                            Nytt och vårligt i Oslo   \n",
       "9999                                                NaN   \n",
       "\n",
       "                                         Languagereveiw  \n",
       "0     Wreckloose! Deevalley bike park laps on the @i...  \n",
       "1     🙌🏼 believe in ya dreams 🙌🏼 just like I believe...  \n",
       "2                                                   NaN  \n",
       "3     #teatime #scorpion #friends #love #mountains #...  \n",
       "4                      thE sky gavE mE a #constEllation  \n",
       "...                                                 ...  \n",
       "9995                                                NaN  \n",
       "9996                                                NaN  \n",
       "9997                                                NaN  \n",
       "9998                                                NaN  \n",
       "9999                                                NaN  \n",
       "\n",
       "[10000 rows x 2 columns]"
      ]
     },
     "execution_count": 12,
     "metadata": {},
     "output_type": "execute_result"
    }
   ],
   "source": [
    "description"
   ]
  },
  {
   "cell_type": "code",
   "execution_count": 33,
   "id": "e77a9d5b",
   "metadata": {},
   "outputs": [
    {
     "data": {
      "image/png": "[encoded data removed]",
      "text/plain": [
       "<Figure size 640x480 with 1 Axes>"
      ]
     },
     "metadata": {},
     "output_type": "display_data"
    }
   ],
   "source": [
    "wordcloud2 = WordCloud().generate(str(description['Languagereveiw'].dropna()))\n",
    "wordcloud2= WordCloud(background_color='black', width=2000, height=1200, max_words=300).generate(str(description['Languagereveiw'].dropna()))\n",
    "plt.title('WordCloud')\n",
    "plt.imshow(wordcloud2)\n",
    "plt.axis(\"off\")\n",
    "plt.show()"
   ]
  },
  {
   "cell_type": "markdown",
   "id": "916d1bf5",
   "metadata": {},
   "source": [
    "# Algorithmic Question"
   ]
  },
  {
   "cell_type": "code",
   "execution_count": 18,
   "id": "85e25a89",
   "metadata": {},
   "outputs": [],
   "source": [
    "\n",
    "def f2(sequence, start, end):\n",
    "    if start==end:\n",
    "        for i in range(end): \n",
    "            print(sequence[i])\n",
    "        print(\"\\n\")\n",
    "    else:\n",
    "        for i in range(start, end):\n",
    "            temp =sequence[start]\n",
    "            sequence[start] = sequence[i]\n",
    "            sequence[i] = temp\n",
    "            f2(sequence, start+1, end)\n",
    "            temp= sequence[start]\n",
    "            sequence[start] = sequence[i]\n",
    "            sequence[i]  =temp\n",
    "    "
   ]
  },
  {
   "cell_type": "code",
   "execution_count": 19,
   "id": "59bf976b",
   "metadata": {},
   "outputs": [
    {
     "name": "stdout",
     "output_type": "stream",
     "text": [
      "a\n",
      "b\n",
      "c\n",
      "\n",
      "\n",
      "a\n",
      "c\n",
      "b\n",
      "\n",
      "\n",
      "b\n",
      "a\n",
      "c\n",
      "\n",
      "\n",
      "b\n",
      "c\n",
      "a\n",
      "\n",
      "\n",
      "c\n",
      "b\n",
      "a\n",
      "\n",
      "\n",
      "c\n",
      "a\n",
      "b\n",
      "\n",
      "\n"
     ]
    }
   ],
   "source": [
    "lista = [\"a\",\"b\",\"c\"]\n",
    "n  = len(lista)\n",
    "f2(lista, 0, n)"
   ]
  },
  {
   "cell_type": "markdown",
   "id": "1d134c4d",
   "metadata": {},
   "source": [
    "the following algortimo is used to print the permutations of a set of elements. \n",
    "The permutations of a vector of n elements are obtained by calculating the permutations\n",
    "of the sub-vector of n-1 elements and then exchanging the n-th element with each element of the sub-vector."
   ]
  },
  {
   "cell_type": "markdown",
   "id": "72e86284",
   "metadata": {},
   "source": [
    "Let's take the first element, 'a'. The permutations of a single element are the same element, so it returns to.\n",
    "Now we take the next element, 'b', and insert it in all possible positions (i.e. only before 'a' and after 'a') for each permutation of 'a', which is only one, therefore:\n",
    "\n",
    "(b)a\n",
    "\n",
    "a(b)\n",
    "\n",
    "And these are the permutations of 'ab'. Now we take 'c', and for every permutation of 'ab' we insert 'c' in every possible position:\n",
    "\n",
    "(c)ba\n",
    "\n",
    "b(c)a\n",
    "\n",
    "ba(c)\n",
    "\n",
    "(c)ab\n",
    "\n",
    "a(c)b\n",
    "\n",
    "ab(c)"
   ]
  },
  {
   "cell_type": "markdown",
   "id": "a3689599",
   "metadata": {},
   "source": [
    "**What is asymptotically (i.e., we are asking for big-O complexity) the algorithm's running time as a function of N?**\n",
    "\n",
    "\n",
    "The number of permutations of n elements is equal to n!, that is to say : \n",
    "\n",
    "n × (n − 1) × (n − 2) × · · · × 2 × 1\n",
    "\n",
    "For example the permutations on 2 elements are 4, those on 3 elements\n",
    "there are 6, those on 4 elements are 24, and so on.\n",
    "\n",
    "\n",
    "The time complexity of the algorithm solution is O(n * n!). Since there are n! permutations for a string of length n, and each permutation takes O (n) times."
   ]
  },
  {
   "cell_type": "markdown",
   "id": "25c80cd7",
   "metadata": {},
   "source": [
    "#### Is this algorithm the optimal one to produce this output? If not, can you suggest a better algorithm to perform the same task?"
   ]
  },
  {
   "cell_type": "code",
   "execution_count": 74,
   "id": "35cca0b3",
   "metadata": {},
   "outputs": [
    {
     "name": "stdout",
     "output_type": "stream",
     "text": [
      "['ABC', 'ACB', 'BAC', 'BCA', 'CAB', 'CBA']\n"
     ]
    }
   ],
   "source": [
    "def permute1(seq):\n",
    "    if not seq:                               # Shuffle any sequence: list\n",
    "        return [seq]                          # Empty sequence\n",
    "    else:\n",
    "        res = []\n",
    "        for i in range(len(seq)):\n",
    "            rest = seq[:i] + seq[i+1:]        # Delete current node\n",
    "            for x in permute1(rest):          # Permute the others\n",
    "                res.append(seq[i:i+1] + x)    # Add node at front\n",
    "        return res\n",
    "    \n",
    "    \n",
    "print(permute1('ABC'))"
   ]
  },
  {
   "cell_type": "markdown",
   "id": "609549dd",
   "metadata": {},
   "source": [
    "# AQ2"
   ]
  },
  {
   "cell_type": "markdown",
   "id": "6b700932",
   "metadata": {},
   "source": [
    "Given a number n, the task is to break n in such a way that multiplication of its parts is maximized. "
   ]
  },
  {
   "cell_type": "markdown",
   "id": "e41a3981",
   "metadata": {},
   "source": [
    "Mathematically, we are given n and we need to maximize a1 * a2 * a3 …. * aK such that n = a1 + a2 + a3 … + aK and a1, a2, … ak > 0.\n",
    "Note that we need to break given Integer in at least two parts in this problem for maximizing the product."
   ]
  },
  {
   "cell_type": "markdown",
   "id": "e0b42d09",
   "metadata": {},
   "source": [
    "Now we know from maxima-minima concept that, If an integer need to break in two parts, then to maximize their product those part should be equal. Using this concept lets break n into (n/x) x’s then their product will be x(n/x), now if we take derivative of this product and make that equal to 0 for maxima, we will get to know that value of x should be e (base of the natural logarithm) for maximum product. As we know that 2 < e < 3, so we should break every Integer into 2 or 3 only for maximum product. \n",
    "Next thing is 6 = 3 + 3 = 2 + 2 + 2, but 3 * 3 > 2 * 2 * 2, that is every triplet of 2 can be replaced with tuple of 3 for maximum product, so we will keep breaking the number in terms of 3 only, until number remains as 4 or 2, which we will be broken into 2*2 (2*2 > 3*1) and 2 respectively and we will get our maximum product. \n",
    "In short, procedure to get maximum product is as follows – Try to break integer in power of 3 only and when integer remains small (<5) then use brute force. \n",
    "The complexity of below program is O(log N), because of repeated squaring power method. "
   ]
  },
  {
   "cell_type": "markdown",
   "id": "dc0aa2c3",
   "metadata": {},
   "source": [
    "### Implement a recursive algorithm to help Alex find the maximum possible value after multiplying the length of the pieces. Explain your algorithm in detail."
   ]
  },
  {
   "cell_type": "markdown",
   "id": "4f670685",
   "metadata": {},
   "source": [
    "Example: \n",
    "we are given n=4 and we want to know what's the maximum way we can break up 4 and we have to break up into at least two different integers to maximize the product of those integers and then return it.  One way we could break 4 up is to break up into 1 and 3. \n",
    "Another way to do it would be to do 2 and 2. The third way is to do is 3 and 1. \n",
    "the maximum product of the combo is 4. \n",
    "the base case is the integer 1 cause it cannot be broken anymore. \n",
    "integerBreak is a root function, dfs it's a recursive function defined inside the root. we're only going to pass the number we're breaking down. \n",
    "we gonna have a variable result that is initially set to 0. \n",
    "after we create a for loop because we're given a number num and we can break it up into many portions. we use a loop to determine how we're going to break it up. \n",
    "if we want the right value of the 2 number results we can take dfs with recursively call on each of the portion so i is the left portion multiplied by dfs of num-i because we want both of the portions to add up to the original which is num. \n",
    "we want the max value, so we apply the max function. \n",
    "we return result and then we can call dfs passing the original n"
   ]
  },
  {
   "cell_type": "code",
   "execution_count": 36,
   "id": "0bdecb9f",
   "metadata": {},
   "outputs": [],
   "source": [
    "def integerBreak1(n):\n",
    "    def dfs(num):\n",
    "        if num==1:\n",
    "            return 1 \n",
    "        if num==n:\n",
    "            res=0\n",
    "        else: \n",
    "            res=num\n",
    "        #res = 0 if num==n else num\n",
    "        for i in range(1,num):\n",
    "            val = dfs(i) * dfs(num-i)\n",
    "            res=max(res,val)\n",
    "        return res\n",
    "    return dfs(n)\n",
    "        "
   ]
  },
  {
   "cell_type": "code",
   "execution_count": 27,
   "id": "33e9c2a2",
   "metadata": {},
   "outputs": [
    {
     "data": {
      "text/plain": [
       "36"
      ]
     },
     "execution_count": 27,
     "metadata": {},
     "output_type": "execute_result"
    }
   ],
   "source": [
    "integerBreak1(10)"
   ]
  },
  {
   "cell_type": "code",
   "execution_count": 38,
   "id": "6fec246b",
   "metadata": {},
   "outputs": [
    {
     "name": "stdout",
     "output_type": "stream",
     "text": [
      "Running time 0.014114 s\n"
     ]
    }
   ],
   "source": [
    "import timeit\n",
    "import time \n",
    "from datetime import datetime \n",
    "\n",
    "t = timeit.timeit(lambda : integerBreak1(10) ,number= 1)\n",
    "print(\"Running time\", \"{0:.6f}\".format(t), \"s\")"
   ]
  },
  {
   "cell_type": "markdown",
   "id": "0cd47827",
   "metadata": {},
   "source": [
    "### Now provide a polynomial solution, based on dynamic programming, and compute its running-time complexity."
   ]
  },
  {
   "cell_type": "markdown",
   "id": "e6922b69",
   "metadata": {},
   "source": [
    "dynamic programming is an algorithm design technique based on dividing the problem into subproblems and using optimal substructures.\n",
    "\n",
    "In general, a problem with an optimal substructure can be solved using a three-step process:\n",
    "\n",
    "1. divide the problem into smaller subproblems;\n",
    "2. solve these problems optimally, using this three-step process recursively;\n",
    "3. use these optimal solutions to construct an optimal solution to the original problem.\n",
    "\n",
    "we're going to building from left to right (e.g. 1...n). The case 1 has already been computed so we should start at two and then work our way up until n+1 (n not included).\n",
    "we initilize dp of num, dp[num] is set to 0 if we are at the root value that we're trying to compute, but id we're not at that value the dp of that value can be at least the number itself. \n",
    "i is gonna be one portion, we wanna know for i what's the max product it could be and to get that we can use dp[i] instead of calling dfs because we know it's already been computed. If we're trying to compute tre dp value for 3 we know that dp of 2 and dp of 1 have already been computed. \n",
    "\n"
   ]
  },
  {
   "cell_type": "code",
   "execution_count": 39,
   "id": "cc40f267",
   "metadata": {},
   "outputs": [],
   "source": [
    "def integerBreak(n):\n",
    "    dp = {1:1}\n",
    "    for num in range(2, n+1): \n",
    "        dp[num] =0 if num ==n else num\n",
    "        for i in range(1,num):\n",
    "            val = dp[i] * dp[num-i]\n",
    "            dp[num] = max(dp[num], val)\n",
    "    return dp[n]\n",
    "            \n",
    "        \n",
    "        \n",
    "        \n",
    "        \n",
    "    def dfs(num):\n",
    "        if num==dp:\n",
    "            return dp[num] \n",
    "        dp[num] = 0 if num==n else num\n",
    "        for i in range(1,num):\n",
    "            val = dfs(i) * dfs(num-i)\n",
    "            dp[num]=max(dp[num],val)\n",
    "        return dp[num] \n",
    "    return dfs(n)\n",
    "        "
   ]
  },
  {
   "cell_type": "code",
   "execution_count": 98,
   "id": "e8961219",
   "metadata": {},
   "outputs": [
    {
     "data": {
      "text/plain": [
       "36"
      ]
     },
     "execution_count": 98,
     "metadata": {},
     "output_type": "execute_result"
    }
   ],
   "source": [
    "integerBreak(10)"
   ]
  },
  {
   "cell_type": "code",
   "execution_count": 40,
   "id": "3abf1879",
   "metadata": {},
   "outputs": [
    {
     "name": "stdout",
     "output_type": "stream",
     "text": [
      "Running time 0.000085 s\n"
     ]
    }
   ],
   "source": [
    "import timeit\n",
    "import time \n",
    "from datetime import datetime \n",
    "\n",
    "t = timeit.timeit(lambda : integerBreak(10) ,number= 1)\n",
    "print(\"Running time\", \"{0:.6f}\".format(t), \"s\")"
   ]
  },
  {
   "cell_type": "markdown",
   "id": "86bfa7c6",
   "metadata": {},
   "source": [
    "We note that the execution time is significantly lower"
   ]
  },
  {
   "cell_type": "markdown",
   "id": "03068b8b",
   "metadata": {},
   "source": [
    "### Evaluate the running time of your algorithm for the sizes (Ns) in the range of [2, 25], plot the results, and interpret it (if you have implemented two algorithms, please include both in the plot and compare them)."
   ]
  },
  {
   "cell_type": "code",
   "execution_count": 100,
   "id": "bf7baf24",
   "metadata": {},
   "outputs": [
    {
     "name": "stdout",
     "output_type": "stream",
     "text": [
      "tempo esecuzione 0.000010 s 2\n",
      "tempo esecuzione 0.000011 s 3\n",
      "tempo esecuzione 0.000013 s 4\n",
      "tempo esecuzione 0.000015 s 5\n",
      "tempo esecuzione 0.000016 s 6\n",
      "tempo esecuzione 0.000022 s 7\n",
      "tempo esecuzione 0.000024 s 8\n",
      "tempo esecuzione 0.000028 s 9\n",
      "tempo esecuzione 0.000032 s 10\n",
      "tempo esecuzione 0.000040 s 11\n",
      "tempo esecuzione 0.000044 s 12\n",
      "tempo esecuzione 0.000052 s 13\n",
      "tempo esecuzione 0.000059 s 14\n",
      "tempo esecuzione 0.000067 s 15\n",
      "tempo esecuzione 0.000087 s 16\n",
      "tempo esecuzione 0.000090 s 17\n",
      "tempo esecuzione 0.000098 s 18\n",
      "tempo esecuzione 0.000125 s 19\n",
      "tempo esecuzione 0.000139 s 20\n",
      "tempo esecuzione 0.000126 s 21\n",
      "tempo esecuzione 0.000137 s 22\n",
      "tempo esecuzione 0.000140 s 23\n",
      "tempo esecuzione 0.000151 s 24\n",
      "tempo esecuzione 0.000164 s 25\n",
      "24\n"
     ]
    },
    {
     "data": {
      "image/png": "[encoded data removed]",
      "text/plain": [
       "<Figure size 576x576 with 1 Axes>"
      ]
     },
     "metadata": {
      "needs_background": "light"
     },
     "output_type": "display_data"
    }
   ],
   "source": [
    "import os\n",
    "import numpy as np\n",
    "import matplotlib.pyplot as plt\n",
    "\n",
    "lst=[]\n",
    "for n in range(2,26):\n",
    "    t = timeit.timeit(lambda : integerBreak(n) ,number= 1)\n",
    "    print(\"tempo esecuzione\", \"{0:.6f}\".format(t), \"s\", n)\n",
    "    lst.append(t)\n",
    "    \n",
    "print(len(lst))\n",
    "x=[2,3,4,5,6,7,8,9,10,11,12,13,14,15,16,17,18,19,20,21,22,23,24,25]\n",
    "\n",
    "fig = plt.gcf()\n",
    "fig.set_size_inches(8, 8, forward=True)\n",
    "plt.barh(x, lst)\n",
    "\n",
    "for index, value in enumerate(lst): \n",
    "    plt.text(value, index+2, str(round(value,6)))\n",
    "\n",
    "plt.show()\n"
   ]
  },
  {
   "cell_type": "code",
   "execution_count": 104,
   "id": "483f95d9",
   "metadata": {},
   "outputs": [
    {
     "name": "stdout",
     "output_type": "stream",
     "text": [
      "TEMPO DI ESECUZIONE SECONDO ALGORITMO -- PD\n",
      "tempo esecuzione 0.000009 s 2\n",
      "tempo esecuzione 0.000009 s 3\n",
      "tempo esecuzione 0.000010 s 4\n",
      "tempo esecuzione 0.000014 s 5\n",
      "tempo esecuzione 0.000015 s 6\n",
      "tempo esecuzione 0.000024 s 7\n",
      "tempo esecuzione 0.000023 s 8\n",
      "tempo esecuzione 0.000026 s 9\n",
      "tempo esecuzione 0.000031 s 10\n",
      "tempo esecuzione 0.000037 s 11\n",
      "tempo esecuzione 0.000086 s 12\n",
      "tempo esecuzione 0.000083 s 13\n",
      "tempo esecuzione 0.000059 s 14\n",
      "tempo esecuzione 0.000069 s 15\n",
      "tempo esecuzione 0.000072 s 16\n",
      "tempo esecuzione 0.000078 s 17\n",
      "tempo esecuzione 0.000088 s 18\n",
      "tempo esecuzione 0.000097 s 19\n",
      "tempo esecuzione 0.000094 s 20\n",
      "tempo esecuzione 0.000105 s 21\n",
      "tempo esecuzione 0.000112 s 22\n",
      "tempo esecuzione 0.000124 s 23\n",
      "tempo esecuzione 0.000129 s 24\n",
      "tempo esecuzione 0.000145 s 25\n"
     ]
    },
    {
     "data": {
      "image/png": "[encoded data removed]",
      "text/plain": [
       "<Figure size 576x576 with 1 Axes>"
      ]
     },
     "metadata": {
      "needs_background": "light"
     },
     "output_type": "display_data"
    }
   ],
   "source": [
    "import os\n",
    "import numpy as np\n",
    "import matplotlib.pyplot as plt\n",
    "print(\"TEMPO DI ESECUZIONE SECONDO ALGORITMO -- PD\")\n",
    "lst=[]\n",
    "for n in range(2,26):\n",
    "    t = timeit.timeit(lambda : integerBreak(n) ,number= 1)\n",
    "    print(\"tempo esecuzione\", \"{0:.6f}\".format(t), \"s\", n)\n",
    "    lst.append(t)\n",
    "\n",
    "\n",
    "\n",
    "x= list(range(2,25+1))\n",
    "fig = plt.gcf()\n",
    "fig.set_size_inches(8, 8, forward=True)\n",
    "plt.barh(x, lst)\n",
    "for index, value in enumerate(lst): \n",
    "    plt.text(value, index+2, str(round(value,6)))\n",
    "\n",
    "plt.show()\n",
    "\n"
   ]
  },
  {
   "cell_type": "code",
   "execution_count": 41,
   "id": "2f8647be",
   "metadata": {},
   "outputs": [
    {
     "name": "stdout",
     "output_type": "stream",
     "text": [
      "RUNNING TIME FIRST ALGORITHM\n",
      "Running time 0.000015 s 2\n",
      "Running time 0.000017 s 3\n",
      "Running time 0.000031 s 4\n",
      "Running time 0.000082 s 5\n",
      "Running time 0.000227 s 6\n",
      "Running time 0.000697 s 7\n",
      "Running time 0.001883 s 8\n",
      "Running time 0.005022 s 9\n",
      "Running time 0.014477 s 10\n",
      "Running time 0.047512 s 11\n",
      "Running time 0.141593 s 12\n",
      "Running time 0.402218 s 13\n",
      "Running time 1.188505 s 14\n",
      "Running time 3.349321 s 15\n",
      "Running time 10.200515 s 16\n",
      "Running time 31.043483 s 17\n",
      "Running time 89.226298 s 18\n",
      "Running time 214.919879 s 19\n",
      "Running time 675.472484 s 20\n",
      "Running time 2027.306671 s 21\n"
     ]
    },
    {
     "ename": "KeyboardInterrupt",
     "evalue": "",
     "output_type": "error",
     "traceback": [
      "\u001b[1;31m---------------------------------------------------------------------------\u001b[0m",
      "\u001b[1;31mKeyboardInterrupt\u001b[0m                         Traceback (most recent call last)",
      "Input \u001b[1;32mIn [41]\u001b[0m, in \u001b[0;36m<cell line: 3>\u001b[1;34m()\u001b[0m\n\u001b[0;32m      2\u001b[0m lst2\u001b[38;5;241m=\u001b[39m[]\n\u001b[0;32m      3\u001b[0m \u001b[38;5;28;01mfor\u001b[39;00m n \u001b[38;5;129;01min\u001b[39;00m \u001b[38;5;28mrange\u001b[39m(\u001b[38;5;241m2\u001b[39m,\u001b[38;5;241m26\u001b[39m):\n\u001b[1;32m----> 4\u001b[0m     t \u001b[38;5;241m=\u001b[39m \u001b[43mtimeit\u001b[49m\u001b[38;5;241;43m.\u001b[39;49m\u001b[43mtimeit\u001b[49m\u001b[43m(\u001b[49m\u001b[38;5;28;43;01mlambda\u001b[39;49;00m\u001b[43m \u001b[49m\u001b[43m:\u001b[49m\u001b[43m \u001b[49m\u001b[43mintegerBreak1\u001b[49m\u001b[43m(\u001b[49m\u001b[43mn\u001b[49m\u001b[43m)\u001b[49m\u001b[43m \u001b[49m\u001b[43m,\u001b[49m\u001b[43mnumber\u001b[49m\u001b[38;5;241;43m=\u001b[39;49m\u001b[43m \u001b[49m\u001b[38;5;241;43m1\u001b[39;49m\u001b[43m)\u001b[49m\n\u001b[0;32m      5\u001b[0m     \u001b[38;5;28mprint\u001b[39m(\u001b[38;5;124m\"\u001b[39m\u001b[38;5;124mRunning time\u001b[39m\u001b[38;5;124m\"\u001b[39m, \u001b[38;5;124m\"\u001b[39m\u001b[38;5;132;01m{0:.6f}\u001b[39;00m\u001b[38;5;124m\"\u001b[39m\u001b[38;5;241m.\u001b[39mformat(t), \u001b[38;5;124m\"\u001b[39m\u001b[38;5;124ms\u001b[39m\u001b[38;5;124m\"\u001b[39m, n)\n\u001b[0;32m      6\u001b[0m     lst2\u001b[38;5;241m.\u001b[39mappend(t)\n",
      "File \u001b[1;32m~\\anaconda3\\envs\\myenv\\lib\\timeit.py:233\u001b[0m, in \u001b[0;36mtimeit\u001b[1;34m(stmt, setup, timer, number, globals)\u001b[0m\n\u001b[0;32m    230\u001b[0m \u001b[38;5;28;01mdef\u001b[39;00m \u001b[38;5;21mtimeit\u001b[39m(stmt\u001b[38;5;241m=\u001b[39m\u001b[38;5;124m\"\u001b[39m\u001b[38;5;124mpass\u001b[39m\u001b[38;5;124m\"\u001b[39m, setup\u001b[38;5;241m=\u001b[39m\u001b[38;5;124m\"\u001b[39m\u001b[38;5;124mpass\u001b[39m\u001b[38;5;124m\"\u001b[39m, timer\u001b[38;5;241m=\u001b[39mdefault_timer,\n\u001b[0;32m    231\u001b[0m            number\u001b[38;5;241m=\u001b[39mdefault_number, \u001b[38;5;28mglobals\u001b[39m\u001b[38;5;241m=\u001b[39m\u001b[38;5;28;01mNone\u001b[39;00m):\n\u001b[0;32m    232\u001b[0m     \u001b[38;5;124;03m\"\"\"Convenience function to create Timer object and call timeit method.\"\"\"\u001b[39;00m\n\u001b[1;32m--> 233\u001b[0m     \u001b[38;5;28;01mreturn\u001b[39;00m \u001b[43mTimer\u001b[49m\u001b[43m(\u001b[49m\u001b[43mstmt\u001b[49m\u001b[43m,\u001b[49m\u001b[43m \u001b[49m\u001b[43msetup\u001b[49m\u001b[43m,\u001b[49m\u001b[43m \u001b[49m\u001b[43mtimer\u001b[49m\u001b[43m,\u001b[49m\u001b[43m \u001b[49m\u001b[38;5;28;43mglobals\u001b[39;49m\u001b[43m)\u001b[49m\u001b[38;5;241;43m.\u001b[39;49m\u001b[43mtimeit\u001b[49m\u001b[43m(\u001b[49m\u001b[43mnumber\u001b[49m\u001b[43m)\u001b[49m\n",
      "File \u001b[1;32m~\\anaconda3\\envs\\myenv\\lib\\timeit.py:177\u001b[0m, in \u001b[0;36mTimer.timeit\u001b[1;34m(self, number)\u001b[0m\n\u001b[0;32m    175\u001b[0m gc\u001b[38;5;241m.\u001b[39mdisable()\n\u001b[0;32m    176\u001b[0m \u001b[38;5;28;01mtry\u001b[39;00m:\n\u001b[1;32m--> 177\u001b[0m     timing \u001b[38;5;241m=\u001b[39m \u001b[38;5;28;43mself\u001b[39;49m\u001b[38;5;241;43m.\u001b[39;49m\u001b[43minner\u001b[49m\u001b[43m(\u001b[49m\u001b[43mit\u001b[49m\u001b[43m,\u001b[49m\u001b[43m \u001b[49m\u001b[38;5;28;43mself\u001b[39;49m\u001b[38;5;241;43m.\u001b[39;49m\u001b[43mtimer\u001b[49m\u001b[43m)\u001b[49m\n\u001b[0;32m    178\u001b[0m \u001b[38;5;28;01mfinally\u001b[39;00m:\n\u001b[0;32m    179\u001b[0m     \u001b[38;5;28;01mif\u001b[39;00m gcold:\n",
      "File \u001b[1;32m<timeit-src>:6\u001b[0m, in \u001b[0;36minner\u001b[1;34m(_it, _timer, _stmt)\u001b[0m\n",
      "Input \u001b[1;32mIn [41]\u001b[0m, in \u001b[0;36m<lambda>\u001b[1;34m()\u001b[0m\n\u001b[0;32m      2\u001b[0m lst2\u001b[38;5;241m=\u001b[39m[]\n\u001b[0;32m      3\u001b[0m \u001b[38;5;28;01mfor\u001b[39;00m n \u001b[38;5;129;01min\u001b[39;00m \u001b[38;5;28mrange\u001b[39m(\u001b[38;5;241m2\u001b[39m,\u001b[38;5;241m26\u001b[39m):\n\u001b[1;32m----> 4\u001b[0m     t \u001b[38;5;241m=\u001b[39m timeit\u001b[38;5;241m.\u001b[39mtimeit(\u001b[38;5;28;01mlambda\u001b[39;00m : \u001b[43mintegerBreak1\u001b[49m\u001b[43m(\u001b[49m\u001b[43mn\u001b[49m\u001b[43m)\u001b[49m ,number\u001b[38;5;241m=\u001b[39m \u001b[38;5;241m1\u001b[39m)\n\u001b[0;32m      5\u001b[0m     \u001b[38;5;28mprint\u001b[39m(\u001b[38;5;124m\"\u001b[39m\u001b[38;5;124mRunning time\u001b[39m\u001b[38;5;124m\"\u001b[39m, \u001b[38;5;124m\"\u001b[39m\u001b[38;5;132;01m{0:.6f}\u001b[39;00m\u001b[38;5;124m\"\u001b[39m\u001b[38;5;241m.\u001b[39mformat(t), \u001b[38;5;124m\"\u001b[39m\u001b[38;5;124ms\u001b[39m\u001b[38;5;124m\"\u001b[39m, n)\n\u001b[0;32m      6\u001b[0m     lst2\u001b[38;5;241m.\u001b[39mappend(t)\n",
      "Input \u001b[1;32mIn [36]\u001b[0m, in \u001b[0;36mintegerBreak1\u001b[1;34m(n)\u001b[0m\n\u001b[0;32m     12\u001b[0m         res\u001b[38;5;241m=\u001b[39m\u001b[38;5;28mmax\u001b[39m(res,val)\n\u001b[0;32m     13\u001b[0m     \u001b[38;5;28;01mreturn\u001b[39;00m res\n\u001b[1;32m---> 14\u001b[0m \u001b[38;5;28;01mreturn\u001b[39;00m \u001b[43mdfs\u001b[49m\u001b[43m(\u001b[49m\u001b[43mn\u001b[49m\u001b[43m)\u001b[49m\n",
      "Input \u001b[1;32mIn [36]\u001b[0m, in \u001b[0;36mintegerBreak1.<locals>.dfs\u001b[1;34m(num)\u001b[0m\n\u001b[0;32m      9\u001b[0m \u001b[38;5;66;03m#res = 0 if num==n else num\u001b[39;00m\n\u001b[0;32m     10\u001b[0m \u001b[38;5;28;01mfor\u001b[39;00m i \u001b[38;5;129;01min\u001b[39;00m \u001b[38;5;28mrange\u001b[39m(\u001b[38;5;241m1\u001b[39m,num):\n\u001b[1;32m---> 11\u001b[0m     val \u001b[38;5;241m=\u001b[39m \u001b[43mdfs\u001b[49m\u001b[43m(\u001b[49m\u001b[43mi\u001b[49m\u001b[43m)\u001b[49m \u001b[38;5;241m*\u001b[39m dfs(num\u001b[38;5;241m-\u001b[39mi)\n\u001b[0;32m     12\u001b[0m     res\u001b[38;5;241m=\u001b[39m\u001b[38;5;28mmax\u001b[39m(res,val)\n\u001b[0;32m     13\u001b[0m \u001b[38;5;28;01mreturn\u001b[39;00m res\n",
      "Input \u001b[1;32mIn [36]\u001b[0m, in \u001b[0;36mintegerBreak1.<locals>.dfs\u001b[1;34m(num)\u001b[0m\n\u001b[0;32m      9\u001b[0m \u001b[38;5;66;03m#res = 0 if num==n else num\u001b[39;00m\n\u001b[0;32m     10\u001b[0m \u001b[38;5;28;01mfor\u001b[39;00m i \u001b[38;5;129;01min\u001b[39;00m \u001b[38;5;28mrange\u001b[39m(\u001b[38;5;241m1\u001b[39m,num):\n\u001b[1;32m---> 11\u001b[0m     val \u001b[38;5;241m=\u001b[39m dfs(i) \u001b[38;5;241m*\u001b[39m \u001b[43mdfs\u001b[49m\u001b[43m(\u001b[49m\u001b[43mnum\u001b[49m\u001b[38;5;241;43m-\u001b[39;49m\u001b[43mi\u001b[49m\u001b[43m)\u001b[49m\n\u001b[0;32m     12\u001b[0m     res\u001b[38;5;241m=\u001b[39m\u001b[38;5;28mmax\u001b[39m(res,val)\n\u001b[0;32m     13\u001b[0m \u001b[38;5;28;01mreturn\u001b[39;00m res\n",
      "    \u001b[1;31m[... skipping similar frames: integerBreak1.<locals>.dfs at line 11 (12 times)]\u001b[0m\n",
      "Input \u001b[1;32mIn [36]\u001b[0m, in \u001b[0;36mintegerBreak1.<locals>.dfs\u001b[1;34m(num)\u001b[0m\n\u001b[0;32m      9\u001b[0m \u001b[38;5;66;03m#res = 0 if num==n else num\u001b[39;00m\n\u001b[0;32m     10\u001b[0m \u001b[38;5;28;01mfor\u001b[39;00m i \u001b[38;5;129;01min\u001b[39;00m \u001b[38;5;28mrange\u001b[39m(\u001b[38;5;241m1\u001b[39m,num):\n\u001b[1;32m---> 11\u001b[0m     val \u001b[38;5;241m=\u001b[39m \u001b[43mdfs\u001b[49m(i) \u001b[38;5;241m*\u001b[39m dfs(num\u001b[38;5;241m-\u001b[39mi)\n\u001b[0;32m     12\u001b[0m     res\u001b[38;5;241m=\u001b[39m\u001b[38;5;28mmax\u001b[39m(res,val)\n\u001b[0;32m     13\u001b[0m \u001b[38;5;28;01mreturn\u001b[39;00m res\n",
      "\u001b[1;31mKeyboardInterrupt\u001b[0m: "
     ]
    }
   ],
   "source": [
    "print(\"RUNNING TIME FIRST ALGORITHM\")\n",
    "lst2=[]\n",
    "for n in range(2,26):\n",
    "    t = timeit.timeit(lambda : integerBreak1(n) ,number= 1)\n",
    "    print(\"Running time\", \"{0:.6f}\".format(t), \"s\", n)\n",
    "    lst2.append(t)\n"
   ]
  },
  {
   "cell_type": "markdown",
   "id": "d0ac8ccd",
   "metadata": {},
   "source": [
    "Due to exponential complexity it needed too much time to run up to 25, so we had to interrupt from the Kyeboard. "
   ]
  },
  {
   "cell_type": "code",
   "execution_count": 45,
   "id": "f68ab535",
   "metadata": {},
   "outputs": [
    {
     "name": "stdout",
     "output_type": "stream",
     "text": [
      "RUNNING TIME FIRST ALGORITHM\n",
      "Running time 0.000015 s 2\n",
      "Running time 0.000019 s 3\n",
      "Running time 0.000047 s 4\n",
      "Running time 0.000088 s 5\n",
      "Running time 0.000257 s 6\n",
      "Running time 0.000903 s 7\n",
      "Running time 0.002682 s 8\n",
      "Running time 0.013598 s 9\n",
      "Running time 0.025416 s 10\n",
      "Running time 0.065654 s 11\n",
      "Running time 0.124585 s 12\n",
      "Running time 0.451179 s 13\n",
      "Running time 1.266920 s 14\n"
     ]
    }
   ],
   "source": [
    "print(\"RUNNING TIME FIRST ALGORITHM\")\n",
    "lst3=[]\n",
    "for n in range(2,15):\n",
    "    t = timeit.timeit(lambda : integerBreak1(n) ,number= 1)\n",
    "    print(\"Running time\", \"{0:.6f}\".format(t), \"s\", n)\n",
    "    lst3.append(t)"
   ]
  },
  {
   "cell_type": "code",
   "execution_count": 46,
   "id": "d25bae0d",
   "metadata": {},
   "outputs": [
    {
     "data": {
      "image/png": "[encoded data removed]",
      "text/plain": [
       "<Figure size 800x800 with 1 Axes>"
      ]
     },
     "metadata": {},
     "output_type": "display_data"
    }
   ],
   "source": [
    "x= list(range(2,14+1))\n",
    "fig = plt.gcf()\n",
    "fig.set_size_inches(8, 8, forward=True)\n",
    "plt.barh(x, lst3, color = \"red\")\n",
    "for index, value in enumerate(lst3): \n",
    "    plt.text(value, index+2, str(round(value,6)))\n",
    "\n",
    "plt.show()"
   ]
  },
  {
   "cell_type": "code",
   "execution_count": null,
   "id": "a5aa4182",
   "metadata": {},
   "outputs": [],
   "source": []
  }
 ],
 "metadata": {
  "kernelspec": {
   "display_name": "Python 3 (ipykernel)",
   "language": "python",
   "name": "python3"
  },
  "language_info": {
   "codemirror_mode": {
    "name": "ipython",
    "version": 3
   },
   "file_extension": ".py",
   "mimetype": "text/x-python",
   "name": "python",
   "nbconvert_exporter": "python",
   "pygments_lexer": "ipython3",
   "version": "3.8.13"
  }
 },
 "nbformat": 4,
 "nbformat_minor": 5
}
